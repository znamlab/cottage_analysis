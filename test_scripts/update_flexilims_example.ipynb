{
 "cells": [
  {
   "cell_type": "code",
   "execution_count": null,
   "metadata": {},
   "outputs": [],
   "source": [
    "%reload_ext autoreload\n",
    "%autoreload 2\n",
    "\n",
    "import functools\n",
    "print = functools.partial(print, flush=True)\n",
    "\n",
    "import os\n",
    "import numpy as np\n",
    "import pandas as pd\n",
    "import matplotlib.pyplot as plt\n",
    "from pathlib import Path\n",
    "import pickle\n",
    "from glob import glob\n",
    "\n",
    "import flexiznam as flz\n",
    "from cottage_analysis.preprocessing import synchronisation\n",
    "from flexiznam.config import PARAMETERS"
   ]
  },
  {
   "cell_type": "code",
   "execution_count": null,
   "metadata": {},
   "outputs": [],
   "source": [
    "project = 'hey2_3d-vision_foodres_20220101'\n",
    "mouse = 'PZAH10.2f'\n",
    "session = 'S20230627'\n",
    "notes = {\"notes\":\n",
    "    {\"recording_params\": \"Single plane recording with zoom 1.3\",\n",
    "      \"recording_site\": \"V1, AM\"}\n",
    "    }\n",
    "\n",
    "flexilims_session = flz.get_flexilims_session(project_id=project)\n",
    "recordings = flz.get_children(\n",
    "    parent_name=f'{mouse}_{session}',\n",
    "    children_datatype='recording',\n",
    "    project_id=project,\n",
    ")\n",
    "for r in [recordings.name[0]]:     \n",
    "    recording = flz.get_entity(project_id=project,\n",
    "                               name=r)\n",
    "    harp_ds = flz.get_datasets(\n",
    "        flexilims_session=flexilims_session,\n",
    "        origin_name=recording.name,\n",
    "        dataset_type=\"harp\",\n",
    "        allow_multiple=False,\n",
    "        return_dataseries=False)\n",
    "    csv_files = glob(f'{Path(PARAMETERS[\"data_root\"][\"raw\"])}/{recording.path}/*.csv')\n",
    "    csv_dict = {}\n",
    "    for file in csv_files:\n",
    "        key = Path(file).stem\n",
    "        value = f'{key}.csv'\n",
    "        csv_dict[key] = value\n",
    "    harp_ds.csv_files = csv_dict\n",
    "    harp_ds.update_flexilims(mode='overwrite')\n",
    "    flz.update_entity(\n",
    "        datatype=\"recording\",\n",
    "        name=recording.name,\n",
    "        mode=\"update\",\n",
    "        attributes=notes,\n",
    "        flexilims_session=flexilims_session\n",
    "    )"
   ]
  },
  {
   "cell_type": "code",
   "execution_count": null,
   "metadata": {},
   "outputs": [],
   "source": []
  }
 ],
 "metadata": {
  "kernelspec": {
   "display_name": "2p_analysis_cottage",
   "language": "python",
   "name": "python3"
  },
  "language_info": {
   "codemirror_mode": {
    "name": "ipython",
    "version": 3
   },
   "file_extension": ".py",
   "mimetype": "text/x-python",
   "name": "python",
   "nbconvert_exporter": "python",
   "pygments_lexer": "ipython3",
   "version": "3.9.5"
  },
  "orig_nbformat": 4
 },
 "nbformat": 4,
 "nbformat_minor": 2
}
