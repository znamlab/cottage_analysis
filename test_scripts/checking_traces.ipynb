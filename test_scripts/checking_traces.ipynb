{
 "cells": [
  {
   "cell_type": "markdown",
   "metadata": {},
   "source": [
    "## This is code to look at raw traces and help diagnose problems. \n",
    "\n",
    "This notebook works  with the `2p-preprocess` environment"
   ]
  },
  {
   "cell_type": "code",
   "execution_count": null,
   "metadata": {},
   "outputs": [],
   "source": [
    "import numpy as np\n",
    "import pickle\n",
    "import os\n",
    "import matplotlib.pyplot as plt\n",
    "from  pathlib import Path\n",
    "from tqdm import tqdm\n",
    "import twop_preprocess.calcium as twop\n",
    "from tifffile import TiffFile\n",
    "from sklearn import mixture\n",
    "import flexiznam as flz\n",
    "from flexiznam.schema import Dataset\n"
   ]
  },
  {
   "cell_type": "code",
   "execution_count": null,
   "metadata": {},
   "outputs": [],
   "source": [
    "BASE = Path(\"/camp/lab/znamenskiyp/home/shared/projects/depth_mismatch_seq\")\n",
    "DATA  = Path(\"/camp/lab/znamenskiyp/data/instruments/raw_data/projects/depth_mismatch_seq/\")\n",
    "MOUSE = \"BRAC9057.4j\"\n",
    "SESSION = \"S20240517\"\n",
    "#RECORDING = \"R170256_KellerTube\"\n",
    "RECORDING = \"R152318_SpheresPermTubeReward\"\n",
    "\n"
   ]
  },
  {
   "cell_type": "code",
   "execution_count": null,
   "metadata": {},
   "outputs": [],
   "source": [
    "project = \"663214d08993fd0b6e6b5f1d\"\n",
    "session_name = f\"{MOUSE}_{SESSION}\"\n",
    "\n",
    "flexilims_session = flz.get_flexilims_session(project_id=project)\n",
    "\n",
    "exp_session = flz.get_entity(\n",
    "    datatype=\"session\", name=session_name, flexilims_session=flexilims_session\n",
    ")\n",
    "\n",
    "si_datasets = flz.get_datasets(\n",
    "    exp_session['id'],\n",
    "    dataset_type='suite2p_rois',\n",
    "    flexilims_session=flexilims_session\n",
    ")\n",
    "\n",
    "suite2p_dataset = si_datasets[0]"
   ]
  },
  {
   "cell_type": "code",
   "execution_count": null,
   "metadata": {},
   "outputs": [],
   "source": [
    "base_path = BASE / MOUSE / SESSION / \"suite2p_rois_0\"\n",
    "base_path"
   ]
  },
  {
   "cell_type": "code",
   "execution_count": null,
   "metadata": {},
   "outputs": [],
   "source": [
    "plane_list =  []\n",
    "for i in range(6):\n",
    "    plane_path =  base_path  /  f'plane{i}'\n",
    "    plane_list.append(plane_path)"
   ]
  },
  {
   "cell_type": "code",
   "execution_count": null,
   "metadata": {},
   "outputs": [],
   "source": [
    "def load_npy_files(directory):\n",
    "    npy_dict = {}\n",
    "    \n",
    "    # Iterate over all files in the directory\n",
    "    for filename in os.listdir(directory):\n",
    "        # Check if the file is a .npy file\n",
    "        if filename.endswith('.npy'):\n",
    "            # Create the full file path\n",
    "            file_path = os.path.join(directory, filename)\n",
    "            \n",
    "            # Load the .npy file\n",
    "            data = np.load(file_path, allow_pickle=True)\n",
    "            \n",
    "            # Use the filename without the extension as the key\n",
    "            key = os.path.splitext(filename)[0]\n",
    "            \n",
    "            # Store the data in the dictionary\n",
    "            npy_dict[key] = data\n",
    "    \n",
    "    return npy_dict"
   ]
  },
  {
   "cell_type": "code",
   "execution_count": null,
   "metadata": {},
   "outputs": [],
   "source": [
    "trace_list = []\n",
    "for i in tqdm(range(len(plane_list))):\n",
    "    trace  =  load_npy_files(plane_list[i])\n",
    "    trace_list.append(trace)"
   ]
  },
  {
   "cell_type": "code",
   "execution_count": null,
   "metadata": {},
   "outputs": [],
   "source": [
    "idx =  2\n",
    "trace_list[idx].keys()"
   ]
  },
  {
   "cell_type": "code",
   "execution_count": null,
   "metadata": {},
   "outputs": [],
   "source": [
    "trace_list[idx][\"F\"].shape"
   ]
  },
  {
   "cell_type": "markdown",
   "metadata": {},
   "source": [
    "## Plotting F"
   ]
  },
  {
   "cell_type": "code",
   "execution_count": null,
   "metadata": {},
   "outputs": [],
   "source": [
    "top = 3000\n",
    "fig = plt.figure(figsize=(30, 30), facecolor='w')\n",
    "ax = fig.add_subplot(111)\n",
    "\n",
    "subject = \"F\"\n",
    "\n",
    "for i in tqdm(range(20)):\n",
    "    ax.plot(trace_list[idx][subject][i, :]+(top*i))\n",
    "    ax.axhline(0+(top*i))\n",
    "\n",
    "fig.suptitle(f\"{subject} for {MOUSE}, {SESSION}, plane {idx}\", size = 50)"
   ]
  },
  {
   "cell_type": "code",
   "execution_count": null,
   "metadata": {},
   "outputs": [],
   "source": [
    "fig = plt.figure(figsize=(30, 10), facecolor='w')\n",
    "ax = fig.add_subplot(111)\n",
    "ax.plot(trace_list[idx][\"F\"][2, 5000:6000])"
   ]
  },
  {
   "cell_type": "markdown",
   "metadata": {},
   "source": [
    "## Finding out F0"
   ]
  },
  {
   "cell_type": "code",
   "execution_count": null,
   "metadata": {},
   "outputs": [],
   "source": [
    "trace_list[idx][\"f0_ast\"].shape"
   ]
  },
  {
   "cell_type": "code",
   "execution_count": null,
   "metadata": {},
   "outputs": [],
   "source": [
    "plt.hist(trace_list[idx][\"f0_ast\"])"
   ]
  },
  {
   "cell_type": "code",
   "execution_count": null,
   "metadata": {},
   "outputs": [],
   "source": [
    "\n",
    "\n",
    "for i in tqdm(range(len(trace_list))):\n",
    "    fig = plt.figure(figsize=(5, 2), facecolor='w')\n",
    "    ax = fig.add_subplot(111)\n",
    "    ax.hist(trace_list[i][\"f0_ast\"])"
   ]
  },
  {
   "cell_type": "markdown",
   "metadata": {},
   "source": [
    "##  After neuropil correction"
   ]
  },
  {
   "cell_type": "code",
   "execution_count": null,
   "metadata": {},
   "outputs": [],
   "source": [
    "top = 3000\n",
    "\n",
    "fig = plt.figure(figsize=(30, 30), facecolor='w')\n",
    "ax = fig.add_subplot(111)\n",
    "\n",
    "subject = \"Fast\"\n",
    "\n",
    "for i in tqdm(range(20)):\n",
    "    ax.plot(trace_list[idx][subject][i, :]+(top*i))\n",
    "    ax.axhline(0+(top*i))\n",
    "\n",
    "ax.axvline(15857)\n",
    "\n",
    "fig.suptitle(f\"{subject} for {MOUSE}, {SESSION}, plane {idx}\", size = 50)"
   ]
  },
  {
   "cell_type": "markdown",
   "metadata": {},
   "source": [
    "## And now plotting dff"
   ]
  },
  {
   "cell_type": "code",
   "execution_count": null,
   "metadata": {},
   "outputs": [],
   "source": [
    "top = 6\n",
    "fig = plt.figure(figsize=(30, 30), facecolor='w')\n",
    "ax = fig.add_subplot(111)\n",
    "\n",
    "subject = \"dff_ast\"\n",
    "\n",
    "for i in tqdm(range(20)):\n",
    "    ax.plot(trace_list[idx][subject][i, :]+(top*i))\n",
    "    ax.axhline(0+(top*i))\n",
    "\n",
    "ax.axvline(15857)\n",
    "\n",
    "\n",
    "fig.suptitle(f\"{subject} for {MOUSE}, {SESSION}, plane {idx}\", size = 50)"
   ]
  },
  {
   "cell_type": "code",
   "execution_count": null,
   "metadata": {},
   "outputs": [],
   "source": [
    "top = 1000\n",
    "fig = plt.figure(figsize=(30, 30), facecolor='w')\n",
    "ax = fig.add_subplot(111)\n",
    "\n",
    "subject = \"Fneu\"\n",
    "\n",
    "for i in tqdm(range(20)):\n",
    "    ax.plot(trace_list[idx][subject][i, :]+(top*i))\n",
    "    ax.axhline(0+(top*i))\n",
    "\n",
    "ax.axvline(15857)\n",
    "\n",
    "\n",
    "fig.suptitle(f\"{subject} for {MOUSE}, {SESSION}, plane {idx}\", size = 50)"
   ]
  },
  {
   "cell_type": "code",
   "execution_count": null,
   "metadata": {},
   "outputs": [],
   "source": [
    "trace_list[idx].keys()"
   ]
  },
  {
   "cell_type": "code",
   "execution_count": null,
   "metadata": {},
   "outputs": [],
   "source": [
    "ops = trace_list[idx]['ops'].item()"
   ]
  },
  {
   "cell_type": "code",
   "execution_count": null,
   "metadata": {},
   "outputs": [],
   "source": [
    "ops[\"correct_offset\"]"
   ]
  },
  {
   "cell_type": "markdown",
   "metadata": {},
   "source": [
    "## Calculating  $dF/F$ only for one recording  \n",
    "  \n",
    "We first split F and Fneu for all recordings, and then re-calculate dF/F and use that for new raster. "
   ]
  },
  {
   "cell_type": "code",
   "execution_count": null,
   "metadata": {},
   "outputs": [],
   "source": [
    "RECORDING = \"R154643_SpheresPermTubeReward\""
   ]
  },
  {
   "cell_type": "code",
   "execution_count": null,
   "metadata": {},
   "outputs": [],
   "source": [
    "base_path = BASE / MOUSE / SESSION / RECORDING / \"suite2p_traces_0\"\n",
    "base_path"
   ]
  },
  {
   "cell_type": "code",
   "execution_count": null,
   "metadata": {},
   "outputs": [],
   "source": [
    "data_path = DATA / MOUSE / SESSION / RECORDING"
   ]
  },
  {
   "cell_type": "code",
   "execution_count": null,
   "metadata": {},
   "outputs": [],
   "source": [
    "plane_list =  []\n",
    "for i in range(6):\n",
    "    plane_path =  base_path  /  f'plane{i}'\n",
    "    plane_list.append(plane_path)\n",
    "\n",
    "rec_trace_list = []\n",
    "for i in tqdm(range(len(plane_list))):\n",
    "    trace  =  load_npy_files(plane_list[i])\n",
    "    rec_trace_list.append(trace)\n"
   ]
  },
  {
   "cell_type": "code",
   "execution_count": null,
   "metadata": {},
   "outputs": [],
   "source": [
    "rec_trace_list[idx][\"F\"].shape"
   ]
  },
  {
   "cell_type": "markdown",
   "metadata": {},
   "source": [
    "### Estimate offset"
   ]
  },
  {
   "cell_type": "code",
   "execution_count": null,
   "metadata": {},
   "outputs": [],
   "source": [
    "n_components= 3\n",
    "\n",
    "# find the first tiff at the path\n",
    "tiffs = list(Path(data_path).glob(\"*.tif\"))\n",
    "if len(tiffs) == 0:\n",
    "    raise ValueError(f\"No tiffs found at {data_path}\")\n",
    "tiff = tiffs[0]\n",
    "# load the tiff using tifffile\n",
    "with TiffFile(tiff) as tif:\n",
    "    # get the first frame\n",
    "    frame = tif.asarray(key=0)\n",
    "# find the offset\n",
    "gmm = mixture.GaussianMixture(n_components=n_components, random_state=42).fit(\n",
    "    frame.reshape(-1, 1)\n",
    ")\n",
    "gmm_means = np.sort(gmm.means_[:, 0])"
   ]
  },
  {
   "cell_type": "code",
   "execution_count": null,
   "metadata": {},
   "outputs": [],
   "source": [
    "# Plot the GMM components\n",
    "x = np.linspace(min(frame.reshape(-1, 1)), max(frame.reshape(-1, 1)), 1000)\n",
    "logprob = gmm.score_samples(x)\n",
    "pdf = np.exp(logprob)\n",
    "print(pdf.shape)\n",
    "probs = gmm.predict_proba(x)\n",
    "print(probs.shape)\n",
    "pdf_individual = probs * pdf[:, np.newaxis]\n",
    "\n",
    "plt.plot(x, pdf, '-k', label='Total')\n",
    "plt.plot(x, pdf_individual, '--', label='Components')\n",
    "plt.legend(loc='best')\n",
    "\n",
    "plt.title(f'Gaussian Mixture Model Fit, {RECORDING}')\n",
    "plt.xlabel('Data')\n",
    "plt.ylabel('Density')\n",
    "plt.show()"
   ]
  },
  {
   "cell_type": "code",
   "execution_count": null,
   "metadata": {},
   "outputs": [],
   "source": [
    "plt.hist(frame.reshape(-1, 1), bins = 200)\n",
    "colors = [\"red\", \"green\", \"brown\"]\n",
    "for idx, mean in enumerate(gmm_means):\n",
    "    plt.axvline(mean,  color = colors[idx], alpha  = 0.2, label = f\"component_{idx}\")\n",
    "plt.title(f\"Histogram of values in first frame, n = {len(frame.reshape(-1, 1))}, {RECORDING}\")\n",
    "plt.legend()\n"
   ]
  },
  {
   "cell_type": "code",
   "execution_count": null,
   "metadata": {},
   "outputs": [],
   "source": [
    "recordings = [\"R154643_SpheresPermTubeReward\", \"R164953_KellerTube\", \"R171153_KellerTube_playback\", \"R172517_KellerTube\"]"
   ]
  },
  {
   "cell_type": "markdown",
   "metadata": {},
   "source": [
    "Let's check what is the variability recording to recording. "
   ]
  },
  {
   "cell_type": "code",
   "execution_count": null,
   "metadata": {},
   "outputs": [],
   "source": [
    "n_components= 3\n",
    "\n",
    "means =np.zeros((len(recordings), n_components))\n",
    "\n",
    "\n",
    "for i, recording in enumerate(recordings):\n",
    "    rec_data_path = DATA / MOUSE / SESSION / recording\n",
    "\n",
    "    # find the first tiff at the path\n",
    "    tiffs = list(Path(rec_data_path).glob(\"*.tif\"))\n",
    "    if len(tiffs) == 0:\n",
    "        raise ValueError(f\"No tiffs found at {rec_data_path}\")\n",
    "    tiff = tiffs[0]\n",
    "    # load the tiff using tifffile\n",
    "    with TiffFile(tiff) as tif:\n",
    "        # get the first frame\n",
    "        frame = tif.asarray(key=0)\n",
    "    # find the offset\n",
    "    gmm = mixture.GaussianMixture(n_components=n_components, random_state=42).fit(\n",
    "        frame.reshape(-1, 1)\n",
    "    )\n",
    "    gmm_means = np.sort(gmm.means_[:, 0])\n",
    "\n",
    "    means[i, :] = gmm_means"
   ]
  },
  {
   "cell_type": "code",
   "execution_count": null,
   "metadata": {},
   "outputs": [],
   "source": [
    "means"
   ]
  },
  {
   "cell_type": "markdown",
   "metadata": {},
   "source": [
    "##  Offset correction"
   ]
  },
  {
   "cell_type": "markdown",
   "metadata": {},
   "source": [
    "Okay, we offset-correct the traces, to eliminate possible issues step by step. Because we have four offsets, we chop the recording in four. "
   ]
  },
  {
   "cell_type": "code",
   "execution_count": null,
   "metadata": {},
   "outputs": [],
   "source": [
    "rec_lengths = list(np.zeros(len(recordings)))\n",
    "for index, recording in tqdm(enumerate(recordings)):\n",
    "    rec_base_path = BASE / MOUSE / SESSION / recording / \"suite2p_traces_0\"\n",
    "\n",
    "    plane_list =  []\n",
    "    for i in range(6):\n",
    "        plane_path =  rec_base_path  /  f'plane{i}'\n",
    "        plane_list.append(plane_path)\n",
    "\n",
    "    rec_trace_list = []\n",
    "    for i in tqdm(range(len(plane_list))):\n",
    "        trace  =  load_npy_files(plane_list[i])\n",
    "        rec_trace_list.append(trace)\n",
    "    \n",
    "    rec_lengths[index] =  rec_trace_list[idx][\"F\"].shape[1]\n"
   ]
  },
  {
   "cell_type": "code",
   "execution_count": null,
   "metadata": {},
   "outputs": [],
   "source": [
    "rec_intervals = np.zeros((len(rec_lengths), 2), dtype = int)\n",
    "\n",
    "for index, i in enumerate(rec_lengths):\n",
    "    if index == 0:\n",
    "        start = 0\n",
    "    else:\n",
    "        start = end+1\n",
    "    end = start+i\n",
    "    rec_intervals[index, :] = [int(start), int(end)]\n",
    "\n",
    "rec_intervals "
   ]
  },
  {
   "cell_type": "code",
   "execution_count": null,
   "metadata": {},
   "outputs": [],
   "source": [
    "Foffset = np.zeros_like(trace_list[idx][\"F\"])\n",
    "for start, end, offset in zip(rec_intervals[:, 0], rec_intervals[:, 1], means[:,0]):\n",
    "    Foffset[:, start:end] = trace_list[idx][\"F\"][:, start:end] - offset"
   ]
  },
  {
   "cell_type": "code",
   "execution_count": null,
   "metadata": {},
   "outputs": [],
   "source": [
    "Fneuoffset = np.zeros_like(trace_list[idx][\"Fneu\"])\n",
    "for start, end, offset in zip(rec_intervals[:, 0], rec_intervals[:, 1], means[:,0]):\n",
    "    Fneuoffset[:, start:end] = trace_list[idx][\"Fneu\"][:, start:end] - offset"
   ]
  },
  {
   "cell_type": "code",
   "execution_count": null,
   "metadata": {},
   "outputs": [],
   "source": [
    "top = 3000\n",
    "\n",
    "fig = plt.figure(figsize=(30, 30), facecolor='w')\n",
    "ax = fig.add_subplot(111)\n",
    "\n",
    "subject = \"Fast\"\n",
    "\n",
    "for i in tqdm(range(20)):\n",
    "    ax.plot(trace_list[idx][subject][i, :]+(top*i))\n",
    "    ax.axhline(0+(top*i))\n",
    "\n",
    "ax.axvline(15857)\n",
    "\n",
    "fig.suptitle(f\"{subject} for {MOUSE}, {SESSION}, plane {idx}\", size = 50)"
   ]
  },
  {
   "cell_type": "code",
   "execution_count": null,
   "metadata": {},
   "outputs": [],
   "source": [
    "top = 3000\n",
    "fig = plt.figure(figsize=(30, 30), facecolor='w')\n",
    "ax = fig.add_subplot(111)\n",
    "\n",
    "subject = \"Foffset\"\n",
    "\n",
    "for i in tqdm(range(20)):\n",
    "    ax.plot(Foffset[i, :]+(top*i))\n",
    "    ax.axhline(0+(top*i))\n",
    "\n",
    "ax.axvline(15857)\n",
    "\n",
    "\n",
    "fig.suptitle(f\"{subject} for {MOUSE}, {SESSION}, plane {idx}\", size = 50)"
   ]
  },
  {
   "cell_type": "code",
   "execution_count": null,
   "metadata": {},
   "outputs": [],
   "source": [
    "plt.plot(Foffset[4, :])"
   ]
  },
  {
   "cell_type": "markdown",
   "metadata": {},
   "source": [
    "##  Detrending. "
   ]
  },
  {
   "cell_type": "code",
   "execution_count": null,
   "metadata": {},
   "outputs": [],
   "source": [
    "fs =  suite2p_dataset.extra_attributes[\"fs\"] "
   ]
  },
  {
   "cell_type": "code",
   "execution_count": null,
   "metadata": {},
   "outputs": [],
   "source": [
    "def detrend(F, first_frames, last_frames, ops, fs):\n",
    "    \"\"\"\n",
    "    Detrend the concatenated fluorescence trace for each recording.\n",
    "\n",
    "    Args:\n",
    "        F (numpy.ndarray): shape nrois x time, raw fluorescence trace for all rois extracted from suite2p\n",
    "        first_frames (numpy.ndarray): shape nrecordings, first frame of each recording\n",
    "        last_frames (numpy.ndarray): shape nrecordings, last frame of each recording\n",
    "        ops (dict): dictionary of suite2p settings\n",
    "\n",
    "    Returns:\n",
    "        F (numpy.ndarray): shape nrois x time, detrended fluorescence trace for all rois extracted from suite2p\n",
    "\n",
    "    \"\"\"\n",
    "    win_frames = int(ops[\"detrend_win\"] * fs)\n",
    "    for i, (start, end) in enumerate(zip(first_frames, last_frames)):\n",
    "        rec_rolling_baseline  = np.zeros_like(F[:, start:end])\n",
    "        for j in range(F.shape[0]):\n",
    "            rolling_baseline = np.pad(\n",
    "                twop.rolling_percentile(\n",
    "                    F[j, start:end], \n",
    "                    win_frames,\n",
    "                    ops[\"detrend_pctl\"],\n",
    "                ),\n",
    "                (win_frames//2, win_frames//2 - 1),\n",
    "                mode='edge',\n",
    "            )\n",
    "\n",
    "            rec_rolling_baseline[j, :] = rolling_baseline\n",
    "\n",
    "        if i == 0:\n",
    "            first_recording_baseline = np.median(rec_rolling_baseline, axis = 1)\n",
    "            first_recording_baseline = first_recording_baseline.reshape(-1, 1)  \n",
    "        if ops[\"detrend_method\"] == \"subtract\":\n",
    "            F[:, start:end] -= rec_rolling_baseline - first_recording_baseline\n",
    "        else:\n",
    "            F[:, start:end] /= rec_rolling_baseline / first_recording_baseline\n",
    "    return F"
   ]
  },
  {
   "cell_type": "code",
   "execution_count": null,
   "metadata": {},
   "outputs": [],
   "source": [
    "F_throwaway = Foffset.copy()\n",
    "Fneu_throwaway =Fneuoffset.copy()\n",
    "Fdet = detrend(F_throwaway, rec_intervals[:, 0], rec_intervals[:, 1], ops, fs)\n",
    "Fneudet = detrend(Fneu_throwaway, rec_intervals[:, 0], rec_intervals[:, 1], ops, fs)"
   ]
  },
  {
   "cell_type": "code",
   "execution_count": null,
   "metadata": {},
   "outputs": [],
   "source": [
    "top = 3000\n",
    "fig = plt.figure(figsize=(30, 30), facecolor='w')\n",
    "ax = fig.add_subplot(111)\n",
    "\n",
    "subject = \"Fdet\"\n",
    "\n",
    "for i in tqdm(range(20)):\n",
    "    ax.plot(Fdet[i, :]+(top*i))\n",
    "    ax.axhline(0+(top*i))\n",
    "\n",
    "ax.axvline(15857)\n",
    "\n",
    "\n",
    "fig.suptitle(f\"{subject} for {MOUSE}, {SESSION}, plane {idx}\", size = 50)"
   ]
  },
  {
   "cell_type": "code",
   "execution_count": null,
   "metadata": {},
   "outputs": [],
   "source": [
    "plt.plot(Fdet[4, :])"
   ]
  },
  {
   "cell_type": "markdown",
   "metadata": {},
   "source": [
    "My duuuuuude"
   ]
  },
  {
   "cell_type": "code",
   "execution_count": null,
   "metadata": {},
   "outputs": [],
   "source": [
    "win_frames = int(ops[\"detrend_win\"] * fs)\n",
    "roll = twop.rolling_percentile(Foffset[4, :], win_frames, ops[\"detrend_pctl\"])\n",
    "plt.plot(roll)\n",
    "\n",
    "subject = (f\"Percentile {ops['detrend_pctl']} \")\n",
    "\n",
    "plt.axvline(15857, color =  \"red\", alpha = 0.5)\n",
    "\n",
    "plt.suptitle(f\"{subject} for {MOUSE}, {SESSION}, plane {idx}\")\n"
   ]
  },
  {
   "cell_type": "code",
   "execution_count": null,
   "metadata": {},
   "outputs": [],
   "source": [
    "reclist = list(np.zeros_like(rec_intervals[:,0]))\n",
    "for index,recording in enumerate(rec_intervals[0:2,]):\n",
    "    print(recording)\n",
    "    start = recording[0]\n",
    "    end = recording[1]\n",
    "    reclist[index] = trace_list[idx][\"F\"][:, start:end].reshape(-1)\n",
    "    plt.hist(reclist[index], alpha = 0.2, label=f\"Recording {index}\", bins = 200, density = True)\n",
    "\n",
    "plt.legend()\n",
    "\n",
    "#rec1 = trace_list[idx][\"F\"][:, ]"
   ]
  },
  {
   "cell_type": "code",
   "execution_count": null,
   "metadata": {},
   "outputs": [],
   "source": [
    "conflicts into overwrite, throw gpu thing with run to no"
   ]
  },
  {
   "cell_type": "code",
   "execution_count": null,
   "metadata": {},
   "outputs": [],
   "source": []
  }
 ],
 "metadata": {
  "kernelspec": {
   "language": "python"
  },
  "language_info": {
   "codemirror_mode": {
    "name": "ipython",
    "version": 3
   },
   "file_extension": ".py",
   "mimetype": "text/x-python",
   "name": "python",
   "nbconvert_exporter": "python",
   "pygments_lexer": "ipython3"
  }
 },
 "nbformat": 4,
 "nbformat_minor": 2
}
