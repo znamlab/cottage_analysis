{
 "cells": [
  {
   "cell_type": "code",
   "execution_count": null,
   "metadata": {},
   "outputs": [],
   "source": [
    "%reload_ext autoreload\n",
    "%autoreload 2\n",
    "\n",
    "import functools\n",
    "print = functools.partial(print, flush=True)\n",
    "\n",
    "import os\n",
    "import numpy as np\n",
    "import pandas as pd\n",
    "import matplotlib.pyplot as plt\n",
    "from pathlib import Path\n",
    "import pickle\n",
    "\n",
    "import flexiznam as flz\n",
    "from cottage_analysis.io_module import harp\n",
    "from cottage_analysis.preprocessing import find_frames\n",
    "from cottage_analysis.imaging.common import find_frames as find_img_frames\n",
    "from cottage_analysis.filepath import generate_filepaths\n",
    "from cottage_analysis.imaging.common import imaging_loggers_formatting as format_loggers\n",
    "from cottage_analysis.preprocessing import synchronisation\n",
    "from cottage_analysis.analysis import find_depth_neurons, fit_gaussian_blob\n",
    "from cottage_analysis.stimulus_structure import spheres_tube"
   ]
  },
  {
   "cell_type": "code",
   "execution_count": null,
   "metadata": {},
   "outputs": [],
   "source": [
    "# Example session\n",
    "project = 'hey2_3d-vision_foodres_20220101'\n",
    "mouse = 'PZAH8.2f'\n",
    "session = 'S20230126'\n",
    "RECORDING = 'R144331_SpheresPermTubeReward'\n",
    "protocol = 'SpheresPermTubeReward'\n",
    "MESSAGES = 'harpmessage.bin'\n",
    "flexilims_session = flz.get_flexilims_session(project_id=project)\n",
    "# all_protocol_recording_entries = generate_filepaths.get_all_recording_entries(project=project, \n",
    "#                                                                               mouse=mouse, \n",
    "#                                                                               session=session, \n",
    "#                                                                               protocol=protocol, \n",
    "#                                                                               flexilims_session=flexilims_session)\n",
    "\n",
    "# # DO NOT RUN THIS FUNCTION (TAKES 2hrs ish): to find monitor frames from photodiode signal\n",
    "# find_monitor_frames(project=project, \n",
    "#                     mouse=mouse, \n",
    "#                     session=session, \n",
    "#                     protocol=protocol, \n",
    "#                     all_protocol_recording_entries=None, \n",
    "#                     irecording=None, \n",
    "#                     flexilims_session=None)\n",
    "    "
   ]
  },
  {
   "cell_type": "code",
   "execution_count": null,
   "metadata": {},
   "outputs": [],
   "source": [
    "# Generate synchronisation dataframes\n",
    "vs_df =  synchronisation.generate_vs_df(project=project, \n",
    "                                        mouse=mouse, \n",
    "                                        session=session, \n",
    "                                        protocol=protocol, \n",
    "                                        irecording=0)\n",
    "trials_df, imaging_df = synchronisation.generate_trials_df(project=project, \n",
    "                                                           mouse=mouse, \n",
    "                                                           session=session, \n",
    "                                                           protocol=protocol, \n",
    "                                                           vs_df=vs_df, \n",
    "                                                           irecording=0)"
   ]
  },
  {
   "cell_type": "code",
   "execution_count": null,
   "metadata": {},
   "outputs": [],
   "source": [
    "# Find depth neurons and fit preferred depth\n",
    "neurons_df = find_depth_neurons.find_depth_neurons(\n",
    "    project=project, \n",
    "    mouse=mouse, \n",
    "    session=session, \n",
    "    protocol=\"SpheresPermTubeReward\", \n",
    "    rs_thr=0.2\n",
    ")\n",
    "\n",
    "neurons_df = find_depth_neurons.fit_preferred_depth(\n",
    "    project=project,\n",
    "    mouse=mouse,\n",
    "    session=session,\n",
    "    protocol=\"SpheresPermTubeReward\",\n",
    "    depth_min=0.02,\n",
    "    depth_max=20,\n",
    "    batch_num=10,\n",
    ")"
   ]
  },
  {
   "cell_type": "code",
   "execution_count": null,
   "metadata": {},
   "outputs": [],
   "source": [
    "neurons_df"
   ]
  },
  {
   "cell_type": "code",
   "execution_count": null,
   "metadata": {},
   "outputs": [],
   "source": [
    "# Fit gaussian blob to neuronal activity (THIS WILL ALSO TAKE QUITE LONG! SO STOP EARLIER AND CHECK A FEW CELLS)\n",
    "neurons_df = fit_gaussian_blob.fit_gaussian_blob(project=project, \n",
    "                  mouse=mouse, \n",
    "                  session=session, \n",
    "                  protocol=\"SpheresPermTubeReward\", \n",
    "                  rs_thr=0.01, \n",
    "                  param_range={'rs_min':0.005, 'rs_max':5, 'of_min':0.03, 'of_max':3000}, \n",
    "                  batch_num=1)"
   ]
  },
  {
   "cell_type": "code",
   "execution_count": null,
   "metadata": {},
   "outputs": [],
   "source": [
    "# Regenerate sphere stimuli\n",
    "(\n",
    "    rawdata_folder,\n",
    "    _,\n",
    "    _,\n",
    "    _,\n",
    "    _,\n",
    ") = generate_filepaths.generate_file_folders(\n",
    "    project=project,\n",
    "    mouse=mouse,\n",
    "    session=session,\n",
    "    protocol=protocol,\n",
    "    all_protocol_recording_entries=None,\n",
    "    recording_no=0,\n",
    ")\n",
    "\n",
    "param_log = pd.read_csv(rawdata_folder / \"NewParams.csv\")\n",
    "param_log = param_log.rename(\n",
    "    columns={\"Radius\": \"Depth\"}\n",
    ")\n",
    "\n",
    "output = spheres_tube.regenerate_frames(\n",
    "    frame_times=imaging_df['harptime_imaging_trigger'].values,\n",
    "    trials_df=trials_df,\n",
    "    vs_df=vs_df,\n",
    "    param_logger=param_log,\n",
    "    time_column=\"HarpTime\",\n",
    "    resolution=1,\n",
    "    sphere_size=10,\n",
    "    azimuth_limits=(-120, 120),\n",
    "    elevation_limits=(-40, 40),\n",
    "    verbose=True,\n",
    "    output_datatype=\"int16\",\n",
    "    output=None,\n",
    ")\n",
    "plt.imshow(output[708,:,:], origin='lower')"
   ]
  },
  {
   "cell_type": "code",
   "execution_count": null,
   "metadata": {},
   "outputs": [],
   "source": []
  }
 ],
 "metadata": {
  "kernelspec": {
   "display_name": "2p_analysis_cottage",
   "language": "python",
   "name": "python3"
  },
  "language_info": {
   "codemirror_mode": {
    "name": "ipython",
    "version": 3
   },
   "file_extension": ".py",
   "mimetype": "text/x-python",
   "name": "python",
   "nbconvert_exporter": "python",
   "pygments_lexer": "ipython3",
   "version": "3.9.5"
  },
  "orig_nbformat": 4
 },
 "nbformat": 4,
 "nbformat_minor": 2
}
