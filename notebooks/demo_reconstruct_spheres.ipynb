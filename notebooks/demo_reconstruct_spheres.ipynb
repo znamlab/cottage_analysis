{
 "cells": [
  {
   "cell_type": "code",
   "execution_count": null,
   "metadata": {},
   "outputs": [],
   "source": [
    "%reload_ext autoreload\n",
    "%autoreload 2\n",
    "\n",
    "import functools\n",
    "\n",
    "print = functools.partial(print, flush=True)\n",
    "\n",
    "import numpy as np\n",
    "import pandas as pd\n",
    "import matplotlib.pyplot as plt\n",
    "\n",
    "import flexiznam as flz\n",
    "from cottage_analysis.preprocessing import synchronisation\n",
    "from cottage_analysis.analysis import spheres"
   ]
  },
  {
   "cell_type": "code",
   "execution_count": null,
   "metadata": {},
   "outputs": [],
   "source": [
    "project = \"hey2_3d-vision_foodres_20220101\"\n",
    "session_name = \"PZAH6.4b_S20220419\"\n",
    "flexilims_session = flz.get_flexilims_session(project)\n",
    "exp_session = flz.get_entity(\n",
    "    datatype=\"session\", name=session_name, flexilims_session=flexilims_session\n",
    ")\n",
    "recording_type = \"two_photon\"\n",
    "recordings = flz.get_entities(\n",
    "    datatype=\"recording\",\n",
    "    origin_id=exp_session[\"id\"],\n",
    "    query_key=\"recording_type\",\n",
    "    query_value=recording_type,\n",
    "    flexilims_session=flexilims_session,\n",
    ")\n",
    "recording = flz.get_entity(\n",
    "    datatype=\"recording\",\n",
    "    name=recordings.iloc[0].name,\n",
    "    flexilims_session=flexilims_session,\n",
    ")\n",
    "\n",
    "vs_df = synchronisation.generate_vs_df(\n",
    "    recording=recording,\n",
    "    photodiode_protocol=2,\n",
    "    flexilims_session=None,\n",
    "    project=\"hey2_3d-vision_foodres_20220101\",\n",
    ")\n",
    "\n",
    "imaging_df = synchronisation.generate_imaging_df(\n",
    "    vs_df=vs_df,\n",
    "    recording=recording,\n",
    "    flexilims_session=flexilims_session,\n",
    "    filter_datasets={\"anatomical_only\": 3},\n",
    "    return_volumes=True,\n",
    ")\n",
    "\n",
    "imaging_df = spheres.format_imaging_df(recording=recording, imaging_df=imaging_df)\n",
    "\n",
    "trials_df = spheres.generate_trials_df(recording=recording, imaging_df=imaging_df)\n",
    "\n",
    "trials_df = spheres.search_param_log_trials(\n",
    "    recording=recording, trials_df=trials_df, flexilims_session=flexilims_session\n",
    ")\n",
    "\n",
    "harp_ds = flz.get_datasets(\n",
    "    flexilims_session=flexilims_session,\n",
    "    origin_name=recording.name,\n",
    "    dataset_type=\"harp\",\n",
    "    allow_multiple=False,\n",
    "    return_dataseries=False,\n",
    ")\n",
    "paramlog_path = harp_ds.path_full / harp_ds.csv_files[\"NewParams\"]\n",
    "param_log = pd.read_csv(paramlog_path)\n",
    "\n",
    "frames = spheres.regenerate_frames(\n",
    "    frame_times=imaging_df.imaging_harptime,\n",
    "    trials_df=trials_df,\n",
    "    vs_df=vs_df,\n",
    "    param_logger=param_log,\n",
    "    time_column=\"HarpTime\",\n",
    "    resolution=5,\n",
    "    sphere_size=10,\n",
    "    azimuth_limits=(-120, 120),\n",
    "    elevation_limits=(-40, 40),\n",
    "    verbose=True,\n",
    "    output_datatype=\"int16\",\n",
    "    output=None,\n",
    "    flip_x=True,\n",
    ")"
   ]
  },
  {
   "cell_type": "code",
   "execution_count": null,
   "metadata": {},
   "outputs": [],
   "source": [
    "from cottage_analysis.analysis import find_depth_neurons\n",
    "\n",
    "neurons_df = find_depth_neurons.find_depth_neurons(trials_df)"
   ]
  },
  {
   "cell_type": "code",
   "execution_count": null,
   "metadata": {},
   "outputs": [],
   "source": [
    "stimulus_frames = np.sum(frames, axis=(1, 2)) > 0\n",
    "dffs = np.concatenate(imaging_df.spks)\n",
    "dffs = dffs - np.mean(dffs[stimulus_frames, :], axis=0)\n",
    "stas = dffs.T @ np.roll(np.reshape(frames, (frames.shape[0], -1)), 1, axis=0)\n",
    "stas = np.reshape(stas, (stas.shape[0], *frames.shape[1:]))\n",
    "sum_frames = np.sum(frames, axis=0)\n",
    "roi = 179\n",
    "sta = stas[roi, :, :] / sum_frames\n",
    "vmax = np.quantile(sta[np.isfinite(sta)], 0.999)\n",
    "plt.imshow(sta, origin=\"lower\", vmin=-vmax, vmax=vmax, cmap=\"bwr\")"
   ]
  },
  {
   "cell_type": "code",
   "execution_count": null,
   "metadata": {},
   "outputs": [],
   "source": [
    "reg_xy = [20, 40, 80, 160, 320]\n",
    "reg_depth = [20, 40, 80, 160, 320]\n",
    "r2s = np.zeros((len(reg_xy), len(reg_depth), imaging_df.iloc[0].dffs.shape[1], 2))\n",
    "for i, reg_xy_ in enumerate(reg_xy):\n",
    "    for j, reg_depth_ in enumerate(reg_depth):\n",
    "        print(f\"reg_xy: {reg_xy_}, reg_depth: {reg_depth_}\")\n",
    "        coef, r2 = spheres.fit_3d_rfs(\n",
    "            imaging_df, frames[:, :, 24:], reg_xy=reg_xy_, reg_depth=reg_depth_\n",
    "        )\n",
    "        r2s[i, j, :, :] = r2"
   ]
  },
  {
   "cell_type": "code",
   "execution_count": null,
   "metadata": {},
   "outputs": [],
   "source": [
    "plt.imshow(np.mean(r2s[:, :, :, 1] > 0.01, axis=2), origin=\"lower\")\n",
    "plt.xticks(range(len(reg_depth)), reg_depth)\n",
    "plt.yticks(range(len(reg_xy)), reg_xy)\n",
    "plt.xlabel(\"reg_depth\")\n",
    "plt.ylabel(\"reg_xy\")\n",
    "plt.colorbar()\n",
    "plt.title(\"Fraction of neurons with R2>0.01\")"
   ]
  },
  {
   "cell_type": "code",
   "execution_count": null,
   "metadata": {},
   "outputs": [],
   "source": [
    "coef, r2 = spheres.fit_3d_rfs(\n",
    "    imaging_df, frames[:, :, 24:], reg_xy=40, reg_depth=80, shift_stim=2\n",
    ")\n",
    "coef_ipsi, r2_ipsi = spheres.fit_3d_rfs(\n",
    "    imaging_df, frames[:, :, :24], reg_xy=40, reg_depth=80, shift_stim=2\n",
    ")"
   ]
  },
  {
   "cell_type": "code",
   "execution_count": null,
   "metadata": {},
   "outputs": [],
   "source": [
    "np.mean(\n",
    "    r2[neurons_df.depth_neuron_anova_p < 0.001, 1]\n",
    "    > np.quantile(r2_ipsi[neurons_df.depth_neuron_anova_p < 0.001, 1], 0.95)\n",
    ")"
   ]
  },
  {
   "cell_type": "code",
   "execution_count": null,
   "metadata": {},
   "outputs": [],
   "source": [
    "depths = np.unique(imaging_df.depth)\n",
    "depths = depths[~np.isnan(depths)]\n",
    "depths = depths[depths > 0]\n",
    "depths = np.sort(depths)\n",
    "coef_mean = np.mean(np.stack(coef, axis=2), axis=2)\n",
    "\n",
    "roi = 179\n",
    "coef_fit, params = spheres.fit_3d_rfs_parametric(\n",
    "    coef_mean[:, roi][:, np.newaxis],\n",
    "    24,\n",
    "    frames.shape[1],\n",
    "    depths.shape[0],\n",
    "    model=\"gabor\",\n",
    ")\n",
    "\n",
    "c = np.reshape(coef_mean[:-1, roi], (depths.shape[0], frames.shape[1], 24))\n",
    "c_fit = np.reshape(coef_fit[:-1, 0], (depths.shape[0], frames.shape[1], 24))\n",
    "\n",
    "plt.figure(figsize=(5, 4))\n",
    "vmax = np.max(np.abs(c))\n",
    "for idepth, depth in enumerate(depths):\n",
    "    plt.subplot(len(depths), 2, (idepth * 2) + 1)\n",
    "    plt.imshow(c[idepth, :, :], origin=\"lower\", vmin=-vmax, vmax=vmax, cmap=\"bwr\")\n",
    "    plt.axis(\"off\")\n",
    "    plt.subplot(len(depths), 2, (idepth * 2) + 2)\n",
    "    plt.imshow(c_fit[idepth, :, :], origin=\"lower\", vmin=-vmax, vmax=vmax, cmap=\"bwr\")\n",
    "    plt.axis(\"off\")"
   ]
  },
  {
   "cell_type": "code",
   "execution_count": null,
   "metadata": {},
   "outputs": [],
   "source": []
  }
 ],
 "metadata": {
  "kernelspec": {
   "display_name": "cottage_analysis",
   "language": "python",
   "name": "python3"
  },
  "language_info": {
   "codemirror_mode": {
    "name": "ipython",
    "version": 3
   },
   "file_extension": ".py",
   "mimetype": "text/x-python",
   "name": "python",
   "nbconvert_exporter": "python",
   "pygments_lexer": "ipython3",
   "version": "3.11.0"
  },
  "orig_nbformat": 4
 },
 "nbformat": 4,
 "nbformat_minor": 2
}
