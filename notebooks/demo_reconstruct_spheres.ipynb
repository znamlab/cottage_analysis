{
 "cells": [
  {
   "cell_type": "code",
   "execution_count": null,
   "metadata": {},
   "outputs": [],
   "source": [
    "%reload_ext autoreload\n",
    "%autoreload 2\n",
    "\n",
    "import functools\n",
    "\n",
    "print = functools.partial(print, flush=True)\n",
    "\n",
    "import numpy as np\n",
    "import pandas as pd\n",
    "import matplotlib.pyplot as plt\n",
    "\n",
    "import flexiznam as flz\n",
    "from cottage_analysis.preprocessing import synchronisation\n",
    "from cottage_analysis.analysis import spheres, sta, find_depth_neurons\n",
    "from cottage_analysis.plotting import sta_plots, basic_vis_plots\n"
   ]
  },
  {
   "cell_type": "code",
   "execution_count": null,
   "metadata": {},
   "outputs": [],
   "source": [
    "project='hey2_3d-vision_foodres_20220101'\n",
    "session_name='PZAH10.2f_S20230727'\n",
    "flexilims_session = flz.get_flexilims_session(project)\n",
    "# vs_df_all, trials_df_all = spheres.sync_all_recordings(\n",
    "#     session_name=session_name,\n",
    "#     flexilims_session=flexilims_session,\n",
    "#     project=project,\n",
    "#     filter_datasets={\"anatomical_only\": 3},\n",
    "#     recording_type=\"two_photon\",\n",
    "#     protocol_base=\"SpheresPermTubeReward\",\n",
    "#     photodiode_protocol=5,\n",
    "#     return_volumes=True,\n",
    "# )\n",
    "# Regenerating frames for all recordings\n",
    "frames_all, imaging_df_all = spheres.regenerate_frames_all_recordings(\n",
    "    session_name=session_name,\n",
    "    flexilims_session=flexilims_session,\n",
    "    project=None,\n",
    "    filter_datasets={\"anatomical_only\": 3},\n",
    "    recording_type=\"two_photon\",\n",
    "    protocol_base=\"SpheresPermTubeReward\",\n",
    "    photodiode_protocol=5,\n",
    "    return_volumes=True,\n",
    "    resolution=5,\n",
    ")\n"
   ]
  },
  {
   "cell_type": "code",
   "execution_count": null,
   "metadata": {},
   "outputs": [],
   "source": [
    "from cottage_analysis.analysis import find_depth_neurons, pipeline_utils\n",
    "neurons_ds = pipeline_utils.create_neurons_ds(\n",
    "    session_name=session_name,\n",
    "    flexilims_session=flexilims_session,\n",
    "    project=project,\n",
    "    conflicts=\"skip\",\n",
    ")\n",
    "neurons_df = pd.read_pickle(neurons_ds.path_full)\n",
    "\n",
    "\n",
    "coef, r2, best_reg_xys, best_reg_depths  = spheres.fit_3d_rfs_hyperparam_tuning(imaging_df_all, \n",
    "                                                frames_all[:,:,int(frames_all.shape[2]//2):], \n",
    "                                                reg_xys=[20, 40, 80, 160, 320], \n",
    "                                                reg_depths=[20, 40, 80, 160, 320], \n",
    "                                                shift_stims=2, \n",
    "                                                use_col=\"dffs\", \n",
    "                                                k_folds=5, \n",
    "                                                tune_separately=True, \n",
    "                                                validation=False)\n",
    "\n",
    "coef_ipsi, r2_ipsi = spheres.fit_3d_rfs_ipsi(\n",
    "    imaging_df_all,\n",
    "    frames_all[:,:,:int(frames_all.shape[2]//2)],\n",
    "    best_reg_xys,\n",
    "    best_reg_depths,\n",
    "    shift_stims=2,\n",
    "    use_col=\"dffs\",\n",
    "    k_folds=5,\n",
    "    validation=False,\n",
    ")\n"
   ]
  },
  {
   "cell_type": "code",
   "execution_count": null,
   "metadata": {},
   "outputs": [],
   "source": [
    "roi = 179\n",
    "stas = sta.sta(frames_all, np.concatenate(imaging_df_all.spks))\n",
    "sta_plots.plot_sta(stas, roi)\n",
    "plt.colorbar()"
   ]
  },
  {
   "cell_type": "code",
   "execution_count": null,
   "metadata": {},
   "outputs": [],
   "source": [
    "verbose=False\n",
    "imaging_df = imaging_df_all\n",
    "dffs = np.concatenate(imaging_df_all.dffs)\n",
    "delays = [-1/15*4, -1/15*2, -1/15*1,0, 1/15*1, 1/15*2, 1/15*4]\n",
    "frame_rate=15\n",
    "\n",
    "full_stas, ndelays, ndepths = sta.sta_by_depth(frames=frames_all, dffs=np.concatenate(imaging_df_all.dffs), imaging_df=imaging_df_all, delays=delays, frame_rate=15, verbose=True)\n",
    "\n",
    "    "
   ]
  },
  {
   "cell_type": "code",
   "execution_count": null,
   "metadata": {},
   "outputs": [],
   "source": [
    "plt.figure(figsize=(3*len(delays),15))\n",
    "for idelay in range(len(delays)):\n",
    "    this_sta = full_stas[idelay,roi,:,:,:]\n",
    "    vmax = np.quantile(this_sta[np.isfinite(this_sta)], .999)\n",
    "    for i in range(5):  \n",
    "        plt.subplot2grid((5,len(delays)), (i,idelay))\n",
    "        plt.imshow(this_sta[i], origin='lower', vmin=-vmax, vmax=vmax, cmap='bwr')\n",
    "        plt.colorbar()"
   ]
  },
  {
   "cell_type": "code",
   "execution_count": null,
   "metadata": {},
   "outputs": [],
   "source": [
    "stimulus_frames = np.sum(frames, axis=(1,2)) > 0\n",
    "dffs = np.concatenate(imaging_df.spks)\n",
    "dffs = dffs - np.mean(dffs[stimulus_frames, :], axis=0)\n",
    "stas = dffs.T @ np.roll(np.reshape(frames, (frames.shape[0], -1)), 1, axis=0)\n",
    "stas = np.reshape(stas, (stas.shape[0], *frames.shape[1:]))\n",
    "sum_frames = np.sum(frames, axis=0)\n",
    "roi = 179\n",
    "sta = stas[roi, :, :] / sum_frames\n",
    "vmax = np.quantile(sta[np.isfinite(sta)], .999)\n",
    "plt.imshow(sta, origin='lower', vmin=-vmax, vmax=vmax, cmap='bwr')"
   ]
  },
  {
   "cell_type": "code",
   "execution_count": null,
   "metadata": {},
   "outputs": [],
   "source": [
    "sig, sig_ipsi = spheres.find_sig_rfs(coef, coef_ipsi, n_std=5)\n",
    "np.mean(sig), np.mean(sig_ipsi)\n"
   ]
  },
  {
   "cell_type": "code",
   "execution_count": null,
   "metadata": {},
   "outputs": [],
   "source": [
    "select_rois = [352, 456, 272, 281, 285, 287, 531, 539, 530]\n",
    "# [352, 456, 272, 281, 285, 287, 531, 539, 530]\n",
    "plt.figure(figsize=(3*len(select_rois),3*6))\n",
    "depth_list = find_depth_neurons.find_depth_list(trials_df_all)\n",
    "coef_mean = np.mean(np.stack(coef, axis=2), axis=2)\n",
    "fitted_sta = coef_mean[:-1,:].reshape(5, 16, 24, coef_mean.shape[1])\n",
    "    \n",
    "for iroi, roi in enumerate(select_rois):  \n",
    "    # sta_plots.basic_vis_sta(coef, neurons_df, trials_df, depth_list, frames, roi, plot_rows=6, plot_cols=1, plot_y=0, fontsize_dict={\"title\": 10, \"tick\": 10, \"label\": 10})\n",
    "    vmax = np.quantile(fitted_sta[:,:,:,roi], .999)\n",
    "\n",
    "    plt.subplot2grid((6,len(select_rois)), (0,iroi), rowspan=1, colspan=1)\n",
    "    basic_vis_plots.plot_depth_tuning_curve(\n",
    "        neurons_df=neurons_df,\n",
    "        trials_df=trials_df_all,\n",
    "        roi=roi,\n",
    "        rs_thr=0.2,\n",
    "        plot_fit=False,\n",
    "        linewidth=3,\n",
    "        linecolor=\"k\",\n",
    "        fit_linecolor=\"r\",\n",
    "        closed_loop=1,\n",
    "        fontsize_dict={\"title\": 10, \"tick\": 10, \"label\": 10},\n",
    "    )\n",
    "    \n",
    "    for i in range(len(depth_list)):\n",
    "        plt.subplot2grid((6,len(select_rois)), (i+1,iroi), rowspan=1, colspan=1)\n",
    "        plt.imshow(fitted_sta[i,:,:,roi], origin='lower', vmax=vmax, vmin=-vmax, cmap='bwr', extent=[0,120,-40,40], aspect='equal')\n",
    "        # plt.colorbar()\n",
    "    \n",
    "        if i==0:\n",
    "            plt.title(f\"best xy {best_reg_xys[roi]}, best depth {best_reg_depths[roi]}\")\n",
    "plt.tight_layout()    \n",
    "# VERSION=1\n",
    "# save_root = '/camp/lab/znamenskiyp/home/shared/presentations/SfN2023/ver'+str(VERSION)+'/STA/'\n",
    "# import os\n",
    "# os.makedirs(save_root, exist_ok=True)\n",
    "# plt.savefig(save_root+\"example_stas.pdf\", bbox_inches=\"tight\")\n"
   ]
  },
  {
   "cell_type": "code",
   "execution_count": null,
   "metadata": {},
   "outputs": [],
   "source": [
    "plt.imshow(np.mean(r2s[:,:,:,1]>.01, axis=2), origin='lower')\n",
    "plt.xticks(range(len(reg_depth)), reg_depth)\n",
    "plt.yticks(range(len(reg_xy)), reg_xy)\n",
    "plt.xlabel('reg_depth')\n",
    "plt.ylabel('reg_xy')\n",
    "plt.colorbar()\n",
    "plt.title('Fraction of neurons with R2>0.01')"
   ]
  }
 ],
 "metadata": {
  "kernelspec": {
   "display_name": "cottage_analysis",
   "language": "python",
   "name": "python3"
  },
  "language_info": {
   "codemirror_mode": {
    "name": "ipython",
    "version": 3
   },
   "file_extension": ".py",
   "mimetype": "text/x-python",
   "name": "python",
   "nbconvert_exporter": "python",
   "pygments_lexer": "ipython3",
   "version": "3.9.5"
  },
  "orig_nbformat": 4
 },
 "nbformat": 4,
 "nbformat_minor": 2
}
