{
 "cells": [
  {
   "cell_type": "markdown",
   "id": "following-geology",
   "metadata": {
    "pycharm": {
     "name": "#%% md\n"
    }
   },
   "source": [
    "# Lighthouse calibration\n",
    "\n",
    "The aim is to change the coordinates of the lighthouse from arbitrary to \"Arena\" coordinates"
   ]
  },
  {
   "cell_type": "code",
   "execution_count": 4,
   "id": "divided-subsection",
   "metadata": {
    "pycharm": {
     "name": "#%%\n"
    }
   },
   "outputs": [],
   "source": [
    "# imports\n",
    "%matplotlib inline\n",
    "import os\n",
    "import cv2\n",
    "import numpy as np\n",
    "import matplotlib.pyplot as plt\n",
    "import pandas as pd\n",
    "from pathlib import Path"
   ]
  },
  {
   "cell_type": "code",
   "execution_count": 8,
   "id": "governing-advancement",
   "metadata": {
    "pycharm": {
     "name": "#%%\n"
    }
   },
   "outputs": [],
   "source": [
    "# find the data\n",
    "data_root = Path('/camp/lab/znamenskiyp/data/instruments/raw_data/projects/blota_onix_pilote/calibration/old')\n",
    "save_root = Path('/camp/lab/znamenskiyp/home/shared/projects/blota_onix_calibration/')\n",
    "folders = dict(origin='origin_lighthouse',\n",
    "              right='origin_100_0_lighthouse',\n",
    "              bottom='origin_0_100_lighthouse',\n",
    "              above='origin_z814_lightouse')"
   ]
  },
  {
   "cell_type": "code",
   "execution_count": 11,
   "id": "southern-bedroom",
   "metadata": {
    "pycharm": {
     "name": "#%%\n"
    }
   },
   "outputs": [
    {
     "data": {
      "text/plain": [
       "['video_two_2021-09-27T11_40_49.avi',\n",
       " 'lighthouse_matrix2_origin_2021-09-27T11_40_48.dat',\n",
       " 'lighthouse2_timestamps_2021-09-27T11_40_48.csv',\n",
       " 'camera_two_timestamps_2021-09-27T11_40_48.csv',\n",
       " 'lighthouse1_timestamps_2021-09-27T11_40_48.csv',\n",
       " 'lighthouse_matrix1_origin_2021-09-27T11_40_48.dat']"
      ]
     },
     "execution_count": 11,
     "metadata": {},
     "output_type": "execute_result"
    }
   ],
   "source": [
    "os.listdir(data_root / 'origin_lighthouse')"
   ]
  },
  {
   "cell_type": "code",
   "execution_count": 3,
   "id": "figured-strategy",
   "metadata": {
    "pycharm": {
     "name": "#%%\n"
    }
   },
   "outputs": [
    {
     "ename": "FileNotFoundError",
     "evalue": "[Errno 2] No such file or directory: '/camp/lab/znamenskiyp/data/instruments/raw_data/projects/blota_onix_pilote/calibration/lighthouse_matrix2_floorplane_2021-09-28T10_26_20.dat'",
     "output_type": "error",
     "traceback": [
      "\u001B[0;31m---------------------------------------------------------------------------\u001B[0m",
      "\u001B[0;31mFileNotFoundError\u001B[0m                         Traceback (most recent call last)",
      "\u001B[0;32m<ipython-input-3-ac1161df225e>\u001B[0m in \u001B[0;36m<module>\u001B[0;34m\u001B[0m\n\u001B[1;32m      1\u001B[0m \u001B[0;31m# load floor plane data to check if it's flat\u001B[0m\u001B[0;34m\u001B[0m\u001B[0;34m\u001B[0m\u001B[0;34m\u001B[0m\u001B[0m\n\u001B[1;32m      2\u001B[0m \u001B[0mfpath\u001B[0m \u001B[0;34m=\u001B[0m \u001B[0mdata_root\u001B[0m \u001B[0;34m/\u001B[0m \u001B[0;34m'lighthouse_matrix2_floorplane_2021-09-28T10_26_20.dat'\u001B[0m\u001B[0;34m\u001B[0m\u001B[0;34m\u001B[0m\u001B[0m\n\u001B[0;32m----> 3\u001B[0;31m \u001B[0mdata\u001B[0m \u001B[0;34m=\u001B[0m \u001B[0mnp\u001B[0m\u001B[0;34m.\u001B[0m\u001B[0mfromfile\u001B[0m\u001B[0;34m(\u001B[0m\u001B[0mfpath\u001B[0m\u001B[0;34m,\u001B[0m \u001B[0mdtype\u001B[0m\u001B[0;34m=\u001B[0m\u001B[0;34m'double'\u001B[0m\u001B[0;34m)\u001B[0m\u001B[0;34m\u001B[0m\u001B[0;34m\u001B[0m\u001B[0m\n\u001B[0m\u001B[1;32m      4\u001B[0m \u001B[0mdata\u001B[0m \u001B[0;34m=\u001B[0m \u001B[0mdata\u001B[0m\u001B[0;34m.\u001B[0m\u001B[0mreshape\u001B[0m\u001B[0;34m(\u001B[0m\u001B[0;34m[\u001B[0m\u001B[0;34m-\u001B[0m\u001B[0;36m1\u001B[0m\u001B[0;34m,\u001B[0m\u001B[0;36m3\u001B[0m\u001B[0;34m]\u001B[0m\u001B[0;34m)\u001B[0m\u001B[0;34m\u001B[0m\u001B[0;34m\u001B[0m\u001B[0m\n",
      "\u001B[0;31mFileNotFoundError\u001B[0m: [Errno 2] No such file or directory: '/camp/lab/znamenskiyp/data/instruments/raw_data/projects/blota_onix_pilote/calibration/lighthouse_matrix2_floorplane_2021-09-28T10_26_20.dat'"
     ]
    }
   ],
   "source": [
    "# load floor plane data to check if it's flat\n",
    "fpath = data_root / 'lighthouse_matrix2_floorplane_2021-09-28T10_26_20.dat'\n",
    "data = np.fromfile(fpath, dtype='double')\n",
    "data = data.reshape([-1,3])"
   ]
  },
  {
   "cell_type": "code",
   "execution_count": null,
   "id": "entitled-persian",
   "metadata": {
    "pycharm": {
     "name": "#%%\n"
    }
   },
   "outputs": [],
   "source": [
    "fig = plt.figure(figsize=(10,10))\n",
    "ax = fig.add_subplot(2,2,1, projection='3d')\n",
    "ax.scatter(data[:,0], data[:,1], data[:,2], c=data[:,2],s=5)\n",
    "ax.view_init(elev=10., azim=145)\n",
    "ax = fig.add_subplot(2,2,2, projection='3d')\n",
    "ax.scatter(data[:,0], data[:,1], data[:,2],c=data[:,2], s=5)\n",
    "ax.view_init(elev=10., azim=15)\n",
    "\n",
    "ax = fig.add_subplot(2,2,3)\n",
    "ax.scatter(data[:,0], data[:,1], c=data[:,2], s=10)\n",
    "ax = fig.add_subplot(2,2,4)\n",
    "ax.scatter(data[:,0], data[:,2], c=data[:,1], s=10)"
   ]
  },
  {
   "cell_type": "code",
   "execution_count": null,
   "id": "crucial-georgia",
   "metadata": {
    "pycharm": {
     "name": "#%%\n"
    }
   },
   "outputs": [],
   "source": [
    "# same with a longer recording with the mouse\n",
    "example_dir = data_root / '..' / 'tracking' / 'mouse_in_arena_210928'\n",
    "\n",
    "data_files = ('lighthouse_matrix1_2021-09-28T14_17_34.dat',\n",
    "              'lighthouse_matrix2_2021-09-28T14_17_34.dat')\n",
    "\n",
    "matrix = []\n",
    "for fname in data_files:\n",
    "    data = np.fromfile(example_dir/fname, dtype='double')\n",
    "    data = data.reshape([-1,3])\n",
    "    print(data.shape)\n",
    "    matrix.append(data)\n",
    "data = np.vstack(matrix)\n",
    "data.shape"
   ]
  },
  {
   "cell_type": "code",
   "execution_count": null,
   "id": "spoken-eleven",
   "metadata": {
    "pycharm": {
     "name": "#%%\n"
    }
   },
   "outputs": [],
   "source": [
    "fig = plt.figure(figsize=(10,10))\n",
    "ax = fig.add_subplot(2,2,1, projection='3d')\n",
    "ax.scatter(data[:,0], data[:,1], data[:,2], c=data[:,2],s=5)\n",
    "ax.view_init(elev=10., azim=145)\n",
    "ax = fig.add_subplot(2,2,2, projection='3d')\n",
    "ax.scatter(data[:,0], data[:,1], data[:,2],c=data[:,2], s=5)\n",
    "ax.view_init(elev=10., azim=15)\n",
    "\n",
    "ax = fig.add_subplot(2,3,4)\n",
    "ax.scatter(data[:,0], data[:,1], c=data[:,2], s=10)\n",
    "ax.set_ylabel('Y')\n",
    "ax.set_xlabel('X')\n",
    "ax = fig.add_subplot(2,3,5)\n",
    "ax.scatter(data[:,0], data[:,2], c=data[:,2], s=10)\n",
    "ax.set_xlabel('X')\n",
    "ax.set_ylabel('Z')\n",
    "ax = fig.add_subplot(2,3,6)\n",
    "ax.scatter(data[:,1], data[:,2], c=data[:,2], s=10)\n",
    "ax.set_xlabel('Y')\n",
    "ax.set_ylabel('Z')"
   ]
  },
  {
   "cell_type": "markdown",
   "id": "coordinate-supervisor",
   "metadata": {
    "pycharm": {
     "name": "#%% md\n"
    }
   },
   "source": [
    "## Load the data\n",
    "\n",
    "I have a recording with the headstage in 4 positions. Load them all and take the median position of the two lighthouses."
   ]
  },
  {
   "cell_type": "code",
   "execution_count": null,
   "id": "surgical-graduation",
   "metadata": {
    "scrolled": true,
    "pycharm": {
     "name": "#%%\n"
    }
   },
   "outputs": [],
   "source": [
    "coordinates = dict()\n",
    "for name, folder in folders.items():\n",
    "    fnames = os.listdir(data_root / folder)\n",
    "    coordinates[name] = dict()\n",
    "    for lindex in (1, 2):\n",
    "        dat = [n for n in fnames if n.startswith('lighthouse_matrix%d'%lindex)]\n",
    "        assert len(dat) == 1\n",
    "        dat = dat[0]\n",
    "        data = np.fromfile(data_root / folder / dat, dtype='double')\n",
    "        data = data.reshape([-1, 3])\n",
    "        # take the median\n",
    "        data = np.nanmedian(data, axis=0)\n",
    "        coordinates[name]['lighthouse%d'%lindex] = data\n",
    "coordinates = pd.DataFrame(coordinates)"
   ]
  },
  {
   "cell_type": "markdown",
   "id": "spatial-saver",
   "metadata": {
    "pycharm": {
     "name": "#%% md\n"
    }
   },
   "source": [
    "The two lighthouse signals (i.e. the two photodiode) should have constant distance, let's look at that"
   ]
  },
  {
   "cell_type": "code",
   "execution_count": null,
   "id": "rural-medium",
   "metadata": {
    "pycharm": {
     "name": "#%%\n"
    }
   },
   "outputs": [],
   "source": [
    "delta = coordinates.loc['lighthouse1'] - coordinates.loc['lighthouse2']\n",
    "av_delta = np.nanmedian([delta[d] for d in ('right', 'above', 'bottom')], axis=0)\n",
    "std_delta = np.nanstd([delta[d] for d in ('right', 'above', 'bottom')], axis=0)\n",
    "print(std_delta)"
   ]
  },
  {
   "cell_type": "markdown",
   "id": "affiliated-mouth",
   "metadata": {
    "pycharm": {
     "name": "#%% md\n"
    }
   },
   "source": [
    "For the lighthouse2, the origin is nan. The data wasn't streamed at all. Replace that by what is expected from the delta measure"
   ]
  },
  {
   "cell_type": "code",
   "execution_count": null,
   "id": "phantom-lobby",
   "metadata": {
    "pycharm": {
     "name": "#%%\n"
    }
   },
   "outputs": [],
   "source": [
    "coordinates.loc['lighthouse2', 'origin'] = coordinates.loc['lighthouse1', 'origin'] - av_delta\n",
    "coordinates"
   ]
  },
  {
   "cell_type": "markdown",
   "id": "coordinate-fireplace",
   "metadata": {
    "pycharm": {
     "name": "#%% md\n"
    }
   },
   "source": [
    "## Subtract origin\n",
    "\n",
    "First find the origin and subtract it."
   ]
  },
  {
   "cell_type": "code",
   "execution_count": null,
   "id": "supposed-ethnic",
   "metadata": {
    "pycharm": {
     "name": "#%%\n"
    }
   },
   "outputs": [],
   "source": [
    "from copy import deepcopy\n",
    "\n",
    "origin = coordinates.loc['lighthouse1', 'origin']\n",
    "x1_pts = coordinates.loc['lighthouse1', 'right']\n",
    "y1_pts = coordinates.loc['lighthouse1', 'bottom']\n",
    "z1_pts = coordinates.loc['lighthouse1', 'above']\n",
    "centered = deepcopy(coordinates.copy(deep=True))\n",
    "for p in centered:\n",
    "    centered.loc['lighthouse1', p] = centered.loc['lighthouse1', p]-origin\n",
    "    centered.loc['lighthouse2', p] -= origin\n",
    "centered"
   ]
  },
  {
   "cell_type": "code",
   "execution_count": null,
   "id": "devoted-gender",
   "metadata": {
    "pycharm": {
     "name": "#%%\n"
    }
   },
   "outputs": [],
   "source": []
  },
  {
   "cell_type": "markdown",
   "id": "phantom-mechanics",
   "metadata": {
    "pycharm": {
     "name": "#%% md\n"
    }
   },
   "source": [
    "## Rotate\n",
    "\n",
    "We have a new basis given by right, bottom, above. I want to change basis. \n",
    "\n",
    "For the vector right of origin for instance, we have\n",
    "$\\begin{bmatrix}\n",
    "           x_{original} \\\\\n",
    "           y_{original} \\\\\n",
    "           z_{original}\n",
    "  \\end{bmatrix} =  \\gamma_{right} \\begin{bmatrix}\n",
    "           1_{new} \\\\\n",
    "           0_{new} \\\\\n",
    "           0_{new}\n",
    "  \\end{bmatrix}\n",
    "$, where $\\gamma$ is the length of the new vector in real world unit. \n",
    "\n",
    "Which means that the new basis, $$\\begin{bmatrix}\n",
    "           1, 0, 0 \\\\\n",
    "           0, 1, 0 \\\\\n",
    "           0, 0, 1\n",
    "  \\end{bmatrix}_{new} = \\begin{bmatrix}\n",
    "           \\frac{x_{right}}{\\gamma_{right}}, \\frac{x_{bottom}}{\\gamma_{bottom}}, \\frac{x_{above}}{\\gamma_{above}} \\\\\n",
    "           \\frac{y_{right}}{\\gamma_{right}}, \\frac{y_{bottom}}{\\gamma_{bottom}}, \\frac{y_{above}}{\\gamma_{above}} \\\\\n",
    "           \\frac{z_{right}}{\\gamma_{right}}, \\frac{z_{bottom}}{\\gamma_{bottom}}, \\frac{z_{above}}{\\gamma_{above}},\n",
    "  \\end{bmatrix} = A$$\n",
    "\n",
    "Then for any point, $\\phi_{original} = A \\phi_{new}$. This is trivially true for $\\phi_{new} = (1, 0, 0)$, where  $\\phi_{original}$ is the first column of $A$. Conversly, $\\phi_{new} = A^{-1} \\phi_{original}$\n",
    "\n",
    "So I want to create a transformation matrix by concatenating the vector and dividing them by their length. Then invert it to get the transformation in the direction of interest."
   ]
  },
  {
   "cell_type": "code",
   "execution_count": null,
   "id": "proprietary-investigator",
   "metadata": {
    "pycharm": {
     "name": "#%%\n"
    }
   },
   "outputs": [],
   "source": [
    "A_new2old = np.vstack(centered.loc['lighthouse1'])[1:,:].T\n",
    "A_new2old[:,0] /= 10\n",
    "A_new2old[:,1] /= 10\n",
    "A_new2old[:,2] /= 8.14\n",
    "print('New to old transformation matrix')\n",
    "print(A_new2old)\n",
    "A_old2new = np.matrix(np.linalg.inv(A_new2old))\n",
    "\n",
    "print('\\nOld to new transformation matrix')\n",
    "print(A_old2new)\n"
   ]
  },
  {
   "cell_type": "code",
   "execution_count": null,
   "id": "applied-reward",
   "metadata": {
    "pycharm": {
     "name": "#%%\n"
    }
   },
   "outputs": [],
   "source": [
    "# save the output:\n",
    "np.savez(save_root / 'lighthouse_calibration.npz', origin=origin, A_light2world=A_old2new, A_world2light=A_new2old)"
   ]
  },
  {
   "cell_type": "code",
   "execution_count": null,
   "id": "prepared-metropolitan",
   "metadata": {
    "pycharm": {
     "name": "#%%\n"
    }
   },
   "outputs": [],
   "source": [
    "centered.loc['lighthouse2', p]"
   ]
  },
  {
   "cell_type": "code",
   "execution_count": null,
   "id": "developed-allen",
   "metadata": {
    "pycharm": {
     "name": "#%%\n"
    }
   },
   "outputs": [],
   "source": [
    "# Trivial check:\n",
    "for p in centered:\n",
    "    print('Original vector for %s lighthouse1: %s' % (p, centered.loc['lighthouse1', p]))\n",
    "    print('    In new coordinates: %s' % (np.round(np.dot(A_old2new, centered.loc['lighthouse1', p]), 3)))\n",
    "print('\\n')\n",
    "    \n",
    "for p in centered:\n",
    "    print('Original vector for %s lighthouse2: %s' % (p, centered.loc['lighthouse2', p]))\n",
    "    print('    In new coordinates: %s' % (np.round(np.dot(A_old2new, centered.loc['lighthouse2', p]), 3)))"
   ]
  },
  {
   "cell_type": "markdown",
   "id": "soviet-mouse",
   "metadata": {
    "pycharm": {
     "name": "#%% md\n"
    }
   },
   "source": [
    "# Use it\n",
    "\n",
    "Load an example file and apply the transform"
   ]
  },
  {
   "cell_type": "code",
   "execution_count": null,
   "id": "raised-model",
   "metadata": {
    "pycharm": {
     "name": "#%%\n"
    }
   },
   "outputs": [],
   "source": [
    "# load the data\n",
    "ex_dir = data_root / '..' / 'example_2boxes'\n",
    "data = np.fromfile(ex_dir / 'lighthouse_matrix2_2021-09-27T12_08_25.dat', dtype='double')\n",
    "data = data.reshape([-1, 3])\n",
    "\n",
    "# center\n",
    "cdata = data - origin\n",
    "\n",
    "# rotate\n",
    "rdata = np.array(np.matmul(A_old2new, cdata.T)).T"
   ]
  },
  {
   "cell_type": "code",
   "execution_count": null,
   "id": "prescription-doctor",
   "metadata": {
    "pycharm": {
     "name": "#%%\n"
    }
   },
   "outputs": [],
   "source": [
    "fig = plt.figure(figsize=(10,6))\n",
    "\n",
    "ax = fig.add_subplot(2,3,1, aspect='equal')\n",
    "ax.set_title('Original x/y')\n",
    "ax.scatter(data[:,0], data[:,1], c=data[:,2], s=1)\n",
    "ax = fig.add_subplot(2,3,2)\n",
    "ax.set_title('Original x/z')\n",
    "ax.scatter(data[:,0], data[:,2], c=data[:,2], s=1)\n",
    "ax = fig.add_subplot(2,3,3)\n",
    "ax.set_title('Original y/z')\n",
    "ax.scatter(data[:,1], data[:,2], c=data[:,2], s=1)\n",
    "\n",
    "\n",
    "ax = fig.add_subplot(2,3,4, aspect='equal')\n",
    "ax.set_title('New x/y')\n",
    "ax.scatter(rdata[:,0], rdata[:,1], c=rdata[:,2], s=1)\n",
    "ax.set_xlim(rdata[:,0].min(), rdata[:,0].max())\n",
    "ax = fig.add_subplot(2,3,5)\n",
    "ax.set_title('New x/z')\n",
    "ax.scatter(rdata[:,0], rdata[:,2], c=rdata[:,2], s=1)\n",
    "ax = fig.add_subplot(2,3,6)\n",
    "ax.set_title('New y/z')\n",
    "ax.scatter(rdata[:,1], rdata[:,2], c=rdata[:,2], s=1)"
   ]
  },
  {
   "cell_type": "markdown",
   "id": "accepting-citizenship",
   "metadata": {
    "pycharm": {
     "name": "#%% md\n"
    }
   },
   "source": [
    "# Transform real recording"
   ]
  },
  {
   "cell_type": "code",
   "execution_count": null,
   "id": "efficient-typing",
   "metadata": {
    "pycharm": {
     "name": "#%%\n"
    }
   },
   "outputs": [],
   "source": [
    "# same with a longer recording with the mouse\n",
    "example_dir = data_root / '..' / 'tracking' / 'mouse_in_arena_210928'\n",
    "\n",
    "data_files = ('lighthouse_matrix1_2021-09-28T14_17_34.dat',\n",
    "              'lighthouse_matrix2_2021-09-28T14_17_34.dat')\n",
    "\n",
    "matrix = []\n",
    "for fname in data_files:\n",
    "    data = np.fromfile(example_dir/fname, dtype='double')\n",
    "    data = data.reshape([-1,3])\n",
    "    print(data.shape)\n",
    "    matrix.append(data)\n",
    "data = np.vstack(matrix)\n",
    "data.shape\n",
    "\n",
    "# center\n",
    "cdata = data - origin\n",
    "\n",
    "# rotate\n",
    "rdata = np.array(np.matmul(A_old2new, cdata.T)).T\n",
    "rdata2 = np.matmul(data, A_old2new)"
   ]
  },
  {
   "cell_type": "code",
   "execution_count": null,
   "id": "fallen-session",
   "metadata": {
    "pycharm": {
     "name": "#%%\n"
    }
   },
   "outputs": [],
   "source": [
    "fig = plt.figure(figsize=(10,5))\n",
    "\n",
    "label = ['x','y', 'z']\n",
    "for iax, (x, y) in enumerate([(0,1), (0,2), (1,2)]):\n",
    "    ax = fig.add_subplot(2,3,1+iax)\n",
    "    ax.scatter(data[:,x], data[:,y], c=data[:,2], s=10)\n",
    "    for pts, color in zip([x1_pts, y1_pts, z1_pts], ['b','k', 'r']):\n",
    "        ax.plot([origin[x], pts[x]], [origin[y], pts[y]], color=color)\n",
    "    ax.set_ylabel(label[y])\n",
    "    ax.set_xlabel(label[x])\n",
    "  \n",
    "for iax, (x, y) in enumerate([(0,1), (0,2), (1,2)]):\n",
    "    ax = fig.add_subplot(2,3,4+iax)\n",
    "    ax.scatter(rdata[:,x], rdata[:,y], c=rdata[:,2], s=10)\n",
    "    for pts_o, color in zip([x1_pts, y1_pts, z1_pts], ['b','k', 'r']):\n",
    "        pts = A_old2new * (pts_o - origin)[:, np.newaxis]\n",
    "        ax.plot([0, pts[x]], [0, pts[y]], color=color)\n",
    "    ax.set_ylabel(label[y])\n",
    "    ax.set_xlabel(label[x])\n",
    "    "
   ]
  },
  {
   "cell_type": "code",
   "execution_count": null,
   "id": "vulnerable-screening",
   "metadata": {
    "pycharm": {
     "name": "#%%\n"
    }
   },
   "outputs": [],
   "source": []
  }
 ],
 "metadata": {
  "kernelspec": {
   "display_name": "Python 3",
   "language": "python",
   "name": "python3"
  },
  "language_info": {
   "codemirror_mode": {
    "name": "ipython",
    "version": 3
   },
   "file_extension": ".py",
   "mimetype": "text/x-python",
   "name": "python",
   "nbconvert_exporter": "python",
   "pygments_lexer": "ipython3",
   "version": "3.7.10"
  }
 },
 "nbformat": 4,
 "nbformat_minor": 5
}