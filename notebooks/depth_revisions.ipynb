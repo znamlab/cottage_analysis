{
 "cells": [
  {
   "cell_type": "markdown",
   "metadata": {},
   "source": [
    "# Depth revision code\n"
   ]
  },
  {
   "cell_type": "code",
   "execution_count": null,
   "metadata": {
    "vscode": {
     "languageId": "plaintext"
    }
   },
   "outputs": [],
   "source": [
    "import flexiznam as flz\n",
    "import numpy as np\n",
    "import matplotlib.pyplot as plt\n",
    "from pathlib import Path\n",
    "import pandas as pd"
   ]
  },
  {
   "cell_type": "markdown",
   "metadata": {},
   "source": [
    "### Is depth selectivity innate?"
   ]
  },
  {
   "cell_type": "code",
   "execution_count": null,
   "metadata": {},
   "outputs": [],
   "source": [
    "PROJECT='colasa_3d-vision_revisions'\n",
    "SESSION='PZAG16.3c_S20250219'"
   ]
  },
  {
   "cell_type": "code",
   "execution_count": null,
   "metadata": {},
   "outputs": [],
   "source": [
    "flz_session = flz.get_flexilims_session(PROJECT)"
   ]
  },
  {
   "cell_type": "code",
   "execution_count": null,
   "metadata": {},
   "outputs": [],
   "source": [
    "suite2p_datasets = flz.get_datasets(\n",
    "        origin_name=SESSION,\n",
    "        dataset_type=\"suite2p_rois\",\n",
    "        project_id=PROJECT,\n",
    "        flexilims_session=flz_session,\n",
    "        return_dataseries=False,\n",
    "    )"
   ]
  },
  {
   "cell_type": "code",
   "execution_count": null,
   "metadata": {},
   "outputs": [],
   "source": [
    "dataset = suite2p_datasets[0]"
   ]
  },
  {
   "cell_type": "code",
   "execution_count": null,
   "metadata": {},
   "outputs": [],
   "source": [
    "path = Path('/nemo/lab/znamenskiyp/home/shared/projects/colasa_3d-vision_revisions/PZAG16.3c/S20250219')"
   ]
  },
  {
   "cell_type": "code",
   "execution_count": null,
   "metadata": {},
   "outputs": [],
   "source": [
    "datapath = path / 'neurons_df.pickle'"
   ]
  },
  {
   "cell_type": "code",
   "execution_count": null,
   "metadata": {},
   "outputs": [],
   "source": [
    "neurons_df = pd.read_pickle(datapath)"
   ]
  },
  {
   "cell_type": "code",
   "execution_count": null,
   "metadata": {},
   "outputs": [],
   "source": [
    "neurons_df.columns"
   ]
  },
  {
   "cell_type": "code",
   "execution_count": null,
   "metadata": {},
   "outputs": [],
   "source": [
    "plt.hist(neurons_df['depth_neuron_anova_p'], bins = 100)\n",
    "plt.axvline(0.05, color = 'red')"
   ]
  },
  {
   "cell_type": "code",
   "execution_count": null,
   "metadata": {},
   "outputs": [],
   "source": [
    "plt.hist(neurons_df['preferred_depth_closedloop'][neurons_df['is_depth_neuron']==True])"
   ]
  },
  {
   "cell_type": "code",
   "execution_count": null,
   "metadata": {},
   "outputs": [],
   "source": [
    "plt.hist(neurons_df['preferred_depth_closedloop'][neurons_df['depth_neuron_anova_p']<0.00001])"
   ]
  },
  {
   "cell_type": "code",
   "execution_count": null,
   "metadata": {},
   "outputs": [],
   "source": [
    "sig_neurons_df = neurons_df[neurons_df['is_depth_neuron']].copy()\n",
    "sig_neurons_df['log_pref_depth'] = np.log10(neurons_df['preferred_depth_closedloop']*100)\n",
    "plt.hist(sig_neurons_df['log_pref_depth'], bins = 100)\n",
    "plt.ylabel('Frequency')\n",
    "plt.xlabel('log preferred depth (cm)')\n",
    "plt.title('PZAG16.3c, session 0, significantly depth tuned neurons')"
   ]
  },
  {
   "cell_type": "code",
   "execution_count": null,
   "metadata": {},
   "outputs": [],
   "source": [
    "plt.scatter(neurons_df['preferred_depth_closedloop'], neurons_df['depth_neuron_anova_p'], alpha = 0.5)"
   ]
  },
  {
   "cell_type": "code",
   "execution_count": null,
   "metadata": {},
   "outputs": [],
   "source": [
    "\n",
    "# Count occurrences of True and False in the 'is_depth_neuron' column\n",
    "value_counts = neurons_df['is_depth_neuron'].value_counts()\n",
    "\n",
    "# Create a bar plot\n",
    "plt.figure(figsize=(6, 4))\n",
    "plt.bar(value_counts.index.astype(str), value_counts.values)"
   ]
  },
  {
   "cell_type": "code",
   "execution_count": null,
   "metadata": {},
   "outputs": [],
   "source": [
    "plt.hist(sig_neurons_df['depth_tuning_test_spearmanr_rval_closedloop'])"
   ]
  },
  {
   "cell_type": "code",
   "execution_count": null,
   "metadata": {},
   "outputs": [],
   "source": [
    "plt.hist(neurons_df['depth_tuning_test_spearmanr_rval_closedloop'])"
   ]
  },
  {
   "cell_type": "markdown",
   "metadata": {
    "jp-MarkdownHeadingCollapsed": true
   },
   "source": [
    "## Trying the baseline dist"
   ]
  },
  {
   "cell_type": "code",
   "execution_count": null,
   "metadata": {},
   "outputs": [],
   "source": [
    "baseline_datapath = Path('/nemo/lab/znamenskiyp/home/shared/projects/hey2_3d-vision_foodres_20220101/PZAH8.2i/S20230209')"
   ]
  },
  {
   "cell_type": "code",
   "execution_count": null,
   "metadata": {},
   "outputs": [],
   "source": [
    "bas_datapath = baseline_datapath / 'neurons_df.pickle'"
   ]
  },
  {
   "cell_type": "code",
   "execution_count": null,
   "metadata": {},
   "outputs": [],
   "source": [
    "baseline_df = pd.read_pickle(bas_datapath)"
   ]
  },
  {
   "cell_type": "code",
   "execution_count": null,
   "metadata": {},
   "outputs": [],
   "source": [
    "baseline_df.columns"
   ]
  },
  {
   "cell_type": "code",
   "execution_count": null,
   "metadata": {},
   "outputs": [],
   "source": [
    "plt.hist(baseline_df['preferred_depth_closedloop'])"
   ]
  },
  {
   "cell_type": "code",
   "execution_count": null,
   "metadata": {},
   "outputs": [],
   "source": [
    "plt.hist(baseline_df['preferred_depth_closedloop'][baseline_df['is_depth_neuron']==True])"
   ]
  },
  {
   "cell_type": "code",
   "execution_count": null,
   "metadata": {},
   "outputs": [],
   "source": [
    "bas_sig_neurons_df = baseline_df[baseline_df['is_depth_neuron']].copy()\n",
    "bas_sig_neurons_df['log_pref_depth'] = np.log10(bas_sig_neurons_df['preferred_depth_closedloop']*100)\n",
    "plt.hist(bas_sig_neurons_df['log_pref_depth'], bins = 100)\n",
    "plt.ylabel('Frequency')\n",
    "plt.xlabel('log preferred depth (cm)')\n",
    "plt.title('PZAH8.2i, session N, significantly depth tuned neurons')"
   ]
  },
  {
   "cell_type": "markdown",
   "metadata": {},
   "source": [
    "# Finding back the ROIs"
   ]
  },
  {
   "cell_type": "code",
   "execution_count": null,
   "metadata": {},
   "outputs": [],
   "source": [
    "datapath = dataset.path_full / 'plane0'"
   ]
  },
  {
   "cell_type": "code",
   "execution_count": null,
   "metadata": {},
   "outputs": [],
   "source": [
    "iscell = np.load(datapath / 'iscell.npy')"
   ]
  },
  {
   "cell_type": "code",
   "execution_count": null,
   "metadata": {},
   "outputs": [],
   "source": [
    "iscell.shape"
   ]
  },
  {
   "cell_type": "markdown",
   "metadata": {},
   "source": [
    "# Selectivity across days (no ROIs)"
   ]
  },
  {
   "cell_type": "markdown",
   "metadata": {},
   "source": [
    "- We want to plot the histograms of depth selectivities over days, to check if there are any changes.\n",
    "- That is, however we plot it, a dataframe that has sessions in columns, nday, mouse, and a set of bins that have a set proportion of cells.\n",
    "- Access all the dataframes of mice, then bin the depths and keep those numbers"
   ]
  },
  {
   "cell_type": "code",
   "execution_count": null,
   "metadata": {},
   "outputs": [],
   "source": [
    "PROJECT='colasa_3d-vision_revisions'\n",
    "flz_session = flz.get_flexilims_session(PROJECT)\n"
   ]
  },
  {
   "cell_type": "code",
   "execution_count": null,
   "metadata": {},
   "outputs": [],
   "source": [
    "micelist = ['PZAG16.3b', 'PZAG16.3c', 'PZAG17.3a', 'PZAH17.1e']"
   ]
  },
  {
   "cell_type": "code",
   "execution_count": null,
   "metadata": {},
   "outputs": [],
   "source": [
    "sessions = flz.get_children(\n",
    "    parent_name = micelist[0], \n",
    "    children_datatype = 'session',\n",
    "    project_id = PROJECT, \n",
    "    flexilims_session= flz_session\n",
    ")\n",
    "        "
   ]
  },
  {
   "cell_type": "code",
   "execution_count": null,
   "metadata": {},
   "outputs": [],
   "source": [
    "for i in sessions.name:\n",
    "    print(i)"
   ]
  },
  {
   "cell_type": "code",
   "execution_count": null,
   "metadata": {},
   "outputs": [],
   "source": [
    "recordings = []\n",
    "for i in sessions.name:\n",
    "    suite2p_datasets = flz.get_datasets(\n",
    "        origin_name=i,\n",
    "        dataset_type=\"suite2p_rois\",\n",
    "        project_id=PROJECT,\n",
    "        flexilims_session=flz_session,\n",
    "        return_dataseries=False,\n",
    "    )\n",
    "    print(suite2p_datasets)\n",
    "    if suite2p_datasets != []:\n",
    "        recordings.append(suite2p_datasets)\n",
    "    "
   ]
  },
  {
   "cell_type": "code",
   "execution_count": null,
   "metadata": {},
   "outputs": [],
   "source": [
    "recordings[0][0].path.parent"
   ]
  },
  {
   "cell_type": "code",
   "execution_count": null,
   "metadata": {},
   "outputs": [],
   "source": []
  }
 ],
 "metadata": {
  "kernelspec": {
   "language": "python"
  },
  "language_info": {
   "codemirror_mode": {
    "name": "ipython",
    "version": 3
   },
   "file_extension": ".py",
   "mimetype": "text/x-python",
   "name": "python",
   "nbconvert_exporter": "python",
   "pygments_lexer": "ipython3"
  }
 },
 "nbformat": 4,
 "nbformat_minor": 4
}
