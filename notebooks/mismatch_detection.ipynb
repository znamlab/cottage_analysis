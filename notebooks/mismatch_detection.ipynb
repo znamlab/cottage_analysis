{
 "cells": [
  {
   "cell_type": "markdown",
   "metadata": {},
   "source": [
    "# Mismatch detection\n",
    ">Antonio Colás Nieto, @acolasn, anconi.1999@gmail.com\n",
    "\n",
    "We will run standard synchronization code and attempt to find and analyse mismatch responses.  \n",
    "\n",
    "Taken from `demo_analysis.ipynb`, and hoping that I need to change as little as possible. "
   ]
  },
  {
   "cell_type": "code",
   "execution_count": null,
   "metadata": {},
   "outputs": [],
   "source": [
    "%reload_ext autoreload\n",
    "%autoreload 2\n",
    "\n",
    "import functools\n",
    "\n",
    "print = functools.partial(print, flush=True)\n",
    "\n",
    "import os\n",
    "import random\n",
    "import numpy as np\n",
    "import pandas as pd\n",
    "from scipy.stats import zscore, mannwhitneyu, pearsonr\n",
    "\n",
    "import matplotlib.pyplot as plt\n",
    "from pathlib import Path\n",
    "import pickle\n",
    "from cottage_analysis.analysis import (\n",
    "    mismatch)\n",
    "import flexiznam as flz\n",
    "from tqdm import tqdm\n",
    "\n",
    "from matplotlib_venn import venn3\n",
    "\n",
    "\n",
    "\n"
   ]
  },
  {
   "cell_type": "code",
   "execution_count": null,
   "metadata": {},
   "outputs": [],
   "source": [
    "PROJECT = \"663214d08993fd0b6e6b5f1d\"\n",
    "PROTOCOL = \"KellerTube\"\n",
    "\n",
    "MESSAGES = \"harpmessage.bin\""
   ]
  },
  {
   "cell_type": "markdown",
   "metadata": {},
   "source": [
    "## Main entry point:"
   ]
  },
  {
   "cell_type": "code",
   "execution_count": null,
   "metadata": {},
   "outputs": [],
   "source": [
    "mismatch.analyse_session(\"BRAC9057.4j_S20240517\")"
   ]
  },
  {
   "cell_type": "markdown",
   "metadata": {},
   "source": [
    "## Building pipeline"
   ]
  },
  {
   "cell_type": "code",
   "execution_count": null,
   "metadata": {},
   "outputs": [],
   "source": [
    "# Example session\n",
    "mouse = \"BRAC9057.4j\"\n",
    "session = \"BRAC9057.4j_S20240516\"\n",
    "\n",
    "flexilims_session = flz.get_flexilims_session(project_id=PROJECT)\n",
    "# all_protocol_recording_entries = generate_filepaths.get_all_recording_entries(project=project,\n",
    "#                                                                               mouse=mouse,\n",
    "#                                                                               session=session,\n",
    "#                                                                               protocol=protocol,\n",
    "#                                                                               flexilims_session=flexilims_session)\n",
    "\n",
    "# # DO NOT RUN THIS FUNCTION (TAKES 2hrs ish): to find monitor frames from photodiode signal\n",
    "# find_monitor_frames(project=project,\n",
    "#                     mouse=mouse,\n",
    "#                     session=session,\n",
    "#                     protocol=protocol,\n",
    "#                     all_protocol_recording_entries=None,\n",
    "#                     irecording=None,\n",
    "#                     flexilims_session=None)\n",
    "\n",
    "\n",
    "exp_session = flz.get_entity(\n",
    "    datatype=\"session\", name=session, flexilims_session=flexilims_session\n",
    ")\n",
    "\n",
    "si_datasets = flz.get_datasets(\n",
    "    exp_session['id'],\n",
    "    dataset_type='suite2p_rois',\n",
    "    flexilims_session=flexilims_session\n",
    ")\n",
    "\n",
    "suite2p_dataset = si_datasets[0]"
   ]
  },
  {
   "cell_type": "code",
   "execution_count": null,
   "metadata": {},
   "outputs": [],
   "source": [
    "recordings = flz.get_entities(\n",
    "    datatype=\"recording\",\n",
    "    origin_id=exp_session['id'],\n",
    "    query_key=\"recording_type\",\n",
    "    query_value=\"two_photon\",\n",
    "    flexilims_session=flexilims_session,\n",
    ")"
   ]
  },
  {
   "cell_type": "code",
   "execution_count": null,
   "metadata": {},
   "outputs": [],
   "source": [
    "recordings.name[1]"
   ]
  },
  {
   "cell_type": "code",
   "execution_count": null,
   "metadata": {},
   "outputs": [],
   "source": [
    "which_recording= 3\n",
    "\n",
    "recname = recordings.name[which_recording]\n",
    "\n",
    "recording = flz.get_entity(\n",
    "    datatype=\"recording\",\n",
    "    name=recname,\n",
    "    flexilims_session=flexilims_session,\n",
    ")"
   ]
  },
  {
   "cell_type": "code",
   "execution_count": null,
   "metadata": {},
   "outputs": [],
   "source": [
    "recording.name"
   ]
  },
  {
   "cell_type": "markdown",
   "metadata": {},
   "source": [
    "## Synchronization"
   ]
  },
  {
   "cell_type": "markdown",
   "metadata": {},
   "source": [
    "Ideally, this would work out of the bat. "
   ]
  },
  {
   "cell_type": "code",
   "execution_count": null,
   "metadata": {},
   "outputs": [],
   "source": [
    "# Generate synchronisation dataframes\n",
    "\n",
    "vs_df_all, imaging_df_all, recordings = mismatch.sync_all_recordings(\n",
    "    session_name=session,\n",
    "    flexilims_session=flexilims_session,\n",
    "    project=PROJECT,\n",
    "    filter_datasets={\"anatomical_only\": 3},\n",
    "    recording_type=\"two_photon\",\n",
    "    protocol_base=\"KellerTube\",\n",
    "    photodiode_protocol=5,\n",
    "    return_volumes=True,\n",
    ")"
   ]
  },
  {
   "cell_type": "markdown",
   "metadata": {},
   "source": [
    "# Analysis: have a working pipeline"
   ]
  },
  {
   "cell_type": "markdown",
   "metadata": {},
   "source": [
    "Assuming there is only one  depth recording"
   ]
  },
  {
   "cell_type": "code",
   "execution_count": null,
   "metadata": {},
   "outputs": [],
   "source": [
    "closed_loop = imaging_df_all[which_recording-1]"
   ]
  },
  {
   "cell_type": "code",
   "execution_count": null,
   "metadata": {},
   "outputs": [],
   "source": [
    "#plt.plot(imaging_closed_loop_all[\"mouse_z\"]/imaging_closed_loop_all[\"mismatch_mouse_z\"])\n",
    "plt.plot(closed_loop[\"mouse_z\"])"
   ]
  },
  {
   "cell_type": "markdown",
   "metadata": {},
   "source": [
    "\n",
    "## Finding mismatches"
   ]
  },
  {
   "cell_type": "code",
   "execution_count": null,
   "metadata": {},
   "outputs": [],
   "source": [
    "closed_loop[\"mousez_dif\"]  = np.zeros(len(closed_loop[\"mouse_z\"]))\n",
    "closed_loop.loc[1:, 'mousez_dif'] = np.diff(closed_loop['mouse_z'])\n"
   ]
  },
  {
   "cell_type": "code",
   "execution_count": null,
   "metadata": {},
   "outputs": [],
   "source": [
    "closed_loop[\"mismz_dif\"]  = np.zeros(len(closed_loop[\"mouse_z\"]))\n",
    "closed_loop.loc[1:, 'mismz_dif'] = np.diff(closed_loop['mismatch_mouse_z'])"
   ]
  },
  {
   "cell_type": "code",
   "execution_count": null,
   "metadata": {},
   "outputs": [],
   "source": [
    "closed_loop[\"mism_ratio\"] = closed_loop[\"mousez_dif\"]/closed_loop[\"mismz_dif\"]"
   ]
  },
  {
   "cell_type": "code",
   "execution_count": null,
   "metadata": {},
   "outputs": [],
   "source": [
    "plt.plot(closed_loop[\"mism_ratio\"][720:740])"
   ]
  },
  {
   "cell_type": "code",
   "execution_count": null,
   "metadata": {},
   "outputs": [],
   "source": [
    "closed_loop[\"mismatch\"] = ((closed_loop[\"mism_ratio\"] > 1.2) | (closed_loop[\"mism_ratio\"] < -1000)).astype(int)\n",
    "\n",
    "#To catch the fact that it's -inf sometimes during a mismatch"
   ]
  },
  {
   "cell_type": "code",
   "execution_count": null,
   "metadata": {},
   "outputs": [],
   "source": [
    "up= 0\n",
    "down =  -1\n",
    "\n",
    "plt.plot(closed_loop[\"mism_ratio\"][up:down])\n",
    "plt.plot(closed_loop[\"mismatch\"][up:down])\n",
    "\n",
    "closed_loop[\"mism_ratio\"][up:down]"
   ]
  },
  {
   "cell_type": "code",
   "execution_count": null,
   "metadata": {},
   "outputs": [],
   "source": [
    "closed_loop.drop(columns = {\"mismz_dif\", \"mousez_dif\"})"
   ]
  },
  {
   "cell_type": "markdown",
   "metadata": {},
   "source": [
    "## Defining mismatch window for raster"
   ]
  },
  {
   "cell_type": "markdown",
   "metadata": {},
   "source": [
    "By design, 5 frames before and 10 after the mismatch onset frame. The length is 15 frames. "
   ]
  },
  {
   "cell_type": "code",
   "execution_count": null,
   "metadata": {},
   "outputs": [],
   "source": [
    "# Create a new column initialized to 0\n",
    "closed_loop['range_indicator'] = 0\n",
    "\n",
    "#Make a diff to look at starting frames\n",
    "closed_loop[\"start_mismatch\"]=np.zeros(len(closed_loop[\"mismatch\"]))\n",
    "\n",
    "closed_loop.loc[1:,\"start_mismatch\"] = np.diff(closed_loop[\"mismatch\"])\n",
    "\n",
    "# Find indices where 'indicator' is 1\n",
    "indices = closed_loop.index[closed_loop['start_mismatch'] == 1].tolist()\n",
    "print(indices)\n",
    "\n",
    "# Set range_indicator to 1 for 5 rows before and after each index where 'indicator' is 1\n",
    "for idx in indices:\n",
    "    start = max(idx - 5, 0)\n",
    "    end = min(idx + 10, len(closed_loop['mismatch']) - 1)\n",
    "    print((start,  end))\n",
    "    closed_loop.loc[start:end, 'range_indicator'] = 1"
   ]
  },
  {
   "cell_type": "markdown",
   "metadata": {},
   "source": [
    "For every neuron, we want to find a point in time where the mismatch begins and calculate the average of its responses to a mismatch"
   ]
  },
  {
   "cell_type": "code",
   "execution_count": null,
   "metadata": {},
   "outputs": [],
   "source": [
    "# Create the initial DataFrame with range_indicator\n",
    "neurons_closed_loop = pd.DataFrame({\"range_indicator\": closed_loop[\"range_indicator\"].copy()})\n",
    "\n",
    "# Extract the number of neurons\n",
    "neurons = closed_loop[\"closed_loopfs\"][0].shape[1]\n",
    "\n",
    "# Create a DataFrame for the neurons data\n",
    "neuron_data = pd.DataFrame(\n",
    "    {f\"neuron{neuron}\": [closed_loop[\"closed_loopfs\"][i][0][neuron] for i in range(len(closed_loop[\"mismatch\"]))]\n",
    "     for neuron in range(neurons)}\n",
    ")\n",
    "\n",
    "# Concatenate the range_indicator and neuron data\n",
    "neurons_closed_loop = pd.concat([neurons_closed_loop, neuron_data], axis=1)"
   ]
  },
  {
   "cell_type": "code",
   "execution_count": null,
   "metadata": {},
   "outputs": [],
   "source": [
    "mismatches_per_neuron = list(np.zeros(neurons))\n",
    "\n",
    "neurons_closed_loop[\"start_mismatch\"]=np.zeros(len(neurons_closed_loop[\"range_indicator\"]))\n",
    "\n",
    "neurons_df.loc[1:,\"start_mismatch\"] = np.diff(neurons_df[\"range_indicator\"])\n",
    "\n",
    "n_mismatches  =  len(neurons_df[\"start_mismatch\"][neurons_df[\"start_mismatch\"]==1])\n",
    "\n",
    "print(n_mismatches)\n",
    "\n",
    "for i in range(neurons):\n",
    "    mismatches_per_neuron[i] = np.zeros((n_mismatches, 15))\n",
    "\n"
   ]
  },
  {
   "cell_type": "code",
   "execution_count": null,
   "metadata": {},
   "outputs": [],
   "source": [
    "\n",
    "\n",
    "# Initialize variables to track the start and end of intervals\n",
    "in_interval = False\n",
    "start_idx = None\n",
    "\n",
    "# Iterate through the DataFrame to identify intervals\n",
    "idx_mismatch = -1\n",
    "for idx, row in neurons_df.iterrows():\n",
    "    if row['range_indicator'] == 1 and not in_interval:\n",
    "        # Start of a new interval\n",
    "        start_idx = idx\n",
    "        in_interval = True\n",
    "        idx_mismatch += 1\n",
    "        print(f\"This is mismatch {idx_mismatch}\")\n",
    "    elif row['range_indicator'] == 0 and in_interval:\n",
    "        # End of the current interval\n",
    "        end_idx = idx-1\n",
    "        for neuron in range(neurons):\n",
    "            mismatches_per_neuron[neuron][idx_mismatch, :] = neurons_df[f\"neuron{neuron}\"][start_idx:end_idx]\n",
    "        in_interval = False\n",
    "        print(f\"start and end idx: {(start_idx, end_idx)}\")"
   ]
  },
  {
   "cell_type": "code",
   "execution_count": null,
   "metadata": {},
   "outputs": [],
   "source": [
    "mismatch_raster = np.zeros((neurons, 15))\n",
    "\n",
    "for i in range(neurons):\n",
    "    mismatch_raster[i, :] = np.mean(mismatches_per_neuron[i], axis = 0)\n",
    "\n",
    "#print(mismatch_raster.shape)\n",
    "\n",
    "# Define a function to calculate the difference for each row\n",
    "def calculate_difference(row):\n",
    "    first_5_sum = np.sum(row[0:5])\n",
    "    last_5_sum = np.sum(row[6:11])\n",
    "    return last_5_sum-first_5_sum\n",
    "\n",
    "# Calculate differences for each row\n",
    "differences = np.apply_along_axis(calculate_difference, 1, mismatch_raster)\n",
    "#print(differences[0:10])\n",
    "\n",
    "# Get the sorted indices based on the differences (larger differences first)\n",
    "sorted_indices = np.argsort(-differences)\n",
    "#print(sorted_indices[0:10])\n",
    "\n",
    "# Sort the array based on the calculated differences\n",
    "sorted_mismatch_raster = mismatch_raster[sorted_indices]\n",
    "\n",
    "start = 0\n",
    "end = 100\n",
    "\n",
    "fig = plt.figure(figsize=(30,10),facecolor='w') \n",
    "ax = fig.add_subplot(111)\n",
    "im = ax.imshow(sorted_mismatch_raster[0:100])\n",
    "\n",
    "\n",
    "\n",
    "ax.set_title(f\"Raster plot of first {end} neurons aligned to mismatch\")\n",
    "ax.set_xlabel(\"Frames\")\n",
    "ax.set_ylabel(\"Neurons\")\n",
    "fig.colorbar(im, label  =  \"dff\")\n",
    "ax.axvline(5, color = \"grey\")"
   ]
  },
  {
   "cell_type": "code",
   "execution_count": null,
   "metadata": {},
   "outputs": [],
   "source": [
    "plt.plot(differences[sorted_indices])\n"
   ]
  },
  {
   "cell_type": "code",
   "execution_count": null,
   "metadata": {},
   "outputs": [],
   "source": [
    "pop_response  = np.mean(sorted_mismatch_raster[0:100], axis = 0)\n",
    "plt.plot(pop_response)"
   ]
  },
  {
   "cell_type": "markdown",
   "metadata": {},
   "source": [
    "## Now sorting a la Keller"
   ]
  },
  {
   "cell_type": "markdown",
   "metadata": {},
   "source": [
    "Evaluate significant mismatch modulation  by producing a series of  random events and looking at the differential modullation from mismatches. "
   ]
  },
  {
   "cell_type": "code",
   "execution_count": null,
   "metadata": {},
   "outputs": [],
   "source": [
    "def generate_random_events(n_frames, n_events = 100):\n",
    "    return [random.randint(0, n_frames-1) for _ in range(n_events)]"
   ]
  },
  {
   "cell_type": "code",
   "execution_count": null,
   "metadata": {},
   "outputs": [],
   "source": [
    "n_frames = len(closed_loop)\n",
    "events = generate_random_events(n_frames)"
   ]
  },
  {
   "cell_type": "code",
   "execution_count": null,
   "metadata": {},
   "outputs": [],
   "source": [
    "closed_loop[\"randevents\"] = 0\n",
    "closed_loop.loc[events, \"randevents\"] = 1\n",
    "plt.plot(closed_loop[\"randevents\"])"
   ]
  },
  {
   "cell_type": "code",
   "execution_count": null,
   "metadata": {},
   "outputs": [],
   "source": [
    "rand_rec, indices = mismatch.create_mismatch_window(closed_loop, window_start = 0, window_end = 5, event  = \"randevents\")"
   ]
  },
  {
   "cell_type": "code",
   "execution_count": null,
   "metadata": {},
   "outputs": [],
   "source": [
    "neurons, rand_neurodf = mismatch.build_neurons_df(rand_rec)"
   ]
  },
  {
   "cell_type": "code",
   "execution_count": null,
   "metadata": {},
   "outputs": [],
   "source": [
    "rand_misperneuron = mismatch.build_mismatches_per_neuron_list(neurons, rand_neurodf, window_start = 0, window_end = 5, indices = indices)"
   ]
  },
  {
   "cell_type": "code",
   "execution_count": null,
   "metadata": {},
   "outputs": [],
   "source": [
    "rand_raster = mismatch.raster(neurons, rand_misperneuron, window_start = 0, window_end= 5)"
   ]
  },
  {
   "cell_type": "code",
   "execution_count": null,
   "metadata": {},
   "outputs": [],
   "source": [
    "rand_avg = np.mean(rand_raster, axis = 1)\n",
    "mismatch_avg = np.mean(mismatch_raster[:, 8:13], axis = 1)\n",
    "modulation_raster = mismatch_avg-rand_avg"
   ]
  },
  {
   "cell_type": "code",
   "execution_count": null,
   "metadata": {},
   "outputs": [],
   "source": [
    "sorted_indices = np.argsort(-modulation_raster)\n",
    "#print(sorted_indices[0:10])\n",
    "\n",
    "plt.plot(modulation_raster[sorted_indices])"
   ]
  },
  {
   "cell_type": "code",
   "execution_count": null,
   "metadata": {},
   "outputs": [],
   "source": [
    "\n",
    "\n",
    "# Sort the array based on the calculated differences\n",
    "sorted_mismatch_raster = mismatch_raster[sorted_indices]\n",
    "\n",
    "# Define the range you want to cap\n",
    "vmin = -0.5\n",
    "vmax = 1\n",
    "\n",
    "start = 0\n",
    "end = 100\n",
    "fig = plt.figure(figsize=(30, 10), facecolor='w')\n",
    "ax = fig.add_subplot(111)\n",
    "im = ax.imshow(sorted_mismatch_raster, cmap='coolwarm', vmin=vmin, vmax=vmax, aspect =  \"auto\")\n",
    "\n",
    "\n",
    "ax.set_title(f\"Raster plot of neurons aligned to mismatch\")\n",
    "ax.set_xlabel(\"Frames\")\n",
    "ax.set_ylabel(\"Neurons\")\n",
    "fig.colorbar(im, label=\"dff\")\n",
    "ax.axvline(5, color=\"grey\")\n",
    "plt.show()"
   ]
  },
  {
   "cell_type": "code",
   "execution_count": null,
   "metadata": {},
   "outputs": [],
   "source": [
    "pop_response  = np.mean(sorted_mismatch_raster, axis = 0)\n",
    "plt.plot(pop_response)"
   ]
  },
  {
   "cell_type": "code",
   "execution_count": null,
   "metadata": {},
   "outputs": [],
   "source": [
    "closed_loop, indices = mismatch.create_mismatch_window(closed_loop, window_start = 5, window_end = 20)\n",
    "neurons, neurons_df = mismatch.build_neurons_df(closed_loop)\n",
    "misperneuron = mismatch.build_mismatches_per_neuron_list(neurons, neurons_df, window_start = 5, window_end = 20)\n",
    "mismatch_raster = mismatch.raster(neurons, misperneuron, window_start = 5, window_end = 20)\n",
    "rand_raster = mismatch.make_rand_raster(closed_loop, n_events = 200, window_end = 10)\n",
    "sorted_mismatch_raster = mismatch.modulation_sort_raster(rand_raster, mismatch_raster)\n",
    "mismatch.plot_raster(sorted_mismatch_raster, vmin = -0.5,  vmax = 0.8)"
   ]
  },
  {
   "cell_type": "code",
   "execution_count": null,
   "metadata": {},
   "outputs": [],
   "source": [
    "\n",
    "\n",
    "mismatch.plot_raster(sorted_mismatch_raster, vmin = -0.5,  vmax = 0.8)"
   ]
  },
  {
   "cell_type": "markdown",
   "metadata": {},
   "source": [
    "## Z-scoring and trying new preprocess pipeline"
   ]
  },
  {
   "cell_type": "code",
   "execution_count": null,
   "metadata": {},
   "outputs": [],
   "source": [
    "closed_loop = mismatch.find_mismatch(closed_loop)\n",
    "\n",
    "closed_loop, indices = mismatch.create_mismatch_window(closed_loop, window_start = 5, window_end = 20)\n",
    "neurons, neurons_df = mismatch.build_neurons_df(closed_loop)\n"
   ]
  },
  {
   "cell_type": "code",
   "execution_count": null,
   "metadata": {},
   "outputs": [],
   "source": [
    "misperneuron = mismatch.build_mismatches_per_neuron_list(neurons, neurons_df, window_start = 5, window_end = 20)\n",
    "mismatch_raster = mismatch.raster(neurons, misperneuron, window_start = 5, window_end = 20)"
   ]
  },
  {
   "cell_type": "code",
   "execution_count": null,
   "metadata": {},
   "outputs": [],
   "source": [
    "rand_raster = mismatch.make_rand_raster(closed_loop, n_events = 200, window_end = 10)"
   ]
  },
  {
   "cell_type": "code",
   "execution_count": null,
   "metadata": {},
   "outputs": [],
   "source": [
    "sorted_mismatch_raster, modulation_raster = mismatch.modulation_sort_raster(rand_raster, mismatch_raster)\n",
    "mismatch.plot_raster(sorted_mismatch_raster, vmin = -1,  vmax = 1)\n"
   ]
  },
  {
   "cell_type": "code",
   "execution_count": null,
   "metadata": {},
   "outputs": [],
   "source": [
    "plt.plot(sorted_mismatch_raster[-10:,:].T)"
   ]
  },
  {
   "cell_type": "code",
   "execution_count": null,
   "metadata": {},
   "outputs": [],
   "source": [
    "plt.plot(modulation_raster[np.argsort(-modulation_raster)])\n",
    "plt.axhline(0, color=\"red\")\n",
    "plt.title(\"Z-scores sorted from high to low\")\n",
    "plt.ylabel(\"Z-score\")\n",
    "plt.xlabel(\"Neurons\")"
   ]
  },
  {
   "cell_type": "code",
   "execution_count": null,
   "metadata": {},
   "outputs": [],
   "source": [
    "def plot_pop_response(sorted_mismatch_raster, how_many=None):\n",
    "    fig, ax = plt.subplots()\n",
    "\n",
    "    ax.plot(np.mean(sorted_mismatch_raster, axis=0), label=\"Total\")\n",
    "\n",
    "    if how_many is None:\n",
    "        how_many = int(0.1 * len(sorted_mismatch_raster))\n",
    "\n",
    "    ax.plot(np.mean(sorted_mismatch_raster[:how_many, :], axis=0), label=f\"First {how_many}\")\n",
    "    ax.plot(np.mean(sorted_mismatch_raster[-how_many:, :], axis=0), label=f\"Bottom {how_many}\")\n",
    "\n",
    "    ax.set_title(\"Population response\")\n",
    "    ax.set_ylabel(\"Z-score\")\n",
    "    ax.set_xlabel(\"Frames\")\n",
    "    ax.axvline(5, color=\"red\", alpha=0.3, label=\"Mismatch onset\")\n",
    "    ax.axvline(15, color=\"green\", alpha=0.3, label=\"End of response window\")\n",
    "    ax.axhline(0, color=\"green\", alpha=0.3)\n",
    "\n",
    "    ax.legend()\n",
    "\n",
    "    return fig, ax"
   ]
  },
  {
   "cell_type": "markdown",
   "metadata": {},
   "source": [
    "-  Activity is high before a mismatch\n",
    "-  Current analysis selects cells that were already more active before the  mismatch."
   ]
  },
  {
   "cell_type": "markdown",
   "metadata": {},
   "source": [
    "## A challenge because you're dumb: find trials. "
   ]
  },
  {
   "cell_type": "markdown",
   "metadata": {},
   "source": [
    "I need to find six meters, then three seconds, then six meters.   "
   ]
  },
  {
   "cell_type": "code",
   "execution_count": null,
   "metadata": {},
   "outputs": [],
   "source": [
    "closed_loop"
   ]
  },
  {
   "cell_type": "code",
   "execution_count": null,
   "metadata": {},
   "outputs": [],
   "source": [
    "\n",
    "closed_loop = mismatch.find_trials(closed_loop)"
   ]
  },
  {
   "cell_type": "code",
   "execution_count": null,
   "metadata": {},
   "outputs": [],
   "source": [
    "\n",
    "start= 0\n",
    "\n",
    "end = -1\n",
    "\n",
    "\n",
    "plt.plot(closed_loop[\"mouse_z\"][start:end],closed_loop[\"trial_indicator\"][start:end])\n",
    "\n",
    "plt.plot(closed_loop[\"mouse_z\"][start:end], closed_loop[\"mismatch\"][start:end]*30)"
   ]
  },
  {
   "cell_type": "code",
   "execution_count": null,
   "metadata": {},
   "outputs": [],
   "source": [
    "sync_loop, fig, ax = mismatch.check_trials(flexilims_session, recording, closed_loop)"
   ]
  },
  {
   "cell_type": "markdown",
   "metadata": {},
   "source": [
    "### Verifying"
   ]
  },
  {
   "cell_type": "code",
   "execution_count": null,
   "metadata": {},
   "outputs": [],
   "source": [
    "def get_mismatch_debug_file(flexilims_session, recording):\n",
    "\n",
    "    raw = flz.get_data_root(\"raw\", flexilims_session=flexilims_session)\n",
    "\n",
    "    ds = flz.get_datasets(\n",
    "        flexilims_session=flexilims_session,\n",
    "        origin_name=recording.name,\n",
    "        dataset_type=\"harp\",\n",
    "        allow_multiple=False,\n",
    "    )\n",
    "\n",
    "    filename=ds.csv_files[\"DebugMismatchDis\"]\n",
    "\n",
    "    MismatchDebug =pd.read_csv(raw/recording.path/filename)\n",
    "    \n",
    "    return  MismatchDebug\n",
    "\n"
   ]
  },
  {
   "cell_type": "code",
   "execution_count": null,
   "metadata": {},
   "outputs": [],
   "source": [
    "def synchronize_dataframes(df_a, df_b):\n",
    "    df_a['IsMismatch'] = 0 \n",
    "\n",
    "    for i, (idx, row) in enumerate(df_a.iterrows()):\n",
    "        value_a = row[\"mismatch_mouse_z\"]*100\n",
    "        \n",
    "        # Find the row in df_b where the value in 'variable1' is closest to value_a\n",
    "        closest_row = df_b.iloc[(df_b[\"MismatchDistance\"] - value_a).abs().argmin()]\n",
    "        #print((closest_row[\"MismatchDistance\"], value_a))\n",
    "        \n",
    "        # Combine the rows\n",
    "        df_a[\"IsMismatch\"][i] = closest_row[\"IsMismatch\"]\n",
    "    \n",
    "    return df_a\n",
    "\n",
    "sync_loop = synchronize_dataframes(closed_loop, MismatchDebug)"
   ]
  },
  {
   "cell_type": "code",
   "execution_count": null,
   "metadata": {},
   "outputs": [],
   "source": [
    "\n",
    "def plot_synchronized_data(closed_loop, sync_loop, start, end):\n",
    "    fig, ax = plt.subplots(figsize=(20, 10))  # Very large figure\n",
    "    \n",
    "    ax.plot(closed_loop[\"mouse_z\"][start:end], closed_loop[\"trial_indicator\"][start:end], label=\"Trial indicator\")\n",
    "    ax.plot(closed_loop[\"mouse_z\"][start:end], closed_loop[\"mismatch\"][start:end]*30, label=\"Mismatch\")\n",
    "    ax.plot(closed_loop[\"mouse_z\"][start:end], sync_loop[\"IsMismatch\"][start:end]*30, label=\"Old mismatch window\")\n",
    "    \n",
    "    ax.legend()\n",
    "    ax.set_xlabel(\"Mouse Z\")\n",
    "    ax.set_ylabel(\"Values\")\n",
    "    ax.set_title(\"Synchronized Data Plot\")\n",
    "    \n",
    "    plt.show()\n",
    "    return fig, ax\n",
    "\n",
    "# Example usage\n",
    "# Assuming you have your dataframes closed_loop and sync_loop\n",
    "# closed_loop = pd.DataFrame({...})\n",
    "# sync_loop = synchronize_dataframes(closed_loop, other_dataframe, 'variable1')\n",
    "\n",
    "# Plotting the data\n",
    "start = 0\n",
    "end = -1\n",
    "fig, ax = plot_synchronized_data(closed_loop, sync_loop, start, end)"
   ]
  },
  {
   "cell_type": "markdown",
   "metadata": {},
   "source": [
    "It's quite good"
   ]
  },
  {
   "cell_type": "markdown",
   "metadata": {},
   "source": [
    "# Establish significance of the mismatch tuning"
   ]
  },
  {
   "cell_type": "markdown",
   "metadata": {},
   "source": [
    "## How Attinger does it\n"
   ]
  },
  {
   "cell_type": "markdown",
   "metadata": {},
   "source": [
    "\n",
    "The details of the statistical analysis are noted in the figure legends. We did not test the distribution of the data for normality. \n",
    "\n",
    "### What are the traces that they plot?\n",
    "\n",
    "To quantify average response traces, we first calculated the average event-triggered fluorescence trace for each neuron. \n",
    "\n",
    "The responses of all neurons were then averaged and the baseline (mean DF/F in a 0.5 s window pre event onset) was subtracted. \n",
    "\n",
    "\n",
    "> *When does this happen?* \n",
    "\n",
    "> To quantify the significance of the difference of two average calcium responses as a function of time, we performed a separate Student’s t test for every bin of the calcium trace (10 Hz or 15 Hz) and marked bins as significantly different for p < 0.01. For visual clarity, we removed isolated significant bins, such that a significant bin was only marked if at least one of the two neighboring bins was also significant. \n",
    "\n",
    "### When is a neuron significantly modulated by mismatch?\n",
    "\n",
    "To calculate the average response of each neuron to mismatch or playback halt, we first calculated the difference between the average event-triggered response and the average response to 1000 randomly triggered events to generate a random-corrected trace. Average responses to mismatch and playback halt were then calculated as the mean fluorescence of the random-corrected average in a response window minus the mean fluorescence in a baseline window for each neuron (the response window for mismatch, playback halt, running onset and playback onset was +500 ms to +1500 ms, and the baseline subtraction window was \u00011000 ms to 0 ms). \n",
    "\n",
    "To determine the significance of a neuron’s response, we calculated individual neuron responses to each mismatch event as described above and compared this distribution to the distribution generated by 1000 randomly triggered events. Significance was determined with a two sided Mann-Whitney-U test (p < 0.05). \n",
    "\n",
    "### Which mismatches count?\n",
    "\n",
    "For mismatch and random events to be included in the analysis, mice had to be running above threshold (10\u00012 cm/s) before and after event onset (from \u0001600 ms to + 1100 ms). \n",
    "\n",
    "In addition, for playback halt events to be included, mice had to be stationary during the playback halt (no running from \u0001600 ms to +1100 ms). \n",
    "\n",
    "For running onset, mice had to be stationary for at least 600 ms prior to the running onset and continue running for 1100 ms above threshold following the onset. Similarly, for playback onset (quantified only during open-loop sessions) there had to be no visual flow for 600 ms prior to visual flow onset, followed by continuous visual flow above threshold for at least 1100 ms after onset, mice had to be stationary during this time."
   ]
  },
  {
   "cell_type": "markdown",
   "metadata": {},
   "source": [
    "### Cutoffs"
   ]
  },
  {
   "cell_type": "code",
   "execution_count": null,
   "metadata": {},
   "outputs": [],
   "source": [
    "closed_loop"
   ]
  },
  {
   "cell_type": "code",
   "execution_count": null,
   "metadata": {},
   "outputs": [],
   "source": []
  },
  {
   "cell_type": "markdown",
   "metadata": {},
   "source": [
    "## How we do it"
   ]
  },
  {
   "cell_type": "code",
   "execution_count": null,
   "metadata": {},
   "outputs": [],
   "source": [
    "closed_loop"
   ]
  },
  {
   "cell_type": "markdown",
   "metadata": {},
   "source": [
    "1. Generate a set of randomly triggered events on suitable parts of the trial.\n",
    "2. Is that distribution different from the mismatch distribution?"
   ]
  },
  {
   "cell_type": "markdown",
   "metadata": {},
   "source": [
    "###  Generate  suitable  distribution\n"
   ]
  },
  {
   "cell_type": "code",
   "execution_count": null,
   "metadata": {},
   "outputs": [],
   "source": [
    "def define_window_for_mismatch(closed_loop, corridor_length = 6):\n",
    "\n",
    "    # Add a new column for the trial indicator\n",
    "    closed_loop['mismatch_window'] = False\n",
    "    closed_loop[\"in_trial\"]  = np.where(closed_loop['trial_indicator'] > 0, True, False)\n",
    "\n",
    "    # Define the thresholds\n",
    "    beggining_threshold = corridor_length*(1/3)  \n",
    "    end_threshold = corridor_length*(5/6)    \n",
    "\n",
    "    # Initialize variables for trial tracking\n",
    "    start_distance = 0\n",
    "    n_rows = len(closed_loop)\n",
    "    print(n_rows)\n",
    "    i = 0\n",
    "\n",
    "\n",
    "    while i < n_rows:\n",
    "\n",
    "        current_distance = closed_loop[\"mouse_z\"].iloc[i] - start_distance\n",
    "        in_trial = closed_loop[\"in_trial\"].iloc[i]\n",
    "\n",
    "        if closed_loop[\"in_trial\"].iloc[i] == 1 and closed_loop[\"in_trial\"].iloc[i-1] == 0:\n",
    "            start_distance = closed_loop[\"mouse_z\"].iloc[i]\n",
    "\n",
    "        # Assign mismatch window indicator\n",
    "        while i < n_rows and current_distance >= beggining_threshold and current_distance < end_threshold:\n",
    "            in_trial = closed_loop[\"in_trial\"].iloc[i]\n",
    "\n",
    "            if in_trial:\n",
    "                closed_loop.loc[i, 'mismatch_window'] = True\n",
    "            i += 1\n",
    "            if i < n_rows:\n",
    "                current_distance = closed_loop[\"mouse_z\"].iloc[i] - start_distance\n",
    "        \n",
    "        i += 1\n",
    "    \n",
    "\n",
    "    return closed_loop\n",
    "\n"
   ]
  },
  {
   "cell_type": "code",
   "execution_count": null,
   "metadata": {},
   "outputs": [],
   "source": [
    "fig,  ax =  mismatch.plot_synchronized_data(closed_loop, sync_loop)\n",
    "ax.plot(closed_loop[\"mouse_z\"], closed_loop[\"mismatch_window\"]*30, label=\"mismatch window\")\n",
    "ax.legend()\n",
    "\n",
    "plt.show()\n"
   ]
  },
  {
   "cell_type": "code",
   "execution_count": null,
   "metadata": {},
   "outputs": [],
   "source": [
    "mis_closed_loop = closed_loop[closed_loop[\"mismatch_window\"]]"
   ]
  },
  {
   "cell_type": "code",
   "execution_count": null,
   "metadata": {},
   "outputs": [],
   "source": [
    "mis_closed_loop.to_csv(\"bananas.csv\", index =  True)"
   ]
  },
  {
   "cell_type": "code",
   "execution_count": null,
   "metadata": {},
   "outputs": [],
   "source": [
    "indices = mis_closed_loop.index.tolist()"
   ]
  },
  {
   "cell_type": "code",
   "execution_count": null,
   "metadata": {},
   "outputs": [],
   "source": [
    "def generate_plausible_mismatch_indices(closed_loop):\n",
    "    mis_closed_loop = closed_loop[closed_loop[\"mismatch_window\"]]\n",
    "    indices = mis_closed_loop.index.tolist()\n",
    "    return indices"
   ]
  },
  {
   "cell_type": "markdown",
   "metadata": {},
   "source": [
    "### Test distribution"
   ]
  },
  {
   "cell_type": "code",
   "execution_count": null,
   "metadata": {},
   "outputs": [],
   "source": [
    "null_mode =\"trial_structure\"\n",
    "save =True\n",
    "\n",
    "print(\"Estimating mismatch distribution\")\n",
    "closed_loop = mismatch.find_mismatch(closed_loop)\n",
    "closed_loop, idxs = mismatch.create_mismatch_window(\n",
    "    closed_loop, window_start=5, window_end=20\n",
    ")\n",
    "neurons, neurons_df = mismatch.build_neurons_df(closed_loop)\n",
    "misperneuron = mismatch.build_mismatches_per_neuron_list(\n",
    "    neurons, neurons_df, window_start=5, window_end=20\n",
    ")\n",
    "mismatch_raster = mismatch.raster(neurons, misperneuron, window_start=5, window_end=20)\n",
    "\n",
    "if null_mode == \"trial_structure\":\n",
    "\n",
    "    closed_loop = mismatch.find_trials(closed_loop)\n",
    "    closed_loop = mismatch.define_window_for_mismatch(closed_loop)\n",
    "    indices = mismatch.generate_plausible_mismatch_indices(closed_loop)\n",
    "else:\n",
    "    indices = None\n",
    "\n",
    "print(\"Estimating null distribution\")\n",
    "rand_raster, rand_misperneuron = mismatch.make_rand_raster(closed_loop, n_events=200, window_end=10, indices = indices)\n",
    "sorted_mismatch_raster, modulation_raster = mismatch.modulation_sort_raster(rand_raster, mismatch_raster)\n",
    "sorted_p = mismatch.calculate_significance(misperneuron, rand_misperneuron, modulation_raster)\n",
    "\n",
    "print(\"Plotting\")\n",
    "rasterfig, rasterax = mismatch.plot_raster(sorted_mismatch_raster)\n",
    "rasterfig, rasterax, rasterax2 =  mismatch.plot_significance(rasterfig, rasterax, sorted_p)\n",
    "plt.show()\n",
    "popfig, popax = mismatch.plot_pop_response(sorted_mismatch_raster)\n",
    "plt.show()\n",
    "sync_loop, fig, ax = mismatch.check_trials(flexilims_session, recording, closed_loop)\n",
    "\n",
    "print(\"Saving...\")\n",
    "\n",
    "if save:\n",
    "\n",
    "    ## save stuff\n",
    "\n",
    "    processed = flz.get_data_root(\"processed\", flexilims_session=flexilims_session)\n",
    "    path = processed / recording.path\n",
    "\n",
    "    #getting unsorted significance of modulation\n",
    "    p = mismatch.calculate_significance(misperneuron, rand_misperneuron)\n",
    "\n",
    "    #save dataframe\n",
    "    mismatch_df =  {\n",
    "        'modulation_size': modulation_raster,\n",
    "        'p_value': p\n",
    "    }\n",
    "    mismatch_df = pd.DataFrame(mismatch_df)\n",
    "    mismatch_df.to_pickle(str(path / \"mismatch_df.pkl\"))\n",
    "\n",
    "    #save mismatch_raster\n",
    "    np.save(str(path / \"mismatch_raster.npy\"), mismatch_raster)\n",
    "\n",
    "    #save figures\n",
    "    rasterfig.savefig(str(path / \"raster\"))\n",
    "    popfig.savefig(str(path / \"population\"))"
   ]
  },
  {
   "cell_type": "code",
   "execution_count": null,
   "metadata": {},
   "outputs": [],
   "source": [
    "recording.path"
   ]
  },
  {
   "cell_type": "code",
   "execution_count": null,
   "metadata": {},
   "outputs": [],
   "source": [
    "processed = flz.get_data_root(\"processed\", flexilims_session=flexilims_session)\n",
    "processed"
   ]
  },
  {
   "cell_type": "markdown",
   "metadata": {},
   "source": [
    "We must test `misperneuron` and `rand_misperneuron` "
   ]
  },
  {
   "cell_type": "code",
   "execution_count": null,
   "metadata": {},
   "outputs": [],
   "source": [
    "def calculate_significance(misperneuron, rand_misperneuron, modulation_raster = None):\n",
    "\n",
    "    neuron_p = np.zeros(len(misperneuron))\n",
    "\n",
    "    for neuron in tqdm(range(len(misperneuron))):\n",
    "        mis_responses = misperneuron[neuron][:,5:15] #keep the rersponse part\n",
    "        rand_responses  = rand_misperneuron[neuron]\n",
    "\n",
    "        mis_mean = np.mean(mis_responses, axis=1)\n",
    "        rand_mean =(np.mean(rand_responses, axis = 1))\n",
    "        p = mannwhitneyu(mis_mean, rand_mean)\n",
    "        neuron_p[neuron] = p.pvalue\n",
    "    \n",
    "    if modulation_raster is not None:\n",
    "\n",
    "        sorted_indices = np.argsort(-modulation_raster)\n",
    "        sorted_p = neuron_p[sorted_indices]\n",
    "\n",
    "        return sorted_p\n",
    "    \n",
    "    else:\n",
    "\n",
    "        return neuron_p\n",
    "\n",
    "\n",
    "\n"
   ]
  },
  {
   "cell_type": "code",
   "execution_count": null,
   "metadata": {},
   "outputs": [],
   "source": [
    "sorted_p = calculate_significance(misperneuron, rand_misperneuron, modulation_raster)"
   ]
  },
  {
   "cell_type": "code",
   "execution_count": null,
   "metadata": {},
   "outputs": [],
   "source": [
    "sorted_indices = np.argsort(-modulation_raster)\n",
    "sorted_p = neuron_p[sorted_indices]\n",
    "plt.plot(sorted_p)\n",
    "plt.ylim((0, 0.05))"
   ]
  },
  {
   "cell_type": "code",
   "execution_count": null,
   "metadata": {},
   "outputs": [],
   "source": [
    "plot_sorted_p = np.where(sorted_p<0.05, 1, 0)\n",
    "plt.plot(plot_sorted_p)\n",
    "plt.show()\n",
    "plot_sorted_p = plot_sorted_p[np.newaxis,  :]\n",
    "plt.imshow(plot_sorted_p.T, aspect = \"auto\")\n"
   ]
  },
  {
   "cell_type": "code",
   "execution_count": null,
   "metadata": {},
   "outputs": [],
   "source": [
    "\n",
    "fig, ax = mismatch.plot_raster(sorted_mismatch_raster)\n",
    "# The list [left, bottom, width, height] specifies the subplot's position and size in figure coordinates (0 to 1)\n",
    "\n",
    "def add_significance(fig, ax, sorted_p):\n",
    "\n",
    "    #Prepare for plotting\n",
    "    plot_sorted_p = np.where(sorted_p<0.05, 1, 0)\n",
    "    plot_sorted_p = plot_sorted_p[np.newaxis,  :]\n",
    "\n",
    "    ax2 = fig.add_axes([0.06, 0.1, 0.03, 0.8], sharey = ax)  # Adjust these values as needed\n",
    "    ax2.imshow(plot_sorted_p.T, aspect =\"auto\", cmap =\"binary\")\n",
    "    ax.yaxis.set_visible(False)\n",
    "    ax2.xaxis.set_visible(False)\n",
    "    ax2.set_ylabel(\"Neurons\", size =  25)\n",
    "\n",
    "    return fig, ax, ax2\n"
   ]
  },
  {
   "cell_type": "markdown",
   "metadata": {},
   "source": [
    "## Piping"
   ]
  },
  {
   "cell_type": "markdown",
   "metadata": {},
   "source": [
    "For every recording, we want to save three plots, a dataframe that looks like Yiran's `neurons_df`, and a dataframe with the size of the mismatch responses and their significance. "
   ]
  },
  {
   "cell_type": "markdown",
   "metadata": {},
   "source": [
    "So far: when given a session, get the recordings, iterate through the sync dataframes, analyse, move to the next recording. "
   ]
  },
  {
   "cell_type": "code",
   "execution_count": null,
   "metadata": {},
   "outputs": [],
   "source": [
    "yirans = pd.read_pickle(\"/camp/lab/znamenskiyp/home/shared/projects/depth_mismatch_seq/BRAC9057.4j/S20240517/neurons_df.pickle\")"
   ]
  },
  {
   "cell_type": "code",
   "execution_count": null,
   "metadata": {},
   "outputs": [],
   "source": [
    "yirans"
   ]
  },
  {
   "cell_type": "markdown",
   "metadata": {},
   "source": [
    "# Debug  :("
   ]
  },
  {
   "cell_type": "code",
   "execution_count": null,
   "metadata": {},
   "outputs": [],
   "source": [
    "session = \"BRAC9057.4j_S20240517\"\n",
    "flexilims_session = None"
   ]
  },
  {
   "cell_type": "code",
   "execution_count": null,
   "metadata": {},
   "outputs": [],
   "source": [
    "#  get the right stuff\n",
    "\n",
    "if flexilims_session is None:\n",
    "    flexilims_session = flz.get_flexilims_session(project_id=PROJECT)\n",
    "\n",
    "exp_session = flz.get_entity(\n",
    "    datatype=\"session\", name=session, flexilims_session=flexilims_session\n",
    ")\n",
    "\n",
    "vs_df_all, imaging_df_all, recordings = mismatch.sync_all_recordings(\n",
    "    session_name=session,\n",
    "    flexilims_session=flexilims_session,\n",
    "    project=PROJECT,\n",
    "    filter_datasets={\"anatomical_only\": 3},\n",
    "    recording_type=\"two_photon\",\n",
    "    protocol_base=PROTOCOL,\n",
    "    photodiode_protocol=5,\n",
    "    return_volumes=True,\n",
    ")\n",
    "\n",
    "recordings = flz.get_entities(\n",
    "    datatype=\"recording\",\n",
    "    origin_id=exp_session['id'],\n",
    "    query_key=\"recording_type\",\n",
    "    query_value=\"two_photon\",\n",
    "    flexilims_session=flexilims_session,\n",
    ")\n",
    "\n",
    "recordings = recordings[recordings.name.str.contains(PROTOCOL)]"
   ]
  },
  {
   "cell_type": "code",
   "execution_count": null,
   "metadata": {},
   "outputs": [],
   "source": [
    "i = 0\n",
    "recname = recordings.name[0]\n",
    "\n",
    "recording = flz.get_entity(\n",
    "    datatype=\"recording\",\n",
    "    name=recname,\n",
    "    flexilims_session=flexilims_session,\n",
    ")\n",
    "\n",
    "\n",
    "\n",
    "closed_loop = imaging_df_all[i]\n",
    "is_playback = mismatch.determine_if_playback(recording, flexilims_session)\n"
   ]
  },
  {
   "cell_type": "code",
   "execution_count": null,
   "metadata": {},
   "outputs": [],
   "source": [
    "print(\"Estimating mismatch distribution\")\n",
    "closed_loop = mismatch.find_mismatch(closed_loop, is_playback)\n",
    "closed_loop, idxs = mismatch.create_mismatch_window(\n",
    "    closed_loop, window_start=5, window_end=20\n",
    ")\n",
    "neurons, neurons_df = mismatch.build_neurons_df(closed_loop)"
   ]
  },
  {
   "cell_type": "code",
   "execution_count": null,
   "metadata": {},
   "outputs": [],
   "source": [
    "beg= 2350\n",
    "end = 2450\n",
    "\n",
    "plt.plot(closed_loop[\"range_indicator\"][beg:end], label  = \"range_indicator\")\n",
    "plt.plot(closed_loop[\"mismatch\"][beg:end], label = \"mismatch\")\n",
    "plt.plot(closed_loop[\"mism_ratio\"][beg:end])\n",
    "\n",
    "#closed_loop = mismatch.find_trials(closed_loop)\n",
    "plt.plot(closed_loop[\"trial_indicator\"][beg:end]/20, label = \"trial_indicator\")\n",
    "\n",
    "\n",
    "plt.legend()\n",
    "\n",
    "plt.show()\n",
    "\n",
    "plt.plot(closed_loop[\"mouse_z\"][beg:end]/150, label = \"mouse_z\")\n",
    "plt.plot((closed_loop[\"mismatch_mouse_z\"][beg:end]+6)/150, label = \"mismatch_mouse_z\")\n",
    "\n",
    "plt.legend()\n",
    "\n",
    "plt.show()\n"
   ]
  },
  {
   "cell_type": "code",
   "execution_count": null,
   "metadata": {},
   "outputs": [],
   "source": [
    "closed_loop[\"mouse_z\"][1]"
   ]
  },
  {
   "cell_type": "code",
   "execution_count": null,
   "metadata": {},
   "outputs": [],
   "source": [
    "beg= 2400\n",
    "end = 2600\n",
    "plt.plot(closed_loop[\"mouse_z\"][beg:end])\n",
    "plt.plot(closed_loop[\"mismatch\"][beg:end]*150)\n",
    "\n",
    "plt.plot(closed_loop[\"mismatch_mouse_z\"][beg:end]+6)"
   ]
  },
  {
   "cell_type": "code",
   "execution_count": null,
   "metadata": {},
   "outputs": [],
   "source": [
    "window_start = 5\n",
    "window_end = 20\n",
    "indices = None\n",
    "\n",
    "mismatches_per_neuron = list(np.zeros(neurons))\n",
    "\n",
    "window = window_start + window_end\n",
    "\n",
    "neurons_df[\"start_mismatch\"] = np.zeros(len(neurons_df[\"range_indicator\"]))\n",
    "\n",
    "neurons_df.loc[1:, \"start_mismatch\"] = np.diff(neurons_df[\"range_indicator\"])\n",
    "\n",
    "if indices is None:\n",
    "    n_mismatches = len(\n",
    "        neurons_df[\"start_mismatch\"][neurons_df[\"start_mismatch\"] == 1]\n",
    "    )\n",
    "else:\n",
    "    n_mismatches = len(indices)\n",
    "\n",
    "print(f\"# mismatches: {n_mismatches}\")\n",
    "\n",
    "for i in range(neurons):\n",
    "    mismatches_per_neuron[i] = np.zeros((n_mismatches, window))\n",
    "\n",
    "# Initialize variables to track the start and end of intervals\n",
    "in_interval = False\n",
    "start_idx = None\n",
    "\n",
    "if indices is None:\n",
    "    # Iterate through the DataFrame to identify intervals\n",
    "    idx_mismatch = -1\n",
    "    print(f\"Building {n_mismatches} mismatches per neuron\")\n",
    "    for idx, row in tqdm(neurons_df.iterrows()):\n",
    "        if row[\"range_indicator\"] == 1 and not in_interval:\n",
    "            # Start of a new interval\n",
    "            start_idx = idx\n",
    "            in_interval = True\n",
    "            idx_mismatch += 1\n",
    "            # print(f\"This is mismatch {idx_mismatch}\")\n",
    "        elif row[\"range_indicator\"] == 0 and in_interval:\n",
    "            # End of the current interval\n",
    "            end_idx = idx - 1\n",
    "            for neuron in range(neurons):\n",
    "                mismatches_per_neuron[neuron][idx_mismatch, :] = neurons_df[\n",
    "                    f\"neuron{neuron}\"\n",
    "                ][start_idx:end_idx]\n",
    "            in_interval = False\n",
    "            # print(f\"start and end idx: {(start_idx, end_idx)}\")\n",
    "\n",
    "else:\n",
    "    print(f\"Building {n_mismatches} mismatches per neuron\")\n",
    "    nframes = len(neurons_df)\n",
    "    for idx_mismatch, idx in tqdm(enumerate(indices)):\n",
    "        start_idx = max(0, idx - window_start)\n",
    "        end_idx = min((nframes - 1), idx + window_end)\n",
    "        for neuron in range(neurons):\n",
    "            #You need to make sure the window always has the right size. \n",
    "            slice_data = neurons_df[f\"neuron{neuron}\"][start_idx:end_idx].values\n",
    "            if len(slice_data) < window:\n",
    "                slice_data = np.pad(slice_data, (0, window - len(slice_data)), 'constant')\n",
    "            mismatches_per_neuron[neuron][idx_mismatch, :] = slice_data"
   ]
  },
  {
   "cell_type": "code",
   "execution_count": null,
   "metadata": {},
   "outputs": [],
   "source": [
    "plt.plot(neurons_df[\"range_indicator\"])"
   ]
  },
  {
   "cell_type": "code",
   "execution_count": null,
   "metadata": {},
   "outputs": [],
   "source": [
    "plt.plot(closed_loop[\"mismatch\"])"
   ]
  },
  {
   "cell_type": "markdown",
   "metadata": {},
   "source": [
    "Okay. Of course it breaks. It's always uncoupled! I need to find playback halts. "
   ]
  },
  {
   "cell_type": "code",
   "execution_count": null,
   "metadata": {},
   "outputs": [],
   "source": [
    "ds = flz.get_datasets(\n",
    "    flexilims_session=flexilims_session,\n",
    "    origin_name=recording.name,\n",
    "    dataset_type=\"harp\",\n",
    "    allow_multiple=False,\n",
    ")"
   ]
  },
  {
   "cell_type": "code",
   "execution_count": null,
   "metadata": {},
   "outputs": [],
   "source": [
    "closed_loop"
   ]
  },
  {
   "cell_type": "markdown",
   "metadata": {},
   "source": [
    "#  Depth\n",
    "\n",
    "Concatenate the dataframes adequately. Plot the correlation between depth and mism. response. "
   ]
  },
  {
   "cell_type": "code",
   "execution_count": null,
   "metadata": {},
   "outputs": [],
   "source": [
    "session = \"BRAC9057.4j_S20240517\"\n",
    "flexilims_session = None"
   ]
  },
  {
   "cell_type": "code",
   "execution_count": null,
   "metadata": {},
   "outputs": [],
   "source": [
    "depth_df = mismatch.build_depth_df(session)\n",
    "depth_df = mismatch.process_depth_df(depth_df)"
   ]
  },
  {
   "cell_type": "markdown",
   "metadata": {},
   "source": [
    "## How we find it"
   ]
  },
  {
   "cell_type": "code",
   "execution_count": null,
   "metadata": {},
   "outputs": [],
   "source": [
    "session = \"BRAC9057.4j_S20240517\"\n",
    "flexilims_session = None\n",
    "#  get the right stuff\n",
    "\n",
    "def build_depth_df(session, index =  0, flexilims_session =  None):\n",
    "    \n",
    "    if flexilims_session is None:\n",
    "        flexilims_session = flz.get_flexilims_session(project_id=PROJECT)\n",
    "\n",
    "    exp_session = flz.get_entity(\n",
    "        datatype=\"session\", name=session, flexilims_session=flexilims_session\n",
    "    )\n",
    "\n",
    "    recordings = flz.get_entities(\n",
    "        datatype=\"recording\",\n",
    "        origin_id=exp_session['id'],\n",
    "        query_key=\"recording_type\",\n",
    "        query_value=\"two_photon\",\n",
    "        flexilims_session=flexilims_session,\n",
    "    )\n",
    "\n",
    "    recordings = recordings[recordings.name.str.contains(PROTOCOL)]\n",
    "    i = index\n",
    "    recname = recordings.name[i]\n",
    "\n",
    "    recording = flz.get_entity(\n",
    "        datatype=\"recording\",\n",
    "        name=recname,\n",
    "        flexilims_session=flexilims_session,\n",
    "    )\n",
    "\n",
    "    processed = flz.get_data_root(\"processed\", flexilims_session=flexilims_session)\n",
    "    yiran_path = processed / exp_session.path / \"neurons_df.pickle\"\n",
    "    yiran_df = pd.read_pickle(yiran_path)\n",
    "\n",
    "    mismatch_path  =  processed / recording.path / \"mismatch_df.pkl\"\n",
    "    mismatch_df = pd.read_pickle(mismatch_path)\n",
    "\n",
    "    depth_df =  {\"is_depth_neuron\": yiran_df[\"is_depth_neuron\"], \n",
    "             \"preferred_depth_closedloop_crossval\": yiran_df[\"preferred_depth_closedloop_crossval\"], \n",
    "             \"depth_tuning_test_spearmanr_pval_closedloop\": yiran_df[\"depth_tuning_test_spearmanr_pval_closedloop\"], \n",
    "             \"mis_modulation_size\": mismatch_df[\"modulation_size\"], \n",
    "             \"mis_p_value\": mismatch_df[\"p_value\"]}\n",
    "    \n",
    "    depth_df = pd.DataFrame(depth_df)\n",
    "\n",
    "    return depth_df\n"
   ]
  },
  {
   "cell_type": "code",
   "execution_count": null,
   "metadata": {},
   "outputs": [],
   "source": [
    "recording.path"
   ]
  },
  {
   "cell_type": "code",
   "execution_count": null,
   "metadata": {},
   "outputs": [],
   "source": [
    "#yirans = pd.read_pickle(\"/camp/lab/znamenskiyp/home/shared/projects/depth_mismatch_seq/BRAC9057.4j/S20240517/neurons_df.pickle\")\n",
    "processed = flz.get_data_root(\"processed\", flexilims_session=flexilims_session)\n",
    "yiran_path = processed / exp_session.path / \"neurons_df.pickle\"\n",
    "yiran_df = pd.read_pickle(yiran_path)"
   ]
  },
  {
   "cell_type": "code",
   "execution_count": null,
   "metadata": {},
   "outputs": [],
   "source": [
    "mismatch_path  =  processed / recording.path / \"mismatch_df.pkl\"\n",
    "mismatch_df = pd.read_pickle(mismatch_path)"
   ]
  },
  {
   "cell_type": "code",
   "execution_count": null,
   "metadata": {},
   "outputs": [],
   "source": [
    "depth_df =  {\"is_depth_neuron\": yiran_df[\"is_depth_neuron\"], \n",
    "             \"preferred_depth_closedloop_crossval\": yiran_df[\"preferred_depth_closedloop_crossval\"], \n",
    "             \"depth_tuning_test_spearmanr_pval_closedloop\": yiran_df[\"depth_tuning_test_spearmanr_pval_closedloop\"], \n",
    "             \"mis_modulation_size\": mismatch_df[\"modulation_size\"], \n",
    "             \"mis_p_value\": mismatch_df[\"p_value\"]}\n",
    "depth_df = pd.DataFrame(depth_df)"
   ]
  },
  {
   "cell_type": "code",
   "execution_count": null,
   "metadata": {},
   "outputs": [],
   "source": [
    "log_preferred_depth = np.log10(depth_df[\"preferred_depth_closedloop_crossval\"])\n",
    "plt.scatter(np.log10(depth_df[\"preferred_depth_closedloop_crossval\"]), depth_df[\"mis_modulation_size\"], marker = \".\")\n",
    "plt.ylabel(\"mismatch modulation\")\n",
    "plt.xlabel(\"log preferred depth\")\n",
    "\n",
    "\n",
    "# Calculate correlation\n",
    "corr_coef, p_value = pearsonr(log_preferred_depth, depth_df[\"mis_modulation_size\"])\n",
    "\n",
    "# Display correlation coefficient\n",
    "plt.title(f\"Correlation: {corr_coef:.2f} (p-value: {p_value:.2e})\")"
   ]
  },
  {
   "cell_type": "code",
   "execution_count": null,
   "metadata": {},
   "outputs": [],
   "source": [
    "#sig_depth_df = depth_df[depth_df[\"mis_p_value\"]<0.05]\n",
    "#sig_depth_df = sig_depth_df[sig_depth_df[\"is_depth_neuron\"]]\n",
    "\n",
    "def process_depth_df(depth_df, threshold = 0.05):\n",
    "    sig_depth_df = depth_df[depth_df[\"mis_p_value\"]<threshold]\n",
    "    sig_depth_df = sig_depth_df[sig_depth_df[\"is_depth_neuron\"]]\n",
    "    positive_mismatch = sig_depth_df[sig_depth_df[\"mis_modulation_size\"]>0]\n",
    "    negative_mismatch = sig_depth_df[sig_depth_df[\"mis_modulation_size\"]<0]\n",
    "\n",
    "    return sig_depth_df, positive_mismatch, negative_mismatch"
   ]
  },
  {
   "cell_type": "code",
   "execution_count": null,
   "metadata": {},
   "outputs": [],
   "source": [
    "def plot_correlation_with_fit(sig_depth_df):\n",
    "    \n",
    "    log_sig_preferred_depth = np.log10(sig_depth_df[\"preferred_depth_closedloop_crossval\"])\n",
    "\n",
    "    fig, ax = plt.subplots(facecolor =  \"white\")\n",
    "\n",
    "    # Scatter plot\n",
    "    ax.scatter(log_sig_preferred_depth, sig_depth_df[\"mis_modulation_size\"], marker=\".\")\n",
    "    ax.set_ylabel(\"Mismatch Modulation\")\n",
    "    ax.set_xlabel(\"Log Preferred Depth\")\n",
    "\n",
    "    # Calculate correlation\n",
    "    corr_coef, p_value = pearsonr(log_sig_preferred_depth, sig_depth_df[\"mis_modulation_size\"])\n",
    "\n",
    "    # Linear fit\n",
    "    fit = np.polyfit(log_sig_preferred_depth, sig_depth_df[\"mis_modulation_size\"], 1)\n",
    "    fit_fn = np.poly1d(fit)\n",
    "\n",
    "    # Plot the best fit line\n",
    "    ax.plot(log_sig_preferred_depth, fit_fn(log_sig_preferred_depth), color=\"red\", label=f'Best fit line: y={fit[0]:.2f}x + {fit[1]:.2f}')\n",
    "\n",
    "    # Display correlation coefficient\n",
    "    ax.set_title(f\"Correlation: {corr_coef:.2f} (p-value: {p_value:.2e})\")\n",
    "    ax.legend()\n",
    "\n",
    "    return fig, ax"
   ]
  },
  {
   "cell_type": "code",
   "execution_count": null,
   "metadata": {},
   "outputs": [],
   "source": [
    "positive_mismatch = sig_depth_df[sig_depth_df[\"mis_modulation_size\"]>0]\n",
    "negative_mismatch = sig_depth_df[sig_depth_df[\"mis_modulation_size\"]<0]"
   ]
  },
  {
   "cell_type": "code",
   "execution_count": null,
   "metadata": {},
   "outputs": [],
   "source": []
  },
  {
   "cell_type": "markdown",
   "metadata": {},
   "source": [
    "## Pull them for three sessions"
   ]
  },
  {
   "cell_type": "code",
   "execution_count": null,
   "metadata": {},
   "outputs": [],
   "source": [
    "flexilims_session = None\n",
    "\n",
    "#14 is not processed?\n",
    "\n",
    "sessionlist = [\"BRAC9057.4j_S20240517\", \n",
    "               \"BRAC9057.4j_S20240516\", \n",
    "               \"BRYB177.4e_S20240520\", \n",
    "               \"BRYB177.4e_S20240521\",\n",
    "                \"BRYB177.4e_S20240524\", \n",
    "               \"BRAC9057.4i_S20240430\"\n",
    "               ]\n",
    "               #placeholder, ideally  it  chooses them automatically\n",
    "\n",
    "depthlist = list(np.zeros(len(sessionlist)))\n",
    "\n",
    "for i, session in tqdm(enumerate(sessionlist)):\n",
    "\n",
    "    depth_df =  mismatch.build_depth_df(session, 0, flexilims_session)\n",
    "    depth_df[\"origin\"] = session\n",
    "    depthlist[i] = depth_df"
   ]
  },
  {
   "cell_type": "code",
   "execution_count": null,
   "metadata": {},
   "outputs": [],
   "source": [
    "complete_depth =  pd.concat(depthlist, ignore_index =   True)"
   ]
  },
  {
   "cell_type": "code",
   "execution_count": null,
   "metadata": {},
   "outputs": [],
   "source": [
    "sig_depth_df, positive_mismatch, negative_mismatch = mismatch.process_depth_df(complete_depth)"
   ]
  },
  {
   "cell_type": "code",
   "execution_count": null,
   "metadata": {},
   "outputs": [],
   "source": [
    "len(positive_mismatch)"
   ]
  },
  {
   "cell_type": "code",
   "execution_count": null,
   "metadata": {},
   "outputs": [],
   "source": [
    "def plot_differential_histograms(positive_mismatch, negative_mismatch):\n",
    "\n",
    "    fig, ax = plt.subplots(1, 2, sharex = True, facecolor = \"white\")\n",
    "    ax[0].hist(np.log10(positive_mismatch[\"preferred_depth_closedloop_crossval\"]), bins  =  100)\n",
    "    ax[0].set_title(f\"Positive mismatch, n={len(positive_mismatch)}\")\n",
    "    ax[0].set_xlim((-2, 2))\n",
    "    ax[0].axvline(np.median(np.log10(positive_mismatch[\"preferred_depth_closedloop_crossval\"])), color  = \"red\")\n",
    "\n",
    "\n",
    "    ax[1].hist(np.log10(negative_mismatch[\"preferred_depth_closedloop_crossval\"]), bins  =  100)\n",
    "    ax[1].set_title(f\"Negative mismatch,  n={len(negative_mismatch)}\")\n",
    "    ax[1].set_xlim((-2, 2))\n",
    "    ax[1].axvline(np.median(np.log10(negative_mismatch[\"preferred_depth_closedloop_crossval\"])), color = \"red\")\n",
    "\n",
    "    ax[1].set_xlabel(\"log pref depth\")\n",
    "    ax[0].set_xlabel(\"log pref depth\")\n",
    "    ax[0].set_ylabel(\"Count\")\n",
    "\n",
    "\n",
    "    p =  mannwhitneyu(np.log10(positive_mismatch[\"preferred_depth_closedloop_crossval\"]), np.log10(negative_mismatch[\"preferred_depth_closedloop_crossval\"]))\n",
    "    fig.suptitle(f\"M-W U: p = {p.pvalue:.2e}\")\n",
    "    print(p)\n",
    "\n",
    "    return  fig,  ax"
   ]
  },
  {
   "cell_type": "code",
   "execution_count": null,
   "metadata": {},
   "outputs": [],
   "source": [
    "fig, ax = mismatch.plot_differential_histograms(positive_mismatch, negative_mismatch)\n",
    "plt.show()"
   ]
  },
  {
   "cell_type": "code",
   "execution_count": null,
   "metadata": {},
   "outputs": [],
   "source": [
    "fig, ax = mismatch.plot_correlation_with_fit(sig_depth_df)\n",
    "plt.show()               "
   ]
  },
  {
   "cell_type": "code",
   "execution_count": null,
   "metadata": {},
   "outputs": [],
   "source": [
    "fig, ax = mismatch.plot_correlation_with_fit(positive_mismatch)\n",
    "plt.show()"
   ]
  },
  {
   "cell_type": "code",
   "execution_count": null,
   "metadata": {},
   "outputs": [],
   "source": [
    "fig, ax = mismatch.plot_correlation_with_fit(negative_mismatch)\n",
    "plt.show()"
   ]
  },
  {
   "cell_type": "code",
   "execution_count": null,
   "metadata": {},
   "outputs": [],
   "source": [
    "# Define sets for the two conditions\n",
    "# Define sets for the two conditions\n",
    "depth = set(complete_depth.index[(complete_depth[\"depth_tuning_test_spearmanr_pval_closedloop\"]<0.05) & (complete_depth[\"depth_tuning_test_spearmanr_rval_closedloop\"]>0) ])\n",
    "mismatch_set = set(complete_depth.index[complete_depth['mis_p_value'] < 0.05])\n",
    "all_neurons = set(complete_depth.index)\n",
    "\n",
    "# Create a figure and axis with a white background\n",
    "fig, ax = plt.subplots(figsize=(8, 8))\n",
    "fig.patch.set_facecolor('white')\n",
    "ax.set_facecolor('white')\n",
    "\n",
    "# Create a Venn diagram\n",
    "venn3([depth, mismatch_set, all_neurons], ('Depth neurons', 'Mismatch neurons', \"All neurons\"), ax=ax)\n",
    "\n",
    "# Set title\n",
    "ax.set_title('Venn Diagram for Depth and Mismatch neurons')\n",
    "\n",
    "# Show the plot\n",
    "plt.show()"
   ]
  },
  {
   "cell_type": "markdown",
   "metadata": {},
   "source": [
    "# Multigain analysis\n",
    "\n",
    "Having a look"
   ]
  },
  {
   "cell_type": "code",
   "execution_count": null,
   "metadata": {},
   "outputs": [],
   "source": [
    "session = \"BRYB177.4e_S20240530\"\n",
    "flexilims_session = None\n",
    "#  get the right stuff\n",
    "\n",
    "if flexilims_session is None:\n",
    "    flexilims_session = flz.get_flexilims_session(project_id=PROJECT)\n",
    "\n",
    "exp_session = flz.get_entity(\n",
    "    datatype=\"session\", name=session, flexilims_session=flexilims_session\n",
    ")\n",
    "\n",
    "vs_df_all, imaging_df_all, recordings = mismatch.sync_all_recordings(\n",
    "    session_name=session,\n",
    "    flexilims_session=flexilims_session,\n",
    "    project=PROJECT,\n",
    "    filter_datasets={\"anatomical_only\": 3},\n",
    "    recording_type=\"two_photon\",\n",
    "    protocol_base=PROTOCOL,\n",
    "    photodiode_protocol=5,\n",
    "    return_volumes=True,\n",
    ")\n",
    "\n",
    "recordings = flz.get_entities(\n",
    "    datatype=\"recording\",\n",
    "    origin_id=exp_session['id'],\n",
    "    query_key=\"recording_type\",\n",
    "    query_value=\"two_photon\",\n",
    "    flexilims_session=flexilims_session,\n",
    ")\n",
    "\n",
    "recordings = recordings[recordings.name.str.contains(PROTOCOL)]\n",
    "i = 2\n",
    "recname = recordings.name[i]\n",
    "\n",
    "recording = flz.get_entity(\n",
    "    datatype=\"recording\",\n",
    "    name=recname,\n",
    "    flexilims_session=flexilims_session,\n",
    ")\n",
    "\n",
    "closed_loop = imaging_df_all[i]\n",
    "is_playback = mismatch.determine_if_playback(recording, flexilims_session)\n"
   ]
  },
  {
   "cell_type": "markdown",
   "metadata": {},
   "source": [
    "## Building a pipeline"
   ]
  },
  {
   "cell_type": "code",
   "execution_count": null,
   "metadata": {},
   "outputs": [],
   "source": [
    "plt.plot(closed_loop[\"mism_ratio\"])"
   ]
  },
  {
   "cell_type": "code",
   "execution_count": null,
   "metadata": {},
   "outputs": [],
   "source": [
    "# List of target values\n",
    "target_values = [1, 0.25, 4]\n",
    "\n",
    "# Function to find the closest value in the target list\n",
    "def find_closest_value(value, target_values):\n",
    "    return min(target_values, key=lambda x: abs(x - value))\n",
    "\n",
    "# Apply the function to the series\n",
    "filtered_series = closed_loop[\"mism_ratio\"].apply(lambda x: find_closest_value(x, target_values))\n",
    "\n",
    "#filter blips\n",
    "closed_loop[\"filtered_mism_ratio\"]  = filtered_series\n",
    "for i in range(1, len(closed_loop)-1):\n",
    "    if (closed_loop[\"filtered_mism_ratio\"][i] != closed_loop[\"filtered_mism_ratio\"][i-1]) and (closed_loop[\"filtered_mism_ratio\"][i] != closed_loop[\"filtered_mism_ratio\"][i+1]):\n",
    "        closed_loop[\"filtered_mism_ratio\"][i] = closed_loop[\"filtered_mism_ratio\"][i-1]"
   ]
  },
  {
   "cell_type": "code",
   "execution_count": null,
   "metadata": {},
   "outputs": [],
   "source": [
    "#plt.plot(closed_loop[\"mism_ratio\"])\n",
    "beg =  0\n",
    "end = -1\n",
    "plt.plot(closed_loop[\"filtered_mism_ratio\"][beg:end], label =  \"filtered\", alpha  = 0.5)\n",
    "#plt.plot(filtered_series[beg:end])\n",
    "plt.plot(closed_loop[\"mism_ratio\"][beg:end], label =  \"unfiltered\", alpha  = 0.5)\n",
    "plt.legend()"
   ]
  },
  {
   "cell_type": "markdown",
   "metadata": {},
   "source": [
    "Trials drift. What about blatantly usingg the debug tool to identify  trials the harder way? This  can help knowing what's a transition and what's a mismatch. "
   ]
  },
  {
   "cell_type": "code",
   "execution_count": null,
   "metadata": {},
   "outputs": [],
   "source": [
    "MismatchDebug = mismatch.get_mismatch_debug_file(flexilims_session, recording)\n",
    "\n",
    "sync_loop = mismatch.synchronize_dataframes(closed_loop, MismatchDebug)"
   ]
  },
  {
   "cell_type": "code",
   "execution_count": null,
   "metadata": {},
   "outputs": [],
   "source": [
    "sync_loop"
   ]
  },
  {
   "cell_type": "code",
   "execution_count": null,
   "metadata": {},
   "outputs": [],
   "source": [
    "beg = 0\n",
    "end = -1\n",
    "\n",
    "plt.plot(sync_loop[\"mouse_z\"][beg:end])\n",
    "plt.plot(sync_loop[\"mismatch_mouse_z\"][beg:end])"
   ]
  },
  {
   "cell_type": "code",
   "execution_count": null,
   "metadata": {},
   "outputs": [],
   "source": [
    "sync_loop[\"mismatch\"] = 0\n",
    "sync_loop[\"trial_end\"] = 0\n",
    "sync_loop[\"in_trial\"] = 0\n",
    "\n",
    "for i in range(1, len(sync_loop)-1):\n",
    "    if (sync_loop[\"IsMismatch\"][i-1] == False) and (sync_loop[\"IsMismatch\"][i+1] == True):\n",
    "        sync_loop.loc[i-3:i, \"mismatch\"] = 1\n",
    "    if (sync_loop[\"IsMismatch\"][i-1] == True) and (sync_loop[\"IsMismatch\"][i+1] == False):\n",
    "        sync_loop.at[i, \"trial_end\"] = 1\n",
    "        trial_start = sync_loop[\"mouse_z\"][i] - ((5/6)*6)\n",
    "        trial_end = sync_loop[\"mouse_z\"][i] + ((1/6)*6)\n",
    "        closest_row = sync_loop.iloc[(sync_loop[\"mouse_z\"] - trial_start).abs().argmin()]\n",
    "        start_index = closest_row.name\n",
    "        closest_row = sync_loop.iloc[(sync_loop[\"mouse_z\"] - trial_end).abs().argmin()]\n",
    "        end_index =  closest_row.name\n",
    "        sync_loop.loc[start_index:end_index, \"in_trial\"] = 1"
   ]
  },
  {
   "cell_type": "code",
   "execution_count": null,
   "metadata": {},
   "outputs": [],
   "source": [
    "\n",
    "# Define the range\n",
    "beg = 2000\n",
    "end = 3000\n",
    "\n",
    "# Create a figure and axis\n",
    "fig, ax = plt.subplots(figsize=(14, 8))\n",
    "\n",
    "# Plot the data\n",
    "ax.plot(closed_loop[\"mouse_z\"][beg:end], closed_loop[\"filtered_mism_ratio\"][beg:end], label=\"Filtered\", alpha=0.5)\n",
    "ax.plot(closed_loop[\"mouse_z\"][beg:end], closed_loop[\"mism_ratio\"][beg:end], label=\"Unfiltered\", alpha=0.5)\n",
    "ax.plot(closed_loop[\"mouse_z\"][beg:end], sync_loop[\"mismatch\"][beg:end], label=\"Mismatch\", alpha=0.5)\n",
    "ax.plot(closed_loop[\"mouse_z\"][beg:end], sync_loop[\"IsMismatch\"][beg:end], label=\"IsMismatch\", alpha=0.5)\n",
    "ax.plot(closed_loop[\"mouse_z\"][beg:end], sync_loop[\"in_trial\"][beg:end], label=\"In Trial\", alpha=0.5)\n",
    "\n",
    "# Add legend\n",
    "ax.legend()\n",
    "\n",
    "# Set title and labels\n",
    "ax.set_title('Trial from index {} to {}'.format(beg, end))\n",
    "ax.set_xlabel('Index')\n",
    "ax.set_ylabel('Values')\n",
    "\n",
    "# Set white background\n",
    "fig.patch.set_facecolor('white')\n",
    "ax.set_facecolor('white')\n",
    "\n",
    "# Show the plot\n",
    "plt.show()\n",
    "\n"
   ]
  },
  {
   "cell_type": "markdown",
   "metadata": {},
   "source": [
    "And now we find the window on which mismatches are possible"
   ]
  },
  {
   "cell_type": "code",
   "execution_count": null,
   "metadata": {},
   "outputs": [],
   "source": [
    "closed_loop[\"trial_indicator\"]=sync_loop[\"in_trial\"]\n",
    "closed_loop[\"estimated_mismatch\"] =  sync_loop[\"mismatch\"]\n",
    "closed_loop = mismatch.define_window_for_mismatch(closed_loop)"
   ]
  },
  {
   "cell_type": "code",
   "execution_count": null,
   "metadata": {},
   "outputs": [],
   "source": [
    "# Define the range\n",
    "beg = 2000\n",
    "end = 3000\n",
    "\n",
    "# Create a figure and axis\n",
    "fig, ax = plt.subplots(figsize=(14, 8))\n",
    "\n",
    "# Plot the data\n",
    "ax.plot(closed_loop[\"mouse_z\"][beg:end], closed_loop[\"filtered_mism_ratio\"][beg:end], label=\"Filtered\", alpha=0.5)\n",
    "ax.plot(closed_loop[\"mouse_z\"][beg:end], closed_loop[\"mism_ratio\"][beg:end], label=\"Unfiltered\", alpha=0.5)\n",
    "ax.plot(closed_loop[\"mouse_z\"][beg:end], sync_loop[\"mismatch\"][beg:end], label=\"Mismatch\", alpha=0.5)\n",
    "#ax.plot(closed_loop[\"mouse_z\"][beg:end], sync_loop[\"IsMismatch\"][beg:end], label=\"IsMismatch\", alpha=0.5)\n",
    "ax.plot(closed_loop[\"mouse_z\"][beg:end], sync_loop[\"in_trial\"][beg:end], label=\"In Trial\", alpha=0.5)\n",
    "ax.plot(closed_loop[\"mouse_z\"][beg:end], closed_loop[\"mismatch_window\"][beg:end], label=\"Mismatch window\", alpha=0.5)\n",
    "\n",
    "\n",
    "# Add legend\n",
    "ax.legend()\n",
    "\n",
    "# Set title and labels\n",
    "ax.set_title('Trial from index {} to {}'.format(beg, end))\n",
    "ax.set_xlabel('Mouse position')\n",
    "ax.set_ylabel('Values')\n",
    "\n",
    "# Set white background\n",
    "fig.patch.set_facecolor('white')\n",
    "ax.set_facecolor('white')\n",
    "\n",
    "# Show the plot\n",
    "plt.show()"
   ]
  },
  {
   "cell_type": "markdown",
   "metadata": {},
   "source": [
    "## Running pipeline"
   ]
  },
  {
   "cell_type": "code",
   "execution_count": null,
   "metadata": {},
   "outputs": [],
   "source": [
    "from cottage_analysis.analysis import mismatch"
   ]
  },
  {
   "cell_type": "code",
   "execution_count": null,
   "metadata": {},
   "outputs": [],
   "source": [
    "fig, ax, closed_loop, gains_df =  mismatch.find_multimismatch(closed_loop, recording)"
   ]
  },
  {
   "cell_type": "code",
   "execution_count": null,
   "metadata": {},
   "outputs": [],
   "source": [
    "closed_loop, idxs = mismatch.create_mismatch_window(\n",
    "    closed_loop, window_start=5, window_end=20\n",
    ")\n",
    "neurons, neurons_df = mismatch.build_neurons_df(closed_loop)\n",
    "misperneuron = mismatch.build_mismatches_per_neuron_list(\n",
    "    neurons, neurons_df, window_start=5, window_end=20\n",
    ")"
   ]
  },
  {
   "cell_type": "code",
   "execution_count": null,
   "metadata": {},
   "outputs": [],
   "source": [
    "\n",
    "\n",
    "beg = 1400\n",
    "end= 1600\n",
    "#plt.plot(closed_loop[\"range_indicator\"][beg:end])\n",
    "plt.plot(closed_loop[\"in_trial\"][beg:end], label = \"in_trial\")\n",
    "plt.plot(closed_loop[\"trial_start\"][beg:end], label =\"trial_start\")\n",
    "#plt.plot(closed_loop[\"mismatch\"][beg:end], label = \"mismatch\")\n",
    "#plt.plot(closed_loop[\"filtered_mism_ratio\"][beg:end])\n",
    "#plt.plot(closed_loop[\"mism_ratio\"][beg:end])\n",
    "#plt.plot(closed_loop[\"mism_ratio_filled\"][beg:end])\n",
    "\n",
    "#print(closed_loop[\"mism_ratio_filled\"][beg:end])\n",
    "plt.legend()\n"
   ]
  },
  {
   "cell_type": "code",
   "execution_count": null,
   "metadata": {},
   "outputs": [],
   "source": [
    "misperneuron[3].shape"
   ]
  },
  {
   "cell_type": "code",
   "execution_count": null,
   "metadata": {},
   "outputs": [],
   "source": [
    "gains_df"
   ]
  },
  {
   "cell_type": "code",
   "execution_count": null,
   "metadata": {},
   "outputs": [],
   "source": [
    "\n",
    "tt_misperneuron =  {\n",
    "    \"htm\":[],\n",
    "    \"htl\": [], \n",
    "    \"mtl\": [],\n",
    "    \"mth\": [],\n",
    "    \"ltm\": [],\n",
    "    \"lth\": []\n",
    "    }\n",
    "\n",
    "# Dictionary to hold the indexes for each trial type\n",
    "tt_indices = {\n",
    "    \"htm\": [],\n",
    "    \"htl\": [], \n",
    "    \"mtl\": [],\n",
    "    \"mth\": [],\n",
    "    \"ltm\": [],\n",
    "    \"lth\": []\n",
    "    }\n",
    "\n",
    "# Identifying indexes for each trial type\n",
    "tt_indices[\"htm\"] = gains_df[(gains_df[\"start\"] == 4) & (gains_df[\"end\"] == 1)].index.tolist()\n",
    "tt_indices[\"htl\"] = gains_df[(gains_df[\"start\"] == 4) & (gains_df[\"end\"] == 0.25)].index.tolist()\n",
    "tt_indices[\"mtl\"] = gains_df[(gains_df[\"start\"] == 1) & (gains_df[\"end\"] == 0.25)].index.tolist()\n",
    "tt_indices[\"mth\"] = gains_df[(gains_df[\"start\"] == 1) & (gains_df[\"end\"] == 4)].index.tolist()\n",
    "tt_indices[\"ltm\"] = gains_df[(gains_df[\"start\"] == 0.25) & (gains_df[\"end\"] == 1)].index.tolist()\n",
    "tt_indices[\"lth\"] = gains_df[(gains_df[\"start\"] == 0.25) & (gains_df[\"end\"] == 4)].index.tolist()\n",
    "\n",
    "# Mapping misperneuron values to tt_misperneuron based on tt_indices\n",
    "for trial_type in tt_misperneuron.keys():\n",
    "    tt_misperneuron[trial_type] = [misperneuron[idx] for idx in tt_indices[trial_type]]"
   ]
  },
  {
   "cell_type": "code",
   "execution_count": null,
   "metadata": {},
   "outputs": [],
   "source": [
    "# Calculate np.diff and pad the result\n",
    "trial_diff = np.diff(closed_loop[\"in_trial\"])\n",
    "padded_diff = np.insert(trial_diff, 0, 0)  # Insert 0 at the beginning to match the length\n",
    "# Assign the padded_diff to the appropriate slice\n",
    "closed_loop.loc[:, \"trial_in_out\"] = padded_diff\n",
    "\n",
    "# Find the indices where trial_in_out is 1\n",
    "beginnings = closed_loop[closed_loop[\"trial_in_out\"] == 1].index\n",
    "ends = closed_loop[closed_loop[\"trial_in_out\"] == -1].index\n",
    "\n",
    "\n",
    "# Initialize trial_gains array with the correct length\n",
    "trial_gains = np.zeros(len(beginnings))\n",
    "\n",
    "# Iterate through the indices and perform the desired operation\n",
    "for index, trial in enumerate(beginnings):\n",
    "    trial_gains[index] = closed_loop[\"filtered_mism_ratio\"][trial+20]\n",
    "\n"
   ]
  },
  {
   "cell_type": "code",
   "execution_count": null,
   "metadata": {},
   "outputs": [],
   "source": [
    "# Gain values\n",
    "tt_gains = {\n",
    "    \"h\": 4,\n",
    "    \"m\": 1, \n",
    "    \"l\": 0.25,\n",
    "}\n",
    "\n",
    "# New dictionary to store filtered DataFrames\n",
    "null = {}\n",
    "\n",
    "\n",
    "for gain in tt_gains.keys():\n",
    "    # Filter for moments with the correct gain\n",
    "    trials = closed_loop[(closed_loop[\"filtered_mism_ratio\"] == tt_gains[gain]) &\n",
    "                         (closed_loop[\"range_indicator\"] == 0)]\n",
    "    null[gain] = trials\n",
    "\n",
    "\n",
    "for gain in null.keys():\n",
    "    plt.figure()\n",
    "    plt.title(f\"Filtered Trials for Gain {gain}\")\n",
    "    plt.plot(null[gain].index, null[gain][\"filtered_mism_ratio\"], '.')\n",
    "    plt.xlabel(\"Index\")\n",
    "    plt.ylabel(\"Filtered Mism Ratio\")\n",
    "    plt.show()"
   ]
  },
  {
   "cell_type": "code",
   "execution_count": null,
   "metadata": {},
   "outputs": [],
   "source": [
    "plt.scatter(range(len(filtered_trials[\"l\"][\"imaging_frame\"])), filtered_trials[\"l\"][\"imaging_frame\"])"
   ]
  },
  {
   "cell_type": "code",
   "execution_count": null,
   "metadata": {},
   "outputs": [],
   "source": [
    "tt_null = {\n",
    "    \"htm\": filtered_trials[\"h\"],\n",
    "    \"htl\": filtered_trials[\"h\"], \n",
    "    \"mtl\": filtered_trials[\"m\"],\n",
    "    \"mth\": filtered_trials[\"m\"],\n",
    "    \"ltm\": filtered_trials[\"l\"],\n",
    "    \"lth\": filtered_trials[\"l\"]\n",
    "    }"
   ]
  },
  {
   "cell_type": "code",
   "execution_count": null,
   "metadata": {},
   "outputs": [],
   "source": [
    "def break_into_trial_types(misperneuron, gains_df):\n",
    "\n",
    "    tt_misperneuron =  {\n",
    "        \"htm\":[],\n",
    "        \"htl\": [], \n",
    "        \"mtl\": [],\n",
    "        \"mth\": [],\n",
    "        \"ltm\": [],\n",
    "        \"lth\": []\n",
    "        }\n",
    "\n",
    "    # Dictionary to hold the indexes for each trial type\n",
    "    tt_indices = {\n",
    "        \"htm\": [],\n",
    "        \"htl\": [], \n",
    "        \"mtl\": [],\n",
    "        \"mth\": [],\n",
    "        \"ltm\": [],\n",
    "        \"lth\": []\n",
    "        }\n",
    "\n",
    "    # Identifying indexes for each trial type\n",
    "    tt_indices[\"htm\"] = gains_df[(gains_df[\"start\"] == 4) & (gains_df[\"end\"] == 1)].index.tolist()\n",
    "    tt_indices[\"htl\"] = gains_df[(gains_df[\"start\"] == 4) & (gains_df[\"end\"] == 0.25)].index.tolist()\n",
    "    tt_indices[\"mtl\"] = gains_df[(gains_df[\"start\"] == 1) & (gains_df[\"end\"] == 0.25)].index.tolist()\n",
    "    tt_indices[\"mth\"] = gains_df[(gains_df[\"start\"] == 1) & (gains_df[\"end\"] == 4)].index.tolist()\n",
    "    tt_indices[\"ltm\"] = gains_df[(gains_df[\"start\"] == 0.25) & (gains_df[\"end\"] == 1)].index.tolist()\n",
    "    tt_indices[\"lth\"] = gains_df[(gains_df[\"start\"] == 0.25) & (gains_df[\"end\"] == 4)].index.tolist()\n",
    "\n",
    "    # Mapping misperneuron values to tt_misperneuron based on tt_indices\n",
    "    for trial_type in tt_misperneuron.keys():\n",
    "        tt_misperneuron[trial_type] = [misperneuron[idx] for idx in tt_indices[trial_type]]\n",
    "\n",
    "    return tt_misperneuron\n",
    "\n",
    "def build_null_dist_per_trial_type(closed_loop):\n",
    "    # Gain values\n",
    "    tt_gains = {\n",
    "        \"h\": 4,\n",
    "        \"m\": 1, \n",
    "        \"l\": 0.25,\n",
    "    }\n",
    "\n",
    "    # New dictionary to store filtered DataFrames\n",
    "    null = {}\n",
    "\n",
    "    for gain in tt_gains.keys():\n",
    "        # Filter for moments with the correct gain\n",
    "        trials = closed_loop[(closed_loop[\"filtered_mism_ratio\"] == tt_gains[gain]) &\n",
    "                            (closed_loop[\"range_indicator\"] == 0)]\n",
    "        null[gain] = trials.index.tolist()\n",
    "\n",
    "\n",
    "    for gain in null.keys():\n",
    "        plt.figure()\n",
    "        plt.title(f\"Filtered Trials for Gain {gain}\")\n",
    "        plt.plot(null[gain], closed_loop[\"filtered_mism_ratio\"][null[gain]], '.')\n",
    "        plt.xlabel(\"Index\")\n",
    "        plt.ylabel(\"Filtered Mism Ratio\")\n",
    "        plt.show()\n",
    "    \n",
    "    return null"
   ]
  },
  {
   "cell_type": "code",
   "execution_count": null,
   "metadata": {},
   "outputs": [],
   "source": [
    "def make_tt_rasters(tt_misperneuron, null, neurons):\n",
    "\n",
    "    tt_raster = {}\n",
    "    tt_rand_raster = {}\n",
    "    tt_rand_misperneuron = {}\n",
    "\n",
    "    for gain in tt_misperneuron.keys():\n",
    "        tt_raster[gain] = raster(neurons, tt_misperneuron[gain], window_start=5, window_end=20)\n",
    "        tt_rand_raster[gain], tt_rand_misperneuron[gain] = make_rand_raster(closed_loop, n_events=200, window_end=10, indices=null[gain])\n",
    "\n",
    "    return tt_raster, tt_rand_raster, tt_rand_misperneuron\n",
    "\n",
    "def make_tt_sorted_raster(tt_rand_raster, tt_raster):\n",
    "\n",
    "    tt_sorted_mismatch_raster = {}\n",
    "    tt_modulation_raster = {}\n",
    "\n",
    "    for gain in tt_raster.keys():\n",
    "        tt_sorted_mismatch_raster[gain], tt_modulation_raster[gain] = modulation_sort_raster(tt_rand_raster[gain], tt_raster[gain])\n",
    "    \n",
    "    return tt_sorted_mismatch_raster,  tt_modulation_raster\n",
    "\n",
    "def calculate_tt_significance(tt_misperneuron, tt_rand_misperneuron, tt_modulation_raster):\n",
    "\n",
    "    tt_sorted_p = {}\n",
    "\n",
    "    for gain in tt_misperneuron.keys():\n",
    "        tt_sorted_p[gain] = calculate_significance(tt_misperneuron[gain], tt_rand_misperneuron[gain], tt_modulation_raster[gain])\n",
    "    \n",
    "    return tt_sorted_p\n",
    "\n"
   ]
  },
  {
   "cell_type": "markdown",
   "metadata": {},
   "source": [
    "## Plotting rasters"
   ]
  },
  {
   "cell_type": "code",
   "execution_count": null,
   "metadata": {},
   "outputs": [],
   "source": [
    "tt_raster, tt_sorted_p = mismatch.analyse_multimismatch(closed_loop, recording)"
   ]
  },
  {
   "cell_type": "code",
   "execution_count": null,
   "metadata": {},
   "outputs": [],
   "source": [
    "mismatch.plot_raster_grid(tt_raster, tt_sorted_p)"
   ]
  },
  {
   "cell_type": "markdown",
   "metadata": {},
   "source": [
    "Okay, we debug"
   ]
  },
  {
   "cell_type": "code",
   "execution_count": null,
   "metadata": {},
   "outputs": [],
   "source": [
    "findfig, findax, closed_loop, gains_df  = mismatch.find_multimismatch(closed_loop, recording,  is_playback, flexilims_session)\n",
    "\n",
    "closed_loop, idxs = mismatch.create_mismatch_window(\n",
    "    closed_loop, window_start=5, window_end=20\n",
    "    )\n",
    "neurons, neurons_df = mismatch.build_neurons_df(closed_loop)\n",
    "\n",
    "misperneuron = mismatch.build_mismatches_per_neuron_list(\n",
    "    neurons, neurons_df, window_start=5, window_end=20\n",
    "    )\n",
    "\n",
    "tt_misperneuron  = mismatch.break_into_trial_types(misperneuron, gains_df)\n",
    "\n",
    "null = mismatch.build_null_dist_per_trial_type(closed_loop)"
   ]
  },
  {
   "cell_type": "code",
   "execution_count": null,
   "metadata": {},
   "outputs": [],
   "source": [
    "tt_raster, tt_rand_raster, tt_rand_misperneuron = mismatch.make_tt_rasters(tt_misperneuron, null, neurons, closed_loop)\n"
   ]
  },
  {
   "cell_type": "code",
   "execution_count": null,
   "metadata": {},
   "outputs": [],
   "source": [
    "sort = \"all\"\n",
    "\n",
    "tt_sorted_mismatch_raster,  tt_modulation_raster = mismatch.make_tt_sorted_raster(tt_rand_raster, tt_raster, sort = sort)\n",
    "\n",
    "tt_sorted_p = mismatch.calculate_tt_significance(tt_misperneuron, tt_rand_misperneuron, tt_modulation_raster, sort =sort)"
   ]
  },
  {
   "cell_type": "code",
   "execution_count": null,
   "metadata": {},
   "outputs": [],
   "source": [
    "fig, axes = mismatch.plot_raster_grid(tt_sorted_mismatch_raster, tt_sorted_p)\n",
    "fig.suptitle(f\"Sorted {sort}\", size  = 60)\n",
    "plt.show()"
   ]
  },
  {
   "cell_type": "code",
   "execution_count": null,
   "metadata": {},
   "outputs": [],
   "source": []
  },
  {
   "cell_type": "code",
   "execution_count": null,
   "metadata": {},
   "outputs": [],
   "source": []
  }
 ],
 "metadata": {
  "kernelspec": {
   "language": "python"
  },
  "language_info": {
   "codemirror_mode": {
    "name": "ipython",
    "version": 3
   },
   "file_extension": ".py",
   "mimetype": "text/x-python",
   "name": "python",
   "nbconvert_exporter": "python",
   "pygments_lexer": "ipython3"
  }
 },
 "nbformat": 4,
 "nbformat_minor": 2
}
