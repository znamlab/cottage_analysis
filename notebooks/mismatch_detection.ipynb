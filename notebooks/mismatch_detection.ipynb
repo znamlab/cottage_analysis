{
 "cells": [
  {
   "cell_type": "markdown",
   "metadata": {},
   "source": [
    "# Mismatch detection\n",
    ">Antonio Colás Nieto, @acolasn, anconi.1999@gmail.com\n",
    "\n",
    "We will run standard synchronization code and attempt to find and analyse mismatch responses.  \n",
    "\n",
    "Taken from `demo_analysis.ipynb`, and hoping that I need to change as little as possible. "
   ]
  },
  {
   "cell_type": "code",
   "execution_count": null,
   "metadata": {},
   "outputs": [],
   "source": [
    "%reload_ext autoreload\n",
    "%autoreload 2\n",
    "\n",
    "import functools\n",
    "\n",
    "print = functools.partial(print, flush=True)\n",
    "\n",
    "import os\n",
    "import random\n",
    "import numpy as np\n",
    "import pandas as pd\n",
    "import matplotlib.pyplot as plt\n",
    "from pathlib import Path\n",
    "import pickle\n",
    "from cottage_analysis.analysis import (\n",
    "    mismatch)\n",
    "import flexiznam as flz\n"
   ]
  },
  {
   "cell_type": "code",
   "execution_count": null,
   "metadata": {},
   "outputs": [],
   "source": [
    "# Example session\n",
    "project = \"663214d08993fd0b6e6b5f1d\"\n",
    "mouse = \"BRAC9057.4j\"\n",
    "session = \"BRAC9057.4j_S20240516\"\n",
    "#RECORDING = \"R171146_KellerTube\"\n",
    "protocol = \"KellerTube\"\n",
    "MESSAGES = \"harpmessage.bin\"\n",
    "flexilims_session = flz.get_flexilims_session(project_id=project)\n",
    "# all_protocol_recording_entries = generate_filepaths.get_all_recording_entries(project=project,\n",
    "#                                                                               mouse=mouse,\n",
    "#                                                                               session=session,\n",
    "#                                                                               protocol=protocol,\n",
    "#                                                                               flexilims_session=flexilims_session)\n",
    "\n",
    "# # DO NOT RUN THIS FUNCTION (TAKES 2hrs ish): to find monitor frames from photodiode signal\n",
    "# find_monitor_frames(project=project,\n",
    "#                     mouse=mouse,\n",
    "#                     session=session,\n",
    "#                     protocol=protocol,\n",
    "#                     all_protocol_recording_entries=None,\n",
    "#                     irecording=None,\n",
    "#                     flexilims_session=None)"
   ]
  },
  {
   "cell_type": "markdown",
   "metadata": {},
   "source": [
    "## Calculating  $dF/F$ only for one recording  \n",
    "  \n",
    "We first split F and Fneu for all recordings, and then"
   ]
  },
  {
   "cell_type": "code",
   "execution_count": null,
   "metadata": {},
   "outputs": [],
   "source": []
  },
  {
   "cell_type": "markdown",
   "metadata": {},
   "source": [
    "## Synchronization"
   ]
  },
  {
   "cell_type": "markdown",
   "metadata": {},
   "source": [
    "Ideally, this would work out of the bat. "
   ]
  },
  {
   "cell_type": "code",
   "execution_count": null,
   "metadata": {},
   "outputs": [],
   "source": [
    "# Generate synchronisation dataframes\n",
    "\n",
    "vs_df_all, imaging_df_all, recordings = mismatch.sync_all_recordings(\n",
    "    session_name=session,\n",
    "    flexilims_session=flexilims_session,\n",
    "    project=project,\n",
    "    filter_datasets={\"anatomical_only\": 3},\n",
    "    recording_type=\"two_photon\",\n",
    "    protocol_base=\"KellerTube\",\n",
    "    photodiode_protocol=5,\n",
    "    return_volumes=True,\n",
    ")"
   ]
  },
  {
   "cell_type": "markdown",
   "metadata": {},
   "source": [
    "# Analysis: choose a recording from the session"
   ]
  },
  {
   "cell_type": "code",
   "execution_count": null,
   "metadata": {},
   "outputs": [],
   "source": [
    "closed_loop = imaging_df_all[2]"
   ]
  },
  {
   "cell_type": "code",
   "execution_count": null,
   "metadata": {},
   "outputs": [],
   "source": [
    "#plt.plot(imaging_df_all[\"mouse_z\"]/imaging_df_all[\"mismatch_mouse_z\"])\n",
    "plt.plot(closed_loop[\"mouse_z\"])"
   ]
  },
  {
   "cell_type": "markdown",
   "metadata": {},
   "source": [
    "Good. \n",
    "\n",
    "## Finding mismatches"
   ]
  },
  {
   "cell_type": "code",
   "execution_count": null,
   "metadata": {},
   "outputs": [],
   "source": [
    "closed_loop[\"mousez_dif\"]  = np.zeros(len(closed_loop[\"mouse_z\"]))\n",
    "closed_loop.loc[1:, 'mousez_dif'] = np.diff(closed_loop['mouse_z'])\n"
   ]
  },
  {
   "cell_type": "code",
   "execution_count": null,
   "metadata": {},
   "outputs": [],
   "source": [
    "closed_loop[\"mismz_dif\"]  = np.zeros(len(closed_loop[\"mouse_z\"]))\n",
    "closed_loop.loc[1:, 'mismz_dif'] = np.diff(closed_loop['mismatch_mouse_z'])"
   ]
  },
  {
   "cell_type": "code",
   "execution_count": null,
   "metadata": {},
   "outputs": [],
   "source": [
    "closed_loop[\"mism_ratio\"] = closed_loop[\"mousez_dif\"]/closed_loop[\"mismz_dif\"]"
   ]
  },
  {
   "cell_type": "code",
   "execution_count": null,
   "metadata": {},
   "outputs": [],
   "source": [
    "plt.plot(closed_loop[\"mism_ratio\"][720:740])"
   ]
  },
  {
   "cell_type": "code",
   "execution_count": null,
   "metadata": {},
   "outputs": [],
   "source": [
    "closed_loop[\"mismatch\"] = ((closed_loop[\"mism_ratio\"] > 1.2) | (closed_loop[\"mism_ratio\"] < -1000)).astype(int)\n",
    "\n",
    "#To catch the fact that it's -inf sometimes during a mismatch"
   ]
  },
  {
   "cell_type": "code",
   "execution_count": null,
   "metadata": {},
   "outputs": [],
   "source": [
    "up= 0\n",
    "down =  -1\n",
    "\n",
    "plt.plot(closed_loop[\"mism_ratio\"][up:down])\n",
    "plt.plot(closed_loop[\"mismatch\"][up:down])\n",
    "\n",
    "closed_loop[\"mism_ratio\"][up:down]"
   ]
  },
  {
   "cell_type": "code",
   "execution_count": null,
   "metadata": {},
   "outputs": [],
   "source": [
    "closed_loop.drop(columns = {\"mismz_dif\", \"mousez_dif\"})"
   ]
  },
  {
   "cell_type": "markdown",
   "metadata": {},
   "source": [
    "## Defining mismatch window for raster"
   ]
  },
  {
   "cell_type": "markdown",
   "metadata": {},
   "source": [
    "By design, 5 frames before and 10 after the mismatch onset frame. The length is 15 frames. "
   ]
  },
  {
   "cell_type": "code",
   "execution_count": null,
   "metadata": {},
   "outputs": [],
   "source": [
    "# Create a new column initialized to 0\n",
    "closed_loop['range_indicator'] = 0\n",
    "\n",
    "#Make a diff to look at starting frames\n",
    "closed_loop[\"start_mismatch\"]=np.zeros(len(closed_loop[\"mismatch\"]))\n",
    "\n",
    "closed_loop.loc[1:,\"start_mismatch\"] = np.diff(closed_loop[\"mismatch\"])\n",
    "\n",
    "# Find indices where 'indicator' is 1\n",
    "indices = closed_loop.index[closed_loop['start_mismatch'] == 1].tolist()\n",
    "print(indices)\n",
    "\n",
    "# Set range_indicator to 1 for 5 rows before and after each index where 'indicator' is 1\n",
    "for idx in indices:\n",
    "    start = max(idx - 5, 0)\n",
    "    end = min(idx + 10, len(closed_loop['mismatch']) - 1)\n",
    "    print((start,  end))\n",
    "    closed_loop.loc[start:end, 'range_indicator'] = 1"
   ]
  },
  {
   "cell_type": "markdown",
   "metadata": {},
   "source": [
    "For every neuron, we want to find a point in time where the mismatch begins and calculate the average of its responses to a mismatch"
   ]
  },
  {
   "cell_type": "code",
   "execution_count": null,
   "metadata": {},
   "outputs": [],
   "source": [
    "# Create the initial DataFrame with range_indicator\n",
    "neurons_df = pd.DataFrame({\"range_indicator\": closed_loop[\"range_indicator\"].copy()})\n",
    "\n",
    "# Extract the number of neurons\n",
    "neurons = closed_loop[\"dffs\"][0].shape[1]\n",
    "\n",
    "# Create a DataFrame for the neurons data\n",
    "neuron_data = pd.DataFrame(\n",
    "    {f\"neuron{neuron}\": [closed_loop[\"dffs\"][i][0][neuron] for i in range(len(closed_loop[\"mismatch\"]))]\n",
    "     for neuron in range(neurons)}\n",
    ")\n",
    "\n",
    "# Concatenate the range_indicator and neuron data\n",
    "neurons_df = pd.concat([neurons_df, neuron_data], axis=1)"
   ]
  },
  {
   "cell_type": "code",
   "execution_count": null,
   "metadata": {},
   "outputs": [],
   "source": [
    "mismatches_per_neuron = list(np.zeros(neurons))\n",
    "\n",
    "neurons_df[\"start_mismatch\"]=np.zeros(len(neurons_df[\"range_indicator\"]))\n",
    "\n",
    "neurons_df.loc[1:,\"start_mismatch\"] = np.diff(neurons_df[\"range_indicator\"])\n",
    "\n",
    "n_mismatches  =  len(neurons_df[\"start_mismatch\"][neurons_df[\"start_mismatch\"]==1])\n",
    "\n",
    "print(n_mismatches)\n",
    "\n",
    "for i in range(neurons):\n",
    "    mismatches_per_neuron[i] = np.zeros((n_mismatches, 15))\n",
    "\n"
   ]
  },
  {
   "cell_type": "code",
   "execution_count": null,
   "metadata": {},
   "outputs": [],
   "source": [
    "\n",
    "\n",
    "# Initialize variables to track the start and end of intervals\n",
    "in_interval = False\n",
    "start_idx = None\n",
    "\n",
    "# Iterate through the DataFrame to identify intervals\n",
    "idx_mismatch = -1\n",
    "for idx, row in neurons_df.iterrows():\n",
    "    if row['range_indicator'] == 1 and not in_interval:\n",
    "        # Start of a new interval\n",
    "        start_idx = idx\n",
    "        in_interval = True\n",
    "        idx_mismatch += 1\n",
    "        print(f\"This is mismatch {idx_mismatch}\")\n",
    "    elif row['range_indicator'] == 0 and in_interval:\n",
    "        # End of the current interval\n",
    "        end_idx = idx-1\n",
    "        for neuron in range(neurons):\n",
    "            mismatches_per_neuron[neuron][idx_mismatch, :] = neurons_df[f\"neuron{neuron}\"][start_idx:end_idx]\n",
    "        in_interval = False\n",
    "        print(f\"start and end idx: {(start_idx, end_idx)}\")"
   ]
  },
  {
   "cell_type": "code",
   "execution_count": null,
   "metadata": {},
   "outputs": [],
   "source": [
    "mismatch_raster = np.zeros((neurons, 15))\n",
    "\n",
    "for i in range(neurons):\n",
    "    mismatch_raster[i, :] = np.mean(mismatches_per_neuron[i], axis = 0)\n",
    "\n",
    "#print(mismatch_raster.shape)\n",
    "\n",
    "# Define a function to calculate the difference for each row\n",
    "def calculate_difference(row):\n",
    "    first_5_sum = np.sum(row[0:5])\n",
    "    last_5_sum = np.sum(row[6:11])\n",
    "    return last_5_sum-first_5_sum\n",
    "\n",
    "# Calculate differences for each row\n",
    "differences = np.apply_along_axis(calculate_difference, 1, mismatch_raster)\n",
    "#print(differences[0:10])\n",
    "\n",
    "# Get the sorted indices based on the differences (larger differences first)\n",
    "sorted_indices = np.argsort(-differences)\n",
    "#print(sorted_indices[0:10])\n",
    "\n",
    "# Sort the array based on the calculated differences\n",
    "sorted_mismatch_raster = mismatch_raster[sorted_indices]\n",
    "\n",
    "start = 0\n",
    "end = 100\n",
    "\n",
    "fig = plt.figure(figsize=(30,10),facecolor='w') \n",
    "ax = fig.add_subplot(111)\n",
    "im = ax.imshow(sorted_mismatch_raster[0:100])\n",
    "\n",
    "\n",
    "\n",
    "ax.set_title(f\"Raster plot of first {end} neurons aligned to mismatch\")\n",
    "ax.set_xlabel(\"Frames\")\n",
    "ax.set_ylabel(\"Neurons\")\n",
    "fig.colorbar(im, label  =  \"dff\")\n",
    "ax.axvline(5, color = \"grey\")"
   ]
  },
  {
   "cell_type": "code",
   "execution_count": null,
   "metadata": {},
   "outputs": [],
   "source": [
    "plt.plot(differences[sorted_indices])\n"
   ]
  },
  {
   "cell_type": "code",
   "execution_count": null,
   "metadata": {},
   "outputs": [],
   "source": [
    "pop_response  = np.mean(sorted_mismatch_raster[0:100], axis = 0)\n",
    "plt.plot(pop_response)"
   ]
  },
  {
   "cell_type": "markdown",
   "metadata": {},
   "source": [
    "# Now sorting a la Keller"
   ]
  },
  {
   "cell_type": "markdown",
   "metadata": {},
   "source": [
    "Evaluate significant mismatch modulation  by producing a series of  random events and looking at the differential modullation from mismatches. "
   ]
  },
  {
   "cell_type": "code",
   "execution_count": null,
   "metadata": {},
   "outputs": [],
   "source": [
    "def generate_random_events(n_frames, n_events = 100):\n",
    "    return [random.randint(0, n_frames-1) for _ in range(n_events)]"
   ]
  },
  {
   "cell_type": "code",
   "execution_count": null,
   "metadata": {},
   "outputs": [],
   "source": [
    "n_frames = len(closed_loop)\n",
    "events = generate_random_events(n_frames)"
   ]
  },
  {
   "cell_type": "code",
   "execution_count": null,
   "metadata": {},
   "outputs": [],
   "source": [
    "closed_loop[\"randevents\"] = 0\n",
    "closed_loop.loc[events, \"randevents\"] = 1\n",
    "plt.plot(closed_loop[\"randevents\"])"
   ]
  },
  {
   "cell_type": "code",
   "execution_count": null,
   "metadata": {},
   "outputs": [],
   "source": [
    "rand_rec, indices = mismatch.create_mismatch_window(closed_loop, window_start = 0, window_end = 5, event  = \"randevents\")"
   ]
  },
  {
   "cell_type": "code",
   "execution_count": null,
   "metadata": {},
   "outputs": [],
   "source": [
    "neurons, rand_neurodf = mismatch.build_neurons_df(rand_rec)"
   ]
  },
  {
   "cell_type": "code",
   "execution_count": null,
   "metadata": {},
   "outputs": [],
   "source": [
    "rand_misperneuron = mismatch.build_mismatches_per_neuron_list(neurons, rand_neurodf, window_start = 0, window_end = 5, indices = indices)"
   ]
  },
  {
   "cell_type": "code",
   "execution_count": null,
   "metadata": {},
   "outputs": [],
   "source": [
    "rand_raster = mismatch.raster(neurons, rand_misperneuron, window_start = 0, window_end= 5)"
   ]
  },
  {
   "cell_type": "code",
   "execution_count": null,
   "metadata": {},
   "outputs": [],
   "source": [
    "rand_avg = np.mean(rand_raster, axis = 1)\n",
    "mismatch_avg = np.mean(mismatch_raster[:, 8:13], axis = 1)\n",
    "modulation_raster = mismatch_avg-rand_avg"
   ]
  },
  {
   "cell_type": "code",
   "execution_count": null,
   "metadata": {},
   "outputs": [],
   "source": [
    "sorted_indices = np.argsort(-modulation_raster)\n",
    "#print(sorted_indices[0:10])\n",
    "\n",
    "plt.plot(modulation_raster[sorted_indices])"
   ]
  },
  {
   "cell_type": "code",
   "execution_count": null,
   "metadata": {},
   "outputs": [],
   "source": [
    "\n",
    "\n",
    "# Sort the array based on the calculated differences\n",
    "sorted_mismatch_raster = mismatch_raster[sorted_indices]\n",
    "\n",
    "# Define the range you want to cap\n",
    "vmin = -0.5\n",
    "vmax = 1\n",
    "\n",
    "start = 0\n",
    "end = 100\n",
    "fig = plt.figure(figsize=(30, 10), facecolor='w')\n",
    "ax = fig.add_subplot(111)\n",
    "im = ax.imshow(sorted_mismatch_raster, cmap='coolwarm', vmin=vmin, vmax=vmax, aspect =  \"auto\")\n",
    "\n",
    "\n",
    "ax.set_title(f\"Raster plot of neurons aligned to mismatch\")\n",
    "ax.set_xlabel(\"Frames\")\n",
    "ax.set_ylabel(\"Neurons\")\n",
    "fig.colorbar(im, label=\"dff\")\n",
    "ax.axvline(5, color=\"grey\")\n",
    "plt.show()"
   ]
  },
  {
   "cell_type": "code",
   "execution_count": null,
   "metadata": {},
   "outputs": [],
   "source": [
    "pop_response  = np.mean(sorted_mismatch_raster, axis = 0)\n",
    "plt.plot(pop_response)"
   ]
  },
  {
   "cell_type": "code",
   "execution_count": null,
   "metadata": {},
   "outputs": [],
   "source": [
    "closed_loop, indices = mismatch.create_mismatch_window(closed_loop, window_start = 5, window_end = 20)\n",
    "neurons, neurons_df = mismatch.build_neurons_df(closed_loop)\n",
    "misperneuron = mismatch.build_mismatches_per_neuron_list(neurons, neurons_df, window_start = 5, window_end = 20)\n",
    "mismatch_raster = mismatch.raster(neurons, misperneuron, window_start = 5, window_end = 20)\n",
    "rand_raster = mismatch.make_rand_raster(closed_loop, n_events = 200, window_end = 10)\n",
    "sorted_mismatch_raster = mismatch.modulation_sort_raster(rand_raster, mismatch_raster)\n",
    "mismatch.plot_raster(sorted_mismatch_raster, vmin = -0.5,  vmax = 0.8)"
   ]
  },
  {
   "cell_type": "code",
   "execution_count": null,
   "metadata": {},
   "outputs": [],
   "source": [
    "mismatch.plot_raster(sorted_mismatch_raster, vmin = -0.5,  vmax = 0.8)"
   ]
  },
  {
   "cell_type": "code",
   "execution_count": null,
   "metadata": {},
   "outputs": [],
   "source": []
  }
 ],
 "metadata": {
  "kernelspec": {
   "language": "python"
  },
  "language_info": {
   "codemirror_mode": {
    "name": "ipython",
    "version": 3
   },
   "file_extension": ".py",
   "mimetype": "text/x-python",
   "name": "python",
   "nbconvert_exporter": "python",
   "pygments_lexer": "ipython3"
  }
 },
 "nbformat": 4,
 "nbformat_minor": 2
}
