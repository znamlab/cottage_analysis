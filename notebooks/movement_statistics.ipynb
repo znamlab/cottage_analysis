{
 "cells": [
  {
   "cell_type": "markdown",
   "metadata": {},
   "source": [
    "# This is to have a look at the freely moving movement statistics"
   ]
  },
  {
   "cell_type": "code",
   "execution_count": null,
   "metadata": {},
   "outputs": [],
   "source": [
    "from pathlib import Path\n",
    "import cottage_analysis.io_module.onix as onix\n",
    "import cottage_analysis.io_module.harp as harp\n",
    "import cottage_analysis.ephys.preprocessing as prp\n",
    "from matplotlib import pyplot as plt\n",
    "import numpy as np\n",
    "import pandas as pd \n",
    "from scipy import stats\n",
    "import cv2\n",
    "import znamcalib.calibrate_lighthouse as light"
   ]
  },
  {
   "cell_type": "code",
   "execution_count": null,
   "metadata": {},
   "outputs": [],
   "source": [
    "processed_path = Path('/camp/lab/znamenskiyp/home/shared/projects/blota_onix_pilote/')\n",
    "data_path = Path('/camp/lab/znamenskiyp/data/instruments/raw_data/projects/blota_onix_pilote/')\n",
    "mouse = 'BRAC7448.2d'\n",
    "session = 'S20230412'\n",
    "session_path = data_path / mouse / session\n",
    "\n",
    "processed_dir = processed_path/mouse/session\n",
    "processed_dir.mkdir(exist_ok=True)\n",
    "\n",
    "#We should be able to programatically do this. \n",
    "\n",
    "ephys = 'R163257'\n",
    "stimulus = 'R154624_SpheresPermTubeReward'\n",
    "headfixed_camera = 'R161841_BRAC7448.2d'\n",
    "fm_camera =  'R162624_BRAC7448.2d'\n",
    "\n",
    "ephys_path = session_path / ephys\n",
    "stimulus_path = session_path / stimulus\n",
    "headfixed_cam_path = session_path / headfixed_camera\n",
    "fm_cam_path = session_path / fm_camera"
   ]
  },
  {
   "attachments": {},
   "cell_type": "markdown",
   "metadata": {},
   "source": [
    "### Loading the data"
   ]
  },
  {
   "cell_type": "code",
   "execution_count": null,
   "metadata": {},
   "outputs": [],
   "source": [
    "processed_photodiode = onix.load_ts4231(ephys_path)\n",
    "processed_photodiode"
   ]
  },
  {
   "attachments": {},
   "cell_type": "markdown",
   "metadata": {},
   "source": [
    "The numbers I divide them by is how many LSBs (least significant bits) equal one SI unit. "
   ]
  },
  {
   "cell_type": "code",
   "execution_count": null,
   "metadata": {},
   "outputs": [],
   "source": [
    "processed_bno = onix.load_bno055(ephys_path)\n",
    "processed_bno.keys()\n",
    "\n",
    "quaternion = processed_bno['quaternion']\n",
    "#quaternion = quaternion/2**14 but the rest make sense (???)\n",
    "quaternion = quaternion\n",
    "linear = processed_bno['linear']\n",
    "linear = linear \n",
    "euler = processed_bno['euler']\n",
    "euler = euler\n",
    "gravity = processed_bno['gravity']\n",
    "gravity = gravity "
   ]
  },
  {
   "cell_type": "code",
   "execution_count": null,
   "metadata": {},
   "outputs": [],
   "source": [
    "def plot_bno(start, end):\n",
    "\n",
    "    fig, axs = plt.subplots(2, 2, figsize=(9, 9))\n",
    "\n",
    "    fig.suptitle(f'BNO055 (timestamps {start}-{end})')\n",
    "\n",
    "    timeslice=range(start, end)\n",
    "\n",
    "    axs[0, 0].plot(quaternion[timeslice, 3])\n",
    "    axs[0, 0].plot(quaternion[timeslice, 0])\n",
    "    axs[0, 0].plot(quaternion[timeslice, 1])\n",
    "    axs[0, 0].plot(quaternion[timeslice, 2])\n",
    "    axs[0, 0].set_title('Quaternion')\n",
    "\n",
    "    axs[0, 1].plot(linear[timeslice, 0])\n",
    "    axs[0, 1].plot(linear[timeslice, 1])\n",
    "    axs[0, 1].plot(linear[timeslice, 2])\n",
    "    axs[0, 1].set_title('Linear acceleration')\n",
    "\n",
    "    axs[1, 1].plot(euler[timeslice, 0])\n",
    "    axs[1, 1].plot(euler[timeslice, 1])\n",
    "    axs[1, 1].plot(euler[timeslice, 2])\n",
    "    axs[1, 1].set_title('Euler Vector')\n",
    "\n",
    "    axs[1, 0].plot(gravity[timeslice, 0])\n",
    "    axs[1, 0].plot(gravity[timeslice, 1])\n",
    "    axs[1, 0].plot(gravity[timeslice, 2])\n",
    "    axs[1, 0].set_title('Gravity vector')\n",
    "\n",
    "plot_bno(150000, 150400)"
   ]
  },
  {
   "attachments": {},
   "cell_type": "markdown",
   "metadata": {},
   "source": [
    "### Acceleration statistics\n",
    "\n",
    "The linear acceleration output is an array of time*component(x, y, z)\n",
    "\n",
    "I need to plot these numbers together with the movement of the animal to see \n",
    "\n",
    "1. What are components 1, 2, and 3\n",
    "2. Does it make any sense at all?\n",
    "\n",
    "Alternatively, I can stand on the freely-moving arena with the headstage on my hand, and move it along the three planes that I'd suspect would be useful. Also use that chance to record three proper calibration images. This is probably the quickest way forward. "
   ]
  },
  {
   "cell_type": "code",
   "execution_count": null,
   "metadata": {},
   "outputs": [],
   "source": [
    "fig, axs = plt.subplots(3, 1, figsize=(9, 12))\n",
    "fig.suptitle('Linear accelerations distribution')\n",
    "\n",
    "\n",
    "axs[0].hist(linear[:,0])\n",
    "axs[0].set_xlabel('Acceleration in x (m/s^2)')\n",
    "axs[1].hist(linear[:,1])\n",
    "axs[1].set_xlabel('Acceleration in y (m/s^2)')\n",
    "axs[2].hist(linear[:,2])\n",
    "axs[2].set_xlabel('Acceleration in z (m/s^2)')\n"
   ]
  },
  {
   "attachments": {},
   "cell_type": "markdown",
   "metadata": {},
   "source": [
    "### Decomposing heading\n",
    "\n",
    "We will try to decompose yaw, pitch and roll from the euler vector. Then, we will use that information to track which components of linear acceleration change when each of these change.\n",
    "\n",
    "Are the three Euler angles yaw, pitch and roll? As per the documentation of BNO055, it's heading-roll-pitch. \n",
    "\n",
    "If this was true, heading should span a whole circle, so from 0 to 2pi. This is weird: it does look reasonable, but not when you look at the numbers. This is true neither in radians nor in degrees. \n",
    "\n",
    "Ah, no. I divided it by 16 and 900, but apparently have to divide it by nothing!"
   ]
  },
  {
   "cell_type": "code",
   "execution_count": null,
   "metadata": {},
   "outputs": [],
   "source": [
    "fig, axs = plt.subplots(3, 1, figsize=(9, 12))\n",
    "fig.suptitle('Euler angles distribution')\n",
    "\n",
    "\n",
    "axs[0].hist(euler[:,0])\n",
    "axs[0].set_xlabel('Heading in degrees')\n",
    "axs[1].hist(euler[:,1])\n",
    "axs[1].set_xlabel('Roll in degrees')\n",
    "axs[2].hist(euler[:,2])\n",
    "axs[2].set_xlabel('Pitch in degrees')"
   ]
  },
  {
   "attachments": {},
   "cell_type": "markdown",
   "metadata": {},
   "source": [
    "### Can I have a meaningful look at the cameras?\n",
    "\n",
    "Let's try"
   ]
  },
  {
   "cell_type": "code",
   "execution_count": null,
   "metadata": {},
   "outputs": [],
   "source": [
    "camera_dir = session_path / fm_camera\n",
    "acquisition= 'freely_moving'\n",
    "\n",
    "camera_metadata = onix.load_camera_times(camera_dir, acquisition)\n",
    "print(camera_metadata.keys())\n",
    "\n",
    "processed_breakout = onix.load_breakout(ephys_path)\n",
    "dio = processed_breakout['dio']\n",
    "print(dio.keys())\n",
    "\n",
    "\n",
    "filtered_dio = dict()\n",
    "filtered_dio['Clock'], filtered_dio['DI0'] = prp.clean_di_channel(dio['Clock'], dio['DI0'])\n",
    "print(filtered_dio['DI0'])\n",
    "print(filtered_dio['Clock'])\n",
    "\n",
    "cam2_metadata = camera_metadata['cam2_camera']\n",
    "print(cam2_metadata.keys())\n",
    "camera_frames = len(cam2_metadata['frame_id'])\n",
    "breakout_frames = (len(filtered_dio['DI0']))/2\n",
    "\n",
    "print(f'cam2 has {camera_frames} frames')\n",
    "print(f'The breakout board accounts for {breakout_frames} frames')\n",
    "\n",
    "def cam2onix(filtered_dio, cam2_metadata):\n",
    "\n",
    "    onix_first = filtered_dio['Clock'][filtered_dio['DI0']==True][0]\n",
    "    onix_last = filtered_dio['Clock'][filtered_dio['DI0']==True][-1]\n",
    "    camera_first = cam2_metadata['camera_timestamp'].iloc[0]\n",
    "    camera_last = cam2_metadata['camera_timestamp'].iloc[-1] \n",
    "\n",
    "    #y=intercept+slope*x\n",
    "\n",
    "    intercept = onix_first\n",
    "    slope = (onix_last-onix_first)/(camera_last-camera_first)\n",
    "\n",
    "    onix_timestamp = intercept+slope*(cam2_metadata['camera_timestamp']-camera_first)\n",
    "\n",
    "    return onix_timestamp\n",
    "\n",
    "cam2_metadata['onix_timestamp'] = cam2onix(filtered_dio, cam2_metadata)\n",
    "cam2_metadata['onix_timestamp']\n",
    "\n",
    "plt.plot(filtered_dio['Clock'][filtered_dio['DI0']==True], color = 'blue')\n",
    "plt.plot(cam2_metadata['onix_timestamp'], color = 'red')"
   ]
  },
  {
   "attachments": {},
   "cell_type": "markdown",
   "metadata": {},
   "source": [
    "### Identify a section of the recording where the animal is moving in a particularly interesting way. \n",
    "\n",
    "For example, in this section, one of the components of the euler vector increases monotonically"
   ]
  },
  {
   "cell_type": "code",
   "execution_count": null,
   "metadata": {},
   "outputs": [],
   "source": [
    "plot_bno(113050, 113320)\n"
   ]
  },
  {
   "cell_type": "code",
   "execution_count": null,
   "metadata": {},
   "outputs": [],
   "source": []
  },
  {
   "cell_type": "code",
   "execution_count": null,
   "metadata": {},
   "outputs": [],
   "source": [
    "def find_nearest(Array, x):\n",
    "    dif_Array = np.absolute(Array-x) # use of absolute() function to find the difference \n",
    "    index = dif_Array.argmin() # find the index of minimum difference element\n",
    "    return Array[index]\n",
    "\n",
    "start = processed_bno['onix_time'][4430]\n",
    "end = processed_bno['onix_time'][4700]\n",
    "\n",
    "start_frame_onix = find_nearest(cam2_metadata['onix_timestamp'], start)\n",
    "start_frame = cam2_metadata[cam2_metadata['onix_timestamp']==start_frame_onix]\n",
    "end_frame_onix = find_nearest(cam2_metadata['onix_timestamp'], end)\n",
    "end_frame = cam2_metadata[cam2_metadata['onix_timestamp']==end_frame_onix]\n",
    "\n"
   ]
  },
  {
   "attachments": {},
   "cell_type": "markdown",
   "metadata": {},
   "source": [
    "And we show beggining and end!"
   ]
  },
  {
   "cell_type": "code",
   "execution_count": null,
   "metadata": {},
   "outputs": [],
   "source": [
    "def bno_start_end(video_path, start_frame, end_frame):\n",
    "    video = cv2.VideoCapture(video_path)\n",
    "    video.set(cv2.CAP_PROP_POS_FRAMES, start_frame)\n",
    "    ret, frame_start = video.read()\n",
    "    video.set(cv2.CAP_PROP_POS_FRAMES, end_frame)\n",
    "    ret, frame_end = video.read()\n",
    "    fig, axs = plt.subplots(2, 1, figsize=(50, 50))\n",
    "    fig.suptitle(f'Frames {start_frame}-{end_frame}', size = 40)\n",
    "    axs[0].imshow(frame_start)\n",
    "    axs[1].imshow(frame_end)\n",
    "\n",
    "video_path = '/camp/lab/znamenskiyp/data/instruments/raw_data/projects/blota_onix_pilote/BRAC7448.2d/S20230412/R162624_BRAC7448.2d/cam2_camera/cam2_camera_2023-04-12T16_26_24.mp4'\n",
    "#video_path = '/camp/lab/znamenskiyp/data/instruments/raw_data/projects/blota_onix_pilote/BRAC7448.2d/S20230412/R162624_BRAC7448.2d/cam1_camera/cam1_camera_2023-04-12T16_26_24.mp4'\n",
    "\n",
    "\n",
    "bno_start_end(video_path, start_frame.index[0], end_frame.index[0])"
   ]
  },
  {
   "attachments": {},
   "cell_type": "markdown",
   "metadata": {},
   "source": [
    "### Find Lighthouse and check"
   ]
  },
  {
   "cell_type": "code",
   "execution_count": null,
   "metadata": {},
   "outputs": [],
   "source": [
    "processed_photodiode = onix.load_ts4231(ephys_path)\n",
    "diode3 = processed_photodiode[3]\n"
   ]
  },
  {
   "cell_type": "code",
   "execution_count": null,
   "metadata": {},
   "outputs": [],
   "source": [
    "calibration = Path('/camp/lab/znamenskiyp/data/instruments/raw_data/projects/blota_onix_calibration/lighthouse_calibration/S20230412')\n",
    "transform_matrix = light.calibrate_session(calibration, 20)\n",
    "print(transform_matrix)"
   ]
  },
  {
   "cell_type": "code",
   "execution_count": null,
   "metadata": {},
   "outputs": [],
   "source": [
    "trans_data = light.transform_data(diode3, transform_matrix)"
   ]
  },
  {
   "cell_type": "code",
   "execution_count": null,
   "metadata": {},
   "outputs": [],
   "source": [
    "light.plot_single_occupancy(trans_data)"
   ]
  },
  {
   "attachments": {},
   "cell_type": "markdown",
   "metadata": {},
   "source": [
    "And we find the adequate two points"
   ]
  },
  {
   "cell_type": "code",
   "execution_count": null,
   "metadata": {},
   "outputs": [],
   "source": [
    "trans_data"
   ]
  },
  {
   "cell_type": "code",
   "execution_count": null,
   "metadata": {},
   "outputs": [],
   "source": [
    "#The onix timestamp closest to start and end\n",
    "\n",
    "lighthouse_start = find_nearest(trans_data['clock'], start)\n",
    "lighthouse_start_frame = trans_data[trans_data['clock']==lighthouse_start]\n",
    "lighthouse_end = find_nearest(trans_data['clock'], end)\n",
    "lighthouse_end_frame = trans_data[trans_data['clock']==lighthouse_end]"
   ]
  },
  {
   "cell_type": "code",
   "execution_count": null,
   "metadata": {},
   "outputs": [],
   "source": [
    "def lighthouse_start_end(start, end):\n",
    "    lighthouse_start = find_nearest(trans_data['clock'], start)\n",
    "    lighthouse_start_frame = trans_data[trans_data['clock']==lighthouse_start]\n",
    "    lighthouse_end = find_nearest(trans_data['clock'], end)\n",
    "    lighthouse_end_frame = trans_data[trans_data['clock']==lighthouse_end]\n",
    "    fig, axs = plt.subplots(1, 1, figsize=(9, 9))\n",
    "    fig.suptitle(f'Lighthouse {start}-{end}', size = 30)\n",
    "    axs.set_ylim(0, 10)\n",
    "    axs.set_xlim(-10, 70)\n",
    "    axs.plot(lighthouse_start_frame['x'], lighthouse_start_frame['z'], 'bo')\n",
    "    axs.plot(lighthouse_end_frame['x'], lighthouse_end_frame['z'], 'ro')\n",
    "    #axs.plot(55, 55, '*', markersize = 30)\n",
    "\n",
    "lighthouse_start_end(start, end)"
   ]
  },
  {
   "cell_type": "markdown",
   "metadata": {},
   "source": [
    "### Get stable north"
   ]
  },
  {
   "cell_type": "code",
   "execution_count": null,
   "metadata": {},
   "outputs": [],
   "source": [
    "euler[:,0]"
   ]
  },
  {
   "cell_type": "code",
   "execution_count": null,
   "metadata": {},
   "outputs": [],
   "source": [
    "north = np.where((1>euler[:,0]))\n",
    "north = north[0]\n",
    "len(north)"
   ]
  },
  {
   "cell_type": "code",
   "execution_count": null,
   "metadata": {},
   "outputs": [],
   "source": [
    "start = processed_bno['onix_time'][north[200]]\n",
    "end = processed_bno['onix_time'][north[210]]\n",
    "\n",
    "start_frame_onix = find_nearest(cam2_metadata['onix_timestamp'], start)\n",
    "start_frame = cam2_metadata[cam2_metadata['onix_timestamp']==start_frame_onix]\n",
    "end_frame_onix = find_nearest(cam2_metadata['onix_timestamp'], end)\n",
    "end_frame = cam2_metadata[cam2_metadata['onix_timestamp']==end_frame_onix]\n",
    "\n",
    "bno_start_end(video_path, start_frame.index[0], end_frame.index[0])"
   ]
  },
  {
   "cell_type": "code",
   "execution_count": null,
   "metadata": {},
   "outputs": [],
   "source": [
    "start = processed_bno['onix_time'][north[200]]\n",
    "end = processed_bno['onix_time'][north[210]]\n",
    "\n",
    "lighthouse_start_end(start, end)"
   ]
  },
  {
   "cell_type": "code",
   "execution_count": null,
   "metadata": {},
   "outputs": [],
   "source": []
  }
 ],
 "metadata": {
  "kernelspec": {
   "display_name": "cottage_analysis",
   "language": "python",
   "name": "python3"
  },
  "language_info": {
   "codemirror_mode": {
    "name": "ipython",
    "version": 3
   },
   "file_extension": ".py",
   "mimetype": "text/x-python",
   "name": "python",
   "nbconvert_exporter": "python",
   "pygments_lexer": "ipython3",
   "version": "3.11.0 (main, Mar  1 2023, 18:26:19) [GCC 11.2.0]"
  },
  "orig_nbformat": 4,
  "vscode": {
   "interpreter": {
    "hash": "99c5ab3b34a62a7741b597fad5e753313eb10ed9c721f639f5c87868832eb072"
   }
  }
 },
 "nbformat": 4,
 "nbformat_minor": 2
}
