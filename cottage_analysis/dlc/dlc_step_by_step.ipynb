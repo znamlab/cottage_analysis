{
 "cells": [
  {
   "attachments": {},
   "cell_type": "markdown",
   "metadata": {},
   "source": [
    "# Example step by step DLC\n",
    "\n",
    "First create the project"
   ]
  },
  {
   "cell_type": "code",
   "execution_count": null,
   "metadata": {},
   "outputs": [],
   "source": [
    "import os\n",
    "\n",
    "os.system(\"module load cuDNN/8.1.1.33-CUDA-11.2.1\")\n",
    "os.system(\"module list\")"
   ]
  },
  {
   "cell_type": "code",
   "execution_count": null,
   "metadata": {},
   "outputs": [],
   "source": [
    "os.environ[\"LD_LIBRARY_PATH\"] = \"/camp/home/blota/.conda/envs/dlc_nogui/lib/\"\n",
    "print(os.environ[\"LD_LIBRARY_PATH\"])"
   ]
  },
  {
   "cell_type": "code",
   "execution_count": null,
   "metadata": {},
   "outputs": [],
   "source": [
    "import tensorflow\n",
    "\n",
    "print(tensorflow.__version__)"
   ]
  },
  {
   "cell_type": "code",
   "execution_count": null,
   "metadata": {},
   "outputs": [],
   "source": [
    "from tensorflow.python.client import device_lib\n",
    "\n",
    "\n",
    "def get_available_devices():\n",
    "    local_device_protos = device_lib.list_local_devices()\n",
    "    return [x.name for x in local_device_protos]\n",
    "\n",
    "\n",
    "print(get_available_devices())"
   ]
  },
  {
   "cell_type": "code",
   "execution_count": null,
   "metadata": {},
   "outputs": [],
   "source": [
    "import deeplabcut\n",
    "from pathlib import Path\n",
    "\n",
    "config = Path(\"/camp/lab/znamenskiyp/home/shared/projects/DLC_models/\")\n",
    "config /= \"all_eyes_2023/config.yaml\"\n",
    "\n",
    "print(config)"
   ]
  },
  {
   "cell_type": "code",
   "execution_count": null,
   "metadata": {},
   "outputs": [],
   "source": [
    "import flexiznam as flm\n",
    "\n",
    "# project = \"hey2_3d-vision_foodres_20220101\"\n",
    "project = \"blota_onix_pilote\"\n",
    "flm_sess = flm.get_flexilims_session(project_id=project)"
   ]
  },
  {
   "cell_type": "code",
   "execution_count": null,
   "metadata": {},
   "outputs": [],
   "source": [
    "# get a list of videos to add\n",
    "session_dict = {\n",
    "    # \"PZAH6.4b\": [\"S20220419\", \"S20220421\"],\n",
    "    # \"PZAG3.4f\": [\"S20220421\", \"S20220517\"],\n",
    "    \"BRAC7448.2d\": [\"S20230421\", \"S20230412\"],\n",
    "}\n",
    "from flexiznam.schema import Dataset\n",
    "import shutil\n",
    "\n",
    "tmp_folder = Path(\"/nemo/lab/znamenskiyp/home/shared/projects/DLC_models/tmp\")\n",
    "tmp_folder.mkdir(exist_ok=True)\n",
    "vids = []\n",
    "\n",
    "for mouse, sessions in session_dict.items():\n",
    "    for sess in sessions:\n",
    "        fl_sess = flm.get_entity(name=f\"{mouse}_{sess}\", flexilims_session=flm_sess, datatype=\"session\")\n",
    "        recs = flm.get_children(\n",
    "            parent_id=fl_sess[\"id\"],\n",
    "            children_datatype=\"recording\",\n",
    "            flexilims_session=flm_sess,\n",
    "        )\n",
    "        if project == \"hey2_3d-vision_foodres_20220101\":\n",
    "            recs = [r for n, r in recs.iterrows() if \"Spheres\" in n]\n",
    "        else:\n",
    "            recs = [r for n, r in recs.iterrows() if \"freely\" in n]\n",
    "        rec = recs[0]\n",
    "        ds = flm.get_children(\n",
    "            parent_id=rec[\"id\"], flexilims_session=flm_sess, children_datatype=\"dataset\"\n",
    "        )\n",
    "        eye_ds = [r for n, r in ds.iterrows() if \"eye_camera\" in n]\n",
    "        eye_ds = [r for r in eye_ds if r.dataset_type == \"camera\"]\n",
    "        for ds in eye_ds:\n",
    "            ds = Dataset.from_flexilims(data_series=ds)\n",
    "            vid = ds.path_full / ds.extra_attributes[\"video_file\"]\n",
    "            target = tmp_folder / f\"{mouse}_{sess}_{rec.name}_{vid.name}\"\n",
    "            if not target.exists():\n",
    "                shutil.copy(vid, target)\n",
    "            vids.append(target)"
   ]
  },
  {
   "cell_type": "code",
   "execution_count": null,
   "metadata": {},
   "outputs": [],
   "source": [
    "vids\n"
   ]
  },
  {
   "cell_type": "code",
   "execution_count": null,
   "metadata": {},
   "outputs": [],
   "source": [
    "# add these videos (do it only once)\n",
    "if False:\n",
    "    deeplabcut.add_new_videos(\n",
    "        config, videos=[str(v) for v in vids], extract_frames=False, copy_videos=True\n",
    "    )"
   ]
  },
  {
   "cell_type": "code",
   "execution_count": null,
   "metadata": {},
   "outputs": [],
   "source": [
    "# this will reextract for all videos\n",
    "if False:\n",
    "    cfg = Path('/nemo/lab/znamenskiyp/home/shared/projects/DLC_models/all_eyes_2023/videos/')\n",
    "    vid_copied = [cfg / v.relative_to(tmp_folder) for v in vids]\n",
    "    vid_copied = ['/nemo/lab/znamenskiyp/home/shared/projects/DLC_models/all_eyes_2023/videos/BRAC7448.2d_S20230412_BRAC7448.2d_S20230412_R162624_freelymoving_eye_camera_2023-04-12T16_26_24.mp4']\n",
    "    deeplabcut.extract_frames(\n",
    "        config=config,\n",
    "        userfeedback=False,\n",
    "        videos_list=[str(v) for v in vid_copied],\n",
    "        algo='uniform'\n",
    "    )"
   ]
  },
  {
   "attachments": {},
   "cell_type": "markdown",
   "metadata": {},
   "source": [
    "Edit config file manually to add the skeleton and body parts you want. Then head to the\n",
    "VM to label manually. Copy the labelled data back to camp and edit config.yaml to change\n",
    "paths if needed.\n",
    "\n",
    "Then check labels"
   ]
  },
  {
   "cell_type": "code",
   "execution_count": null,
   "metadata": {},
   "outputs": [],
   "source": [
    "deeplabcut.check_labels(config, visualizeindividuals=True)"
   ]
  },
  {
   "cell_type": "code",
   "execution_count": null,
   "metadata": {},
   "outputs": [],
   "source": [
    "_ = deeplabcut.create_training_dataset(\n",
    "    config, augmenter_type=\"imgaug\", userfeedback=True\n",
    ")"
   ]
  },
  {
   "attachments": {},
   "cell_type": "markdown",
   "metadata": {},
   "source": [
    "Now train the network (unsing the sbatch script)"
   ]
  },
  {
   "cell_type": "code",
   "execution_count": null,
   "metadata": {},
   "outputs": [],
   "source": [
    "o = deeplabcut.evaluate_network(config, Shuffles=[1], plotting=True)"
   ]
  },
  {
   "cell_type": "code",
   "execution_count": null,
   "metadata": {},
   "outputs": [],
   "source": [
    "scm = deeplabcut.extract_save_all_maps(config, shuffle=1, Indices=[0, 5])"
   ]
  }
 ],
 "metadata": {
  "kernelspec": {
   "display_name": "dlc_nogui",
   "language": "python",
   "name": "python3"
  },
  "language_info": {
   "codemirror_mode": {
    "name": "ipython",
    "version": 3
   },
   "file_extension": ".py",
   "mimetype": "text/x-python",
   "name": "python",
   "nbconvert_exporter": "python",
   "pygments_lexer": "ipython3",
   "version": "3.8.16"
  },
  "orig_nbformat": 4
 },
 "nbformat": 4,
 "nbformat_minor": 2
}
