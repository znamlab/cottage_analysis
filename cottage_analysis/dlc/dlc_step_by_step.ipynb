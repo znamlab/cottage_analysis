{
 "cells": [
  {
   "attachments": {},
   "cell_type": "markdown",
   "metadata": {},
   "source": [
    "# Example step by step DLC\n",
    "\n",
    "First create the project"
   ]
  },
  {
   "cell_type": "code",
   "execution_count": null,
   "metadata": {},
   "outputs": [],
   "source": [
    "import os\n",
    "\n",
    "os.system(\"module load cuDNN\")\n",
    "os.system(\"module list\")"
   ]
  },
  {
   "cell_type": "code",
   "execution_count": null,
   "metadata": {},
   "outputs": [],
   "source": [
    "# os.environ[\"LD_LIBRARY_PATH\"] = \"/nemo/apps/eb/software/cuDNN/8.4.1.50-CUDA-11.7.0/lib:/nemo/apps/eb/software/CUDA/11.7.0/nvvm/lib64:/nemo/apps/eb/software/CUDA/11.7.0/extras/CUPTI/lib64:/nemo/apps/eb/software/CUDA/11.7.0/lib\"\n",
    "# os.environ[\"LD_LIBRARY_PATH\"] += \":/nemo/home/blota/.conda/envs/dlc/lib/\"\n",
    "# print(os.environ[\"LD_LIBRARY_PATH\"])"
   ]
  },
  {
   "cell_type": "code",
   "execution_count": null,
   "metadata": {},
   "outputs": [],
   "source": [
    "import tensorflow\n",
    "\n",
    "print(tensorflow.__version__)\n",
    "from tensorflow.python.client import device_lib\n",
    "\n",
    "\n",
    "def get_available_devices():\n",
    "    local_device_protos = device_lib.list_local_devices()\n",
    "    return [x.name for x in local_device_protos]\n",
    "\n",
    "\n",
    "print(get_available_devices())"
   ]
  },
  {
   "cell_type": "code",
   "execution_count": null,
   "metadata": {},
   "outputs": [],
   "source": [
    "import deeplabcut\n",
    "from pathlib import Path\n",
    "\n",
    "model = \"headfixed_track_eye\"\n",
    "project = \"blota_onix_pilote\"\n",
    "\n",
    "# project = \"hey2_3d-vision_foodres_20220101\"\n",
    "# model = \"headfixed_detect_eye\"\n",
    "\n",
    "config = Path(\"/nemo/lab/znamenskiyp/home/shared/projects/DLC_models/\")\n",
    "config /= f\"{model}/config.yaml\"\n",
    "\n",
    "print(config)\n"
   ]
  },
  {
   "cell_type": "code",
   "execution_count": null,
   "metadata": {},
   "outputs": [],
   "source": [
    "import flexiznam as flm\n",
    "\n",
    "flm_sess = flm.get_flexilims_session(project_id=project)"
   ]
  },
  {
   "cell_type": "code",
   "execution_count": null,
   "metadata": {},
   "outputs": [],
   "source": [
    "# get a list of videos to add\n",
    "session_dict = {\n",
    "    # \"BRAC7448.2d\": [\"S20230421\", \"S20230412\"],\n",
    "    \"BRYA142.5d\": [\"S20231002\"],\n",
    "    # \"PZAH10.2f\": [\"S20230817\"],\n",
    "    # \"PZAG3.4f\": [\"S20220421\", \"S20220517\"],\n",
    "}\n",
    "from flexiznam.schema import Dataset\n",
    "import shutil\n",
    "\n",
    "DEINTERLEAVED = False\n",
    "SPHERES = False\n",
    "tmp_folder = Path(\"/nemo/lab/znamenskiyp/scratch/video_for_dlc_training\")\n",
    "tmp_folder.mkdir(exist_ok=True)\n",
    "vids = []\n",
    "\n",
    "for mouse, sessions in session_dict.items():\n",
    "    for sess in sessions:\n",
    "        fl_sess = flm.get_entity(\n",
    "            name=f\"{mouse}_{sess}\", flexilims_session=flm_sess, datatype=\"session\"\n",
    "        )\n",
    "        if fl_sess is None:\n",
    "            print(f\"Session {mouse}_{sess} not found\")\n",
    "        ds_dict = flm.get_datasets_recursively(\n",
    "            origin_id=fl_sess.id, flexilims_session=flm_sess, dataset_type=\"camera\"\n",
    "        )\n",
    "        ds = []\n",
    "        for k, v in ds_dict.items():\n",
    "            ds.extend(v)\n",
    "        eye_ds = [d for d in ds if \"eye_camera\" in d.dataset_name]\n",
    "        if DEINTERLEAVED:\n",
    "            eye_ds = [d for d in ds if \"deinterleaved\" in d.dataset_name]\n",
    "        else:\n",
    "            eye_ds = [\n",
    "                d\n",
    "                for d in ds\n",
    "                if (\"left\" in d.dataset_name) or (\"right\" in d.dataset_name)\n",
    "            ]\n",
    "\n",
    "        for ds in eye_ds:\n",
    "            if SPHERES:\n",
    "                if \"Spheres\" not in ds.genealogy[-2]:\n",
    "                    print(ds.genealogy[-2])\n",
    "                    continue\n",
    "            vid = ds.path_full / ds.extra_attributes[\"video_file\"]\n",
    "            target = tmp_folder / f\"{'_'.join(ds.genealogy[:-1])}_{vid.name}\"\n",
    "            if not target.exists():\n",
    "                print(f\"Copying {vid} to {target}\")\n",
    "                shutil.copy(vid, target)\n",
    "            vids.append(target)\n",
    "vids\n"
   ]
  },
  {
   "cell_type": "code",
   "execution_count": null,
   "metadata": {},
   "outputs": [],
   "source": [
    "# vids = vids[:2]\n",
    "vids"
   ]
  },
  {
   "cell_type": "code",
   "execution_count": null,
   "metadata": {},
   "outputs": [],
   "source": [
    "from pathlib import Path\n",
    "import shutil\n",
    "\n",
    "tmp_folder = Path(\"/nemo/lab/znamenskiyp/home/shared/projects/DLC_models/tmp\")\n",
    "vids_name = [\n",
    "    \"PZAH6.4b_S20220526_R184428_SpheresPermTubeReward_left_eye_camera_dlc_tracking_uncropped_0_diagnostic_cropping.png\",\n",
    "    \"PZAH6.4b_S20220523_R191440_SpheresPermTubeRewardPlayback_left_eye_camera_dlc_tracking_uncropped_0_diagnostic_cropping.png\",\n",
    "    \"PZAG3.4f_S20220422_R130302_SpheresPermTubeReward_left_eye_camera_dlc_tracking_uncropped_0_diagnostic_cropping.png\",\n",
    "]\n",
    "suffix = \"_dlc_tracking_uncropped_0_diagnostic_cropping.png\"\n",
    "vids = []\n",
    "for v in vids_name:\n",
    "    flm_name = v[: -len(suffix)]\n",
    "    ds = flm.Dataset.from_flexilims(name=flm_name, flexilims_session=flm_sess)\n",
    "    vid = ds.path_full / ds.extra_attributes[\"video_file\"]\n",
    "    target = tmp_folder / f\"{'_'.join(ds.genealogy[:-1])}_{vid.name}\"\n",
    "    if not target.exists():\n",
    "        print(f\"Copying {vid} to {target}\")\n",
    "        shutil.copy(vid, target)\n",
    "    vids.append(target)\n",
    "vids"
   ]
  },
  {
   "cell_type": "code",
   "execution_count": null,
   "metadata": {},
   "outputs": [],
   "source": [
    "# add these videos (do it only once)\n",
    "if True:\n",
    "    deeplabcut.add_new_videos(\n",
    "        config,\n",
    "        videos=[str(v) for v in vids],\n",
    "        extract_frames=False,\n",
    "        copy_videos=True,\n",
    "    )"
   ]
  },
  {
   "cell_type": "code",
   "execution_count": null,
   "metadata": {},
   "outputs": [],
   "source": [
    "copied_vids = [config.parent / \"videos\" / v.name for v in vids]\n",
    "copied_vids"
   ]
  },
  {
   "cell_type": "code",
   "execution_count": null,
   "metadata": {},
   "outputs": [],
   "source": [
    "# this will reextract for all videos\n",
    "if True:\n",
    "    deeplabcut.extract_frames(\n",
    "        config=config,\n",
    "        userfeedback=True,\n",
    "        # videos_list=[str(v) for v in copied_vids],\n",
    "        algo=\"uniform\",\n",
    "        crop=True,\n",
    "    )\n"
   ]
  },
  {
   "cell_type": "code",
   "execution_count": null,
   "metadata": {},
   "outputs": [],
   "source": []
  },
  {
   "attachments": {},
   "cell_type": "markdown",
   "metadata": {},
   "source": [
    "Edit config file manually to add the skeleton and body parts you want. Then head to the\n",
    "VM to label manually. Copy the labelled data back to camp. ~~edit config.yaml to change\n",
    "paths if needed~~.\n",
    "\n",
    "Then check labels"
   ]
  },
  {
   "cell_type": "code",
   "execution_count": null,
   "metadata": {},
   "outputs": [],
   "source": [
    "deeplabcut.check_labels(config, visualizeindividuals=True)"
   ]
  },
  {
   "cell_type": "code",
   "execution_count": null,
   "metadata": {},
   "outputs": [],
   "source": [
    "_ = deeplabcut.create_training_dataset(\n",
    "    config, augmenter_type=\"imgaug\", userfeedback=False\n",
    ")"
   ]
  },
  {
   "attachments": {},
   "cell_type": "markdown",
   "metadata": {},
   "source": [
    "Now train the network (unsing the sbatch script)"
   ]
  },
  {
   "cell_type": "code",
   "execution_count": null,
   "metadata": {},
   "outputs": [],
   "source": [
    "o = deeplabcut.evaluate_network(config, Shuffles=[1], plotting=True)"
   ]
  },
  {
   "cell_type": "code",
   "execution_count": null,
   "metadata": {},
   "outputs": [],
   "source": [
    "scm = deeplabcut.extract_save_all_maps(config, shuffle=1, Indices=[0, 5])"
   ]
  },
  {
   "cell_type": "markdown",
   "metadata": {},
   "source": [
    "# Label video\n",
    "\n",
    "Now you can label the video\n"
   ]
  },
  {
   "cell_type": "code",
   "execution_count": null,
   "metadata": {},
   "outputs": [],
   "source": [
    "config\n"
   ]
  },
  {
   "cell_type": "code",
   "execution_count": null,
   "metadata": {},
   "outputs": [],
   "source": [
    "video_path = [\n",
    "    \"/camp/lab/znamenskiyp/home/shared/projects/blota_onix_pilote/BRYA142.5d/S20231002/R121600_HF_camera/righteye_camera_dlc_tracking_cropped_0/righteye_camera.mp4\"\n",
    "]\n",
    "deeplabcut.create_labeled_video(config, video_path, videotype=\".mp4\")"
   ]
  }
 ],
 "metadata": {
  "kernelspec": {
   "display_name": "dlc_nogui",
   "language": "python",
   "name": "python3"
  },
  "language_info": {
   "codemirror_mode": {
    "name": "ipython",
    "version": 3
   },
   "file_extension": ".py",
   "mimetype": "text/x-python",
   "name": "python",
   "nbconvert_exporter": "python",
   "pygments_lexer": "ipython3",
   "version": "3.8.17"
  },
  "orig_nbformat": 4
 },
 "nbformat": 4,
 "nbformat_minor": 2
}
