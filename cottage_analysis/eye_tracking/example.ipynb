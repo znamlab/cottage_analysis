{
 "cells": [
  {
   "cell_type": "code",
   "execution_count": null,
   "metadata": {},
   "outputs": [],
   "source": [
    "%load_ext autoreload\n",
    "%autoreload 2"
   ]
  },
  {
   "cell_type": "code",
   "execution_count": null,
   "metadata": {},
   "outputs": [],
   "source": [
    "import os\n",
    "from pathlib import Path\n",
    "import pandas as pd\n",
    "import flexiznam as flz\n",
    "from skimage.measure import EllipseModel\n",
    "import matplotlib.pyplot as plt\n",
    "import numpy as np\n",
    "import cv2\n",
    "from cottage_analysis.utilities.plot_utils import get_img_from_fig, write_fig_to_video\n",
    "from cottage_analysis.eye_tracking import eye_model_fitting"
   ]
  },
  {
   "attachments": {},
   "cell_type": "markdown",
   "metadata": {},
   "source": [
    "# Load DLC results"
   ]
  },
  {
   "cell_type": "code",
   "execution_count": null,
   "metadata": {},
   "outputs": [],
   "source": [
    "raw = Path(flz.PARAMETERS[\"data_root\"][\"raw\"])\n",
    "processed = Path(flz.PARAMETERS[\"data_root\"][\"processed\"])\n",
    "\n",
    "YIRAN = True\n",
    "\n",
    "if YIRAN:\n",
    "    project = \"hey2_3d-vision_foodres_20220101\"\n",
    "    mouse = \"PZAH6.4b\"\n",
    "    session = \"S20220512\"\n",
    "    recording = \"R190248_SpheresPermTubeReward\"\n",
    "    camera = \"right_eye_camera\"\n",
    "else:\n",
    "    project = \"blota_onix_pilote\"\n",
    "    mouse = \"BRAC6692.4a\"\n",
    "    session = \"S20221216\"\n",
    "    recording = \"Arena_dark_floor\"\n",
    "    camera = \"eye_camera\"\n",
    "\n",
    "\n",
    "data_path = processed / project / mouse / session / recording / camera\n",
    "dlc_path = data_path / \"dlc_output\"\n",
    "dlc_results = dict()\n",
    "for fname in dlc_path.glob(\"*.h5\"):\n",
    "    dlc_results[fname.name] = pd.read_hdf(fname)\n",
    "for k, v in dlc_results.items():\n",
    "    print(\"Read %s with %s entries\" % (k, len(v)))\n",
    "\n",
    "if not YIRAN:\n",
    "    fname = [fname for fname in dlc_results if \"filtered\" not in fname]\n",
    "print(\"Found %d recordings\" % len(fname))"
   ]
  },
  {
   "cell_type": "code",
   "execution_count": null,
   "metadata": {},
   "outputs": [],
   "source": [
    "dlc_results"
   ]
  },
  {
   "attachments": {},
   "cell_type": "markdown",
   "metadata": {},
   "source": [
    "# Chose which to analyse"
   ]
  },
  {
   "cell_type": "code",
   "execution_count": null,
   "metadata": {},
   "outputs": [],
   "source": [
    "# model = \"eye_camera_2022-11-25T15_49_23_croppedDLC_resnet50_eye_trackingDec1shuffle1_1030000.h5\""
   ]
  },
  {
   "attachments": {},
   "cell_type": "markdown",
   "metadata": {},
   "source": [
    "# Fit ellipses"
   ]
  },
  {
   "cell_type": "code",
   "execution_count": null,
   "metadata": {},
   "outputs": [],
   "source": [
    "REDO = False\n",
    "all_fits = dict()\n",
    "for model in dlc_results:\n",
    "    print(\"Doing %s\" % model)\n",
    "    target = dlc_path / \"ellipse_fit\" / \"{0}_fit.h5\".format(model.replace(\".h5\", \"\"))\n",
    "    target.parent.mkdir(exist_ok=True)\n",
    "\n",
    "    if target.exists() and not REDO:\n",
    "        ellipse_fits = pd.read_csv(target)\n",
    "        print(\"Fit loaded\")\n",
    "    else:\n",
    "        ellipse_fits = eye_model_fitting.fit_ellipses(dlc_results[model])\n",
    "        ellipse_fits.to_csv(target, index=False)\n",
    "        print(\"Fit created and saved\")\n",
    "    all_fits[model] = ellipse_fits"
   ]
  },
  {
   "attachments": {},
   "cell_type": "markdown",
   "metadata": {},
   "source": [
    "# Find moment where the mouse looks back\n",
    "\n",
    "These were badly fitted, try to get that better."
   ]
  },
  {
   "cell_type": "code",
   "execution_count": null,
   "metadata": {},
   "outputs": [],
   "source": [
    "fig = plt.figure()\n",
    "xlim = [100, 110]\n",
    "for imodel, model in enumerate(dlc_results):\n",
    "    fits = all_fits[model]\n",
    "\n",
    "    ax = fig.add_subplot(2, 2, imodel + 1)\n",
    "    ax.scatter(fits.centre_x.values, fits.centre_y.values, s=1, alpha=0.5)\n",
    "    ax.set_xlim(80, 175)\n",
    "    ax.set_ylim(40, 150)\n",
    "    for l in xlim:\n",
    "        ax.axvline(l, color=\"k\")"
   ]
  },
  {
   "cell_type": "code",
   "execution_count": null,
   "metadata": {},
   "outputs": [],
   "source": [
    "model"
   ]
  },
  {
   "cell_type": "code",
   "execution_count": null,
   "metadata": {},
   "outputs": [],
   "source": [
    "from numpy.random import default_rng\n",
    "\n",
    "rng = default_rng(seed=756)\n",
    "ellipse = EllipseModel()\n",
    "base_dir = processed / project / mouse / session / \"example_frames\"\n",
    "base_dir.mkdir(exist_ok=True)\n",
    "for imodel, model in enumerate(dlc_results):\n",
    "    target_dir = base_dir / f\"{model[:model.find('DLC')]}\"\n",
    "    target_dir.mkdir(exist_ok=True)\n",
    "    video_file = data_path / \"{0}.mp4\".format(model[: model.find(\"DLC\")])\n",
    "    fits = all_fits[model]\n",
    "    (ok,) = np.where(\n",
    "        (fits.centre_x.values < xlim[1]) & (fits.centre_x.values > xlim[0])\n",
    "    )\n",
    "    # take 4 random frames\n",
    "    frame_id = ok[rng.integers(0, len(ok) - 1, 4)]\n",
    "    cam_data = cv2.VideoCapture(str(video_file))\n",
    "    fig = plt.figure()\n",
    "    fig.suptitle(model[: model.find(\"DLC\")])\n",
    "    for iframe, fid in enumerate(frame_id):\n",
    "        ax = fig.add_subplot(2, 2, iframe + 1)\n",
    "        cam_data.set(cv2.CAP_PROP_POS_FRAMES, fid - 1)\n",
    "        ret, frame = cam_data.read()\n",
    "        ax.imshow(frame)\n",
    "        ax.set_title(fid)\n",
    "        fit = fits.iloc[fid]\n",
    "        ellipse.params = [\n",
    "            fit[w]\n",
    "            for w in (\"centre_x\", \"centre_y\", \"major_radius\", \"minor_radius\", \"angle\")\n",
    "        ]\n",
    "        circ_coord = ellipse.predict_xy(np.arange(0, 2 * np.pi, 0.1))\n",
    "        ax.plot(circ_coord[:, 0], circ_coord[:, 1])\n",
    "        cv2.imwrite(str(target_dir / f\"img{fid:05d}.png\"), frame)\n",
    "    cam_data.release()"
   ]
  },
  {
   "cell_type": "code",
   "execution_count": null,
   "metadata": {},
   "outputs": [],
   "source": [
    "frame = 283\n",
    "\n",
    "fig = plt.figure()\n",
    "for i in range(3):\n",
    "    ax = fig.add_subplot(1, 2, 1 + i)"
   ]
  },
  {
   "attachments": {},
   "cell_type": "markdown",
   "metadata": {},
   "source": [
    "## Plot a movie with ellipse fits"
   ]
  },
  {
   "cell_type": "code",
   "execution_count": null,
   "metadata": {},
   "outputs": [],
   "source": [
    "target_file = dlc_path / \"eye_tracking_ellipse_not_filtered.mp4\"\n",
    "video_file = data_path / \"{0}.mp4\".format(model[: model.find(\"DLC\")])\n",
    "\n",
    "assert target_file.parent.is_dir()\n",
    "REDO = False\n",
    "if not target_file.exists() or REDO:\n",
    "    ellipse = EllipseModel()\n",
    "\n",
    "    dlc_res = dlc_results[model]\n",
    "    ellipse_fits = []\n",
    "\n",
    "    fig = plt.figure()\n",
    "    fig.set_size_inches((9, 3))\n",
    "\n",
    "    img = get_img_from_fig(fig)\n",
    "    cam_data = cv2.VideoCapture(str(video_file))\n",
    "    fps = cam_data.get(cv2.CAP_PROP_FPS)\n",
    "    fcc = int(cam_data.get(cv2.CAP_PROP_FOURCC))\n",
    "    fcc = (\n",
    "        chr(fcc & 0xFF)\n",
    "        + chr((fcc >> 8) & 0xFF)\n",
    "        + chr((fcc >> 16) & 0xFF)\n",
    "        + chr((fcc >> 24) & 0xFF)\n",
    "    )\n",
    "\n",
    "    output = cv2.VideoWriter(\n",
    "        str(target_file),\n",
    "        cv2.VideoWriter_fourcc(*fcc),\n",
    "        fps / 4,\n",
    "        (img.shape[1], img.shape[0]),\n",
    "    )\n",
    "\n",
    "    for frame_id, track in dlc_res.iterrows():\n",
    "        # plot\n",
    "        fig.clear()\n",
    "        ax_img = fig.add_subplot(1, 3, 1)\n",
    "        ax_track = fig.add_subplot(1, 3, 2)\n",
    "        ax_fit = fig.add_subplot(1, 3, 3)\n",
    "        fig.subplots_adjust(left=0, right=1, bottom=0, top=1, wspace=0, hspace=0)\n",
    "\n",
    "        ret, frame = cam_data.read()\n",
    "\n",
    "        for ax in [ax_img, ax_fit, ax_track]:\n",
    "            ax.imshow(frame)\n",
    "            ax.set_yticks([])\n",
    "            ax.set_xticks([])\n",
    "\n",
    "        ax_track.scatter(xdata, ydata, s=likelihood * 10)\n",
    "        circ_coord = ellipse.predict_xy(np.arange(0, 2 * np.pi, 0.1))\n",
    "        ax_fit.plot(circ_coord[:, 0], circ_coord[:, 1])\n",
    "        write_fig_to_video(fig, output)\n",
    "    cam_data.release()\n",
    "    output.release()"
   ]
  },
  {
   "attachments": {},
   "cell_type": "markdown",
   "metadata": {},
   "source": [
    "# Analyse fits\n",
    "\n",
    "First we will check how the excentricity varies in function of the center position"
   ]
  },
  {
   "cell_type": "code",
   "execution_count": null,
   "metadata": {},
   "outputs": [],
   "source": [
    "fps = 60\n",
    "ellipse_fits[\"area\"] = ellipse_fits.major_radius * ellipse_fits.minor_radius * np.pi\n",
    "ellipse_fits[\"time\"] = ellipse_fits.index / fps\n",
    "minmaj = np.vstack([ellipse_fits[v] for v in [\"minor_radius\", \"major_radius\"]])\n",
    "ellipse_fits[\"excentricity\"] = ellipse_fits.minor_radius / ellipse_fits.major_radius\n",
    "ellipse_fits.head(n=2)"
   ]
  },
  {
   "cell_type": "code",
   "execution_count": null,
   "metadata": {},
   "outputs": [],
   "source": [
    "fits = ellipse_fits\n",
    "dark_onset = fits.time.searchsorted(230)\n",
    "fig = plt.figure(figsize=(10, 2))\n",
    "ax = fig.add_subplot(1, 3, 1, aspect=\"equal\")\n",
    "\n",
    "sc = ax.scatter(fits.centre_x, fits.centre_y, s=1, alpha=0.5, c=fits.time)\n",
    "cb = plt.colorbar(sc)\n",
    "cb.set_label(\"Time (s)\")\n",
    "ax.set_xlabel(\"X (px)\")\n",
    "ax.set_ylabel(\"Y (px)\")\n",
    "\n",
    "ax = fig.add_subplot(1, 3, 2)\n",
    "sc = ax.scatter(fits.time, fits.area, c=fits.rsquare, vmin=0.99, vmax=1, marker=\".\")\n",
    "cb = plt.colorbar(sc)\n",
    "cb.set_label(\"R-squared\")\n",
    "ax.axvline(fits.time[dark_onset], color=\"k\")\n",
    "ax.set_xlabel(\"Time (s)\")\n",
    "ax.set_ylabel(\"Area ($px^2$)\")\n",
    "\n",
    "fig.subplots_adjust(wspace=0.7, left=0.1)\n",
    "\n",
    "ax = fig.add_subplot(1, 3, 3)\n",
    "ax.hist(\n",
    "    fits.excentricity[:dark_onset],\n",
    "    bins=np.arange(0, 1, 0.05),\n",
    "    histtype=\"step\",\n",
    "    density=True,\n",
    "    label=\"Brightness\",\n",
    ")\n",
    "ax.hist(\n",
    "    fits.excentricity[dark_onset:],\n",
    "    bins=np.arange(0, 1, 0.05),\n",
    "    histtype=\"step\",\n",
    "    density=True,\n",
    "    label=\"Darkness\",\n",
    ")\n",
    "ax.legend(loc=\"upper left\")\n",
    "ax.set_xlabel(\"Time (s)\")\n",
    "ax.set_ylabel(\"Axis ratio\")\n",
    "fig.subplots_adjust(wspace=0.7, left=0.1)"
   ]
  },
  {
   "cell_type": "code",
   "execution_count": null,
   "metadata": {},
   "outputs": [],
   "source": [
    "datasets = [fits[:dark_onset], fits[dark_onset:]]\n",
    "\n",
    "for label, data in zip([\"Bright\", \"Dark\"], datasets):\n",
    "    data = data.copy()\n",
    "    fig = plt.figure(figsize=(6, 2))\n",
    "    fig.suptitle(label)\n",
    "    center = data[[\"centre_x\", \"centre_y\"]].mean(axis=0)\n",
    "    x = data[\"centre_x\"] - center[\"centre_x\"]\n",
    "    y = data[\"centre_y\"] - center[\"centre_y\"]\n",
    "    ax = fig.add_subplot(1, 2, 1, aspect=\"equal\")\n",
    "    sc = ax.scatter(x, y, c=data[\"excentricity\"], alpha=0.2, s=1)\n",
    "    cb = plt.colorbar(sc)\n",
    "    cb.set_label(\"Ellipse Axes Ratio\")\n",
    "    ax.set_xlabel(\"$X - X_0$ (px)\")\n",
    "    ax.set_ylabel(\"$Y - Y_0$ (px)\")\n",
    "    lx, hx = np.quantile(x, [0.001, 0.999])\n",
    "    xb = np.round((x - lx) / (hx - lx) * 20, 0)\n",
    "    xb[(xb < 0) | (xb > 20)] = np.nan\n",
    "    data[\"xb\"] = xb\n",
    "    ly, hy = np.quantile(y, [0.001, 0.999])\n",
    "    yb = np.round((y - ly) / (hy - ly) * 20, 0)\n",
    "    yb[(yb < 0) | (yb > 20)] = np.nan\n",
    "    data[\"yb\"] = yb\n",
    "    matrix_df = data.groupby([\"xb\", \"yb\"]).aggregate(np.nanmedian).excentricity\n",
    "    matrix = np.zeros((21, 21)) + np.nan\n",
    "    for x, y in matrix_df.index:\n",
    "        matrix[int(y), int(x)] = matrix_df.loc[(x, y)]\n",
    "    ax = fig.add_subplot(1, 2, 2, aspect=\"equal\")\n",
    "    img = ax.imshow(matrix, extent=(lx, hx, ly, hy), origin=\"lower\")\n",
    "    cb = plt.colorbar(img)\n",
    "    cb.set_label(\"Ellipse Axes Ratio\")\n",
    "    ax.set_xlabel(\"$X - X_0$ (px)\")\n",
    "    ax.set_ylabel(\"$Y - Y_0$ (px)\")\n",
    "\n",
    "    fig.subplots_adjust(wspace=0.7)"
   ]
  },
  {
   "cell_type": "code",
   "execution_count": null,
   "metadata": {},
   "outputs": [],
   "source": [
    "len(dlc_res)"
   ]
  },
  {
   "cell_type": "code",
   "execution_count": null,
   "metadata": {},
   "outputs": [],
   "source": [
    "datasets = [fits[:dark_onset], fits[dark_onset:]]\n",
    "dlc_datasets = [dlc_res.iloc[:dark_onset], dlc_res.iloc[dark_onset:]]\n",
    "\n",
    "model_part = model.find(\"DLC_resnet\")\n",
    "model_part = model[model_part:-3]\n",
    "for label, data, dlc in zip([\"Bright\", \"Dark\"], datasets, dlc_datasets):\n",
    "    data = data.copy()\n",
    "    reflection = dlc[model_part, \"reflection\"]\n",
    "    fig = plt.figure(figsize=(6, 2))\n",
    "    fig.suptitle(label)\n",
    "\n",
    "    x = data[\"centre_x\"] - reflection[\"x\"].values\n",
    "    y = data[\"centre_y\"] - reflection[\"y\"].values\n",
    "    ax = fig.add_subplot(1, 2, 1, aspect=\"equal\")\n",
    "    sc = ax.scatter(x, y, c=data[\"excentricity\"], alpha=0.2, s=1)\n",
    "    cb = plt.colorbar(sc)\n",
    "    cb.set_label(\"Ellipse Axes Ratio\")\n",
    "    ax.set_xlabel(\"$X - R_x$ (px)\")\n",
    "    ax.set_ylabel(\"$Y - R_y$ (px)\")\n",
    "    lx, hx = np.quantile(x, [0.001, 0.999])\n",
    "    xb = np.round((x - lx) / (hx - lx) * 20, 0)\n",
    "    xb[(xb < 0) | (xb > 20)] = np.nan\n",
    "    data[\"xb\"] = xb\n",
    "    ly, hy = np.quantile(y, [0.001, 0.999])\n",
    "    yb = np.round((y - ly) / (hy - ly) * 20, 0)\n",
    "    yb[(yb < 0) | (yb > 20)] = np.nan\n",
    "    data[\"yb\"] = yb\n",
    "    matrix_df = data.groupby([\"xb\", \"yb\"]).aggregate(np.nanmedian).excentricity\n",
    "    matrix = np.zeros((21, 21)) + np.nan\n",
    "    for x, y in matrix_df.index:\n",
    "        matrix[int(y), int(x)] = matrix_df.loc[(x, y)]\n",
    "    ax = fig.add_subplot(1, 2, 2, aspect=\"equal\")\n",
    "    img = ax.imshow(matrix, extent=(lx, hx, ly, hy), origin=\"lower\")\n",
    "    cb = plt.colorbar(img)\n",
    "    cb.set_label(\"Ellipse Axes Ratio\")\n",
    "    ax.set_xlabel(\"$X - R_x$ (px)\")\n",
    "    ax.set_ylabel(\"$Y - R_y$ (px)\")\n",
    "\n",
    "    fig.subplots_adjust(wspace=0.7)"
   ]
  },
  {
   "attachments": {},
   "cell_type": "markdown",
   "metadata": {},
   "source": [
    "# Find eye centre\n",
    "\n",
    "To find the eye center we will use the average excentricity for each eye position.\n",
    "If we fit an ellipse, the excentricity of the ellipse should depend on the distance \n",
    "\n",
    "$Pupil Axes Ratio = \\frac{\\sqrt{(x-x_0)^2 + (y-y_0)^2}}{R}$ "
   ]
  },
  {
   "cell_type": "code",
   "execution_count": null,
   "metadata": {},
   "outputs": [],
   "source": [
    "from scipy.optimize import minimize\n",
    "\n",
    "\n",
    "def ideal_ratio(params, xy):\n",
    "    x0, y0, r = params\n",
    "    return np.sqrt((xy[:, 0] - x0) ** 2 + (xy[:, 1] - y0) ** 2) / r\n",
    "\n",
    "\n",
    "def find_centre(x, y, ratio):\n",
    "    data = np.hstack([x.reshape((-1, 1)), y.reshape((-1, 1))])\n",
    "\n",
    "    def cost(params):\n",
    "        estimate = ideal_ratio(params, data)\n",
    "        return np.sqrt(np.sum((estimate - ratio) ** 2))\n",
    "\n",
    "    return minimize(cost, (0, 0, 10))"
   ]
  },
  {
   "cell_type": "code",
   "execution_count": null,
   "metadata": {},
   "outputs": [],
   "source": [
    "# Fit using all data\n",
    "res = dict()\n",
    "for label, data, dlc in zip([\"Bright\", \"Dark\"], datasets, dlc_datasets):\n",
    "    data = data.copy()\n",
    "    reflection = dlc[model_part, \"reflection\"]\n",
    "    x = data[\"centre_x\"] - reflection[\"x\"].values\n",
    "    y = data[\"centre_y\"] - reflection[\"y\"].values\n",
    "    res[label] = find_centre(x.values, y.values, data[\"excentricity\"].values)\n",
    "    plt.figure()\n",
    "    xy = np.hstack([x.values.reshape((-1, 1)), y.values.reshape((-1, 1))])\n",
    "    plt.scatter(data[\"excentricity\"], ideal_ratio(res[label][\"x\"], xy))\n",
    "    plt.plot([0, 1], [0, 1])\n",
    "\n",
    "print(res[\"Dark\"][\"x\"])\n",
    "print(res[\"Bright\"][\"x\"])"
   ]
  },
  {
   "cell_type": "code",
   "execution_count": null,
   "metadata": {},
   "outputs": [],
   "source": [
    "# Fit using matreix data\n",
    "res = dict()\n",
    "for label, data, dlc in zip([\"Bright\", \"Dark\"], datasets, dlc_datasets):\n",
    "    data = data.copy()\n",
    "    reflection = dlc[model_part, \"reflection\"]\n",
    "    x = data[\"centre_x\"] - reflection[\"x\"].values\n",
    "    y = data[\"centre_y\"] - reflection[\"y\"].values\n",
    "    lx, hx = np.quantile(x, [0.001, 0.999])\n",
    "    xb = np.round((x - lx) / (hx - lx) * 20, 0)\n",
    "    xb[(xb < 0) | (xb > 20)] = np.nan\n",
    "    data[\"xb\"] = xb\n",
    "    ly, hy = np.quantile(y, [0.001, 0.999])\n",
    "    yb = np.round((y - ly) / (hy - ly) * 20, 0)\n",
    "    yb[(yb < 0) | (yb > 20)] = np.nan\n",
    "    data[\"yb\"] = yb\n",
    "    matrix_df = data.groupby([\"xb\", \"yb\"]).aggregate(np.nanmedian).excentricity\n",
    "    xvals = matrix_df.index.get_level_values(0).values\n",
    "    yvals = matrix_df.index.get_level_values(1).values\n",
    "    excvals = matrix_df.values\n",
    "    res[label] = find_centre(xvals, yvals, excvals)\n",
    "    plt.figure()\n",
    "    xy = np.hstack([xvals.reshape((-1, 1)), yvals.reshape((-1, 1))])\n",
    "    plt.scatter(excvals, ideal_ratio(res[label][\"x\"], xy))\n",
    "    plt.plot([0, 1], [0, 1])\n",
    "\n",
    "print(res[\"Dark\"][\"x\"])\n",
    "print(res[\"Bright\"][\"x\"])"
   ]
  },
  {
   "cell_type": "code",
   "execution_count": null,
   "metadata": {},
   "outputs": [],
   "source": [
    "xvals"
   ]
  },
  {
   "cell_type": "code",
   "execution_count": null,
   "metadata": {},
   "outputs": [],
   "source": [
    "15 / 4"
   ]
  }
 ],
 "metadata": {
  "kernelspec": {
   "language": "python"
  },
  "language_info": {
   "codemirror_mode": {
    "name": "ipython",
    "version": 3
   },
   "file_extension": ".py",
   "mimetype": "text/x-python",
   "name": "python",
   "nbconvert_exporter": "python",
   "pygments_lexer": "ipython3"
  },
  "vscode": {
   "interpreter": {
    "hash": "272882de78d91b881035f683a12ffa07edc574ccc635c980b383a6ea3db59afc"
   }
  }
 },
 "nbformat": 4,
 "nbformat_minor": 2
}
