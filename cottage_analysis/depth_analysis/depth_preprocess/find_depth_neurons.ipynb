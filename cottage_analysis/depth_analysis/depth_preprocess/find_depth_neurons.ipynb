{
 "cells": [
  {
   "cell_type": "code",
   "execution_count": 1,
   "metadata": {},
   "outputs": [],
   "source": [
    "# IMPORTS\n",
    "%reload_ext autoreload\n",
    "%autoreload 2\n",
    "from typing import Any\n",
    "\n",
    "import os\n",
    "import sys\n",
    "import defopt\n",
    "import pickle\n",
    "import numpy as np\n",
    "import pandas as pd\n",
    "import scipy.stats\n",
    "import matplotlib.pyplot as plt\n",
    "from matplotlib.patches import Circle\n",
    "from scipy.optimize import curve_fit\n",
    "from suite2p.extraction import masks\n",
    "import matplotlib\n",
    "from matplotlib import cm\n",
    "import warnings\n",
    "\n",
    "import cottage_analysis as cott\n",
    "from cottage_analysis.depth_analysis.filepath.generate_filepaths import *\n",
    "from cottage_analysis.imaging.common import find_frames\n",
    "from cottage_analysis.imaging.common import imaging_loggers_formatting as format_loggers\n",
    "from cottage_analysis.stimulus_structure import sphere_structure as vis_stim_structure\n",
    "from cottage_analysis.depth_analysis.plotting.plotting_utils import *\n",
    "from cottage_analysis.depth_analysis.plotting.basic_vis_plots import *\n",
    "from cottage_analysis.depth_analysis.depth_preprocess.process_params import *\n",
    "from cottage_analysis.depth_analysis.depth_preprocess.process_trace import *\n",
    "\n",
    "from cottage_analysis.io_module import harp\n",
    "\n",
    "import flexiznam as flz\n",
    "from pathlib import Path\n",
    "from warnings import warn\n",
    "from flexiznam.schema import Dataset"
   ]
  },
  {
   "cell_type": "code",
   "execution_count": 28,
   "metadata": {},
   "outputs": [
    {
     "name": "stderr",
     "output_type": "stream",
     "text": [
      "/camp/home/hey2/.conda/envs/2p_analysis_cottage/lib/python3.9/site-packages/ipykernel/ipkernel.py:287: DeprecationWarning: `should_run_async` will not call `transform_cell` automatically in the future. Please pass the result to `transformed_cell` argument and any exception that happen during thetransform in `preprocessing_exc_tuple` in IPython 7.17 and above.\n",
      "  and should_run_async(code)\n"
     ]
    },
    {
     "name": "stdout",
     "output_type": "stream",
     "text": [
      "---------Process protocol SpheresPermTubeReward/2---------\n",
      "-----Process recording 1/3-----\n",
      "---START STEP 1--- \n",
      " Getting data filepaths...\n",
      "---STEP 1 FINISHED.--- \n",
      "\n",
      "---START STEP 2--- \n",
      " Calculating dF/F for all ROIs...\n"
     ]
    },
    {
     "name": "stderr",
     "output_type": "stream",
     "text": [
      "<ipython-input-28-f6cc4a02c2c4>:74: UserWarning: This pattern has match groups. To actually get the groups, use str.extract.\n",
      "  sess_children_protocols = sess_children[sess_children['name'].str.contains('(SpheresPermTubeReward|Fourier|Retinotopy)')]\n"
     ]
    },
    {
     "name": "stdout",
     "output_type": "stream",
     "text": [
      "---STEP 2 FINISHED.--- \n",
      "\n",
      "---START STEP 3--- \n",
      " Align timestamps for all loggers...\n",
      "ImagingFrames in video: 30788\n",
      "ImagingFrame triggers: 30789\n",
      "WARNING: SAVED VIDEO FRAME IS 1 FRAME LESS THAN FRAME TRIGGERS!!!\n",
      "ImagingFrames in video: 30788\n",
      "ImagingFrame triggers: 30788\n",
      "Frame trigger extracted.\n"
     ]
    },
    {
     "name": "stderr",
     "output_type": "stream",
     "text": [
      "/camp/home/hey2/.conda/envs/2p_analysis_cottage/lib/python3.9/site-packages/pandas/core/frame.py:5039: SettingWithCopyWarning: \n",
      "A value is trying to be set on a copy of a slice from a DataFrame\n",
      "\n",
      "See the caveats in the documentation: https://pandas.pydata.org/pandas-docs/stable/user_guide/indexing.html#returning-a-view-versus-a-copy\n",
      "  return super().rename(\n",
      "/camp/home/hey2/.conda/envs/2p_analysis_cottage/lib/python3.9/site-packages/pandas/core/indexing.py:1732: SettingWithCopyWarning: \n",
      "A value is trying to be set on a copy of a slice from a DataFrame\n",
      "\n",
      "See the caveats in the documentation: https://pandas.pydata.org/pandas-docs/stable/user_guide/indexing.html#returning-a-view-versus-a-copy\n",
      "  self._setitem_single_block(indexer, value, name)\n"
     ]
    },
    {
     "name": "stdout",
     "output_type": "stream",
     "text": [
      "Timestamps aligned and saved.\n",
      "---STEP 3 FINISHED.--- \n",
      "\n",
      "---START STEP 4--- \n",
      " Get vis-stim structure...\n"
     ]
    },
    {
     "name": "stderr",
     "output_type": "stream",
     "text": [
      "/camp/home/hey2/.conda/envs/2p_analysis_cottage/lib/python3.9/site-packages/pandas/core/generic.py:5516: SettingWithCopyWarning: \n",
      "A value is trying to be set on a copy of a slice from a DataFrame.\n",
      "Try using .loc[row_indexer,col_indexer] = value instead\n",
      "\n",
      "See the caveats in the documentation: https://pandas.pydata.org/pandas-docs/stable/user_guide/indexing.html#returning-a-view-versus-a-copy\n",
      "  self[name] = value\n"
     ]
    },
    {
     "name": "stdout",
     "output_type": "stream",
     "text": [
      "---STEP 4 FINISHED.--- \n",
      "\n",
      "-----Process recording 2/3-----\n",
      "---START STEP 1--- \n",
      " Getting data filepaths...\n",
      "---STEP 1 FINISHED.--- \n",
      "\n",
      "---START STEP 2--- \n",
      " Calculating dF/F for all ROIs...\n",
      "---STEP 2 FINISHED.--- \n",
      "\n",
      "---START STEP 3--- \n",
      " Align timestamps for all loggers...\n",
      "ImagingFrames in video: 76482\n",
      "ImagingFrame triggers: 76483\n",
      "WARNING: SAVED VIDEO FRAME IS 1 FRAME LESS THAN FRAME TRIGGERS!!!\n",
      "ImagingFrames in video: 76482\n",
      "ImagingFrame triggers: 76482\n",
      "Frame trigger extracted.\n",
      "Timestamps aligned and saved.\n",
      "---STEP 3 FINISHED.--- \n",
      "\n",
      "---START STEP 4--- \n",
      " Get vis-stim structure...\n",
      "---STEP 4 FINISHED.--- \n",
      "\n",
      "-----Process recording 3/3-----\n",
      "---START STEP 1--- \n",
      " Getting data filepaths...\n",
      "---STEP 1 FINISHED.--- \n",
      "\n",
      "---START STEP 2--- \n",
      " Calculating dF/F for all ROIs...\n",
      "---STEP 2 FINISHED.--- \n",
      "\n",
      "---START STEP 3--- \n",
      " Align timestamps for all loggers...\n",
      "Frame trigger extracted.\n",
      "Timestamps aligned and saved.\n",
      "---STEP 3 FINISHED.--- \n",
      "\n",
      "---START STEP 4--- \n",
      " Get vis-stim structure...\n",
      "---STEP 4 FINISHED.--- \n",
      "\n",
      "---All recordings concatenated and saved.--- \n",
      "\n",
      "---------Process protocol SpheresPermTubeRewardPlayback/2---------\n",
      "-----Process recording 1/2-----\n",
      "---START STEP 1--- \n",
      " Getting data filepaths...\n",
      "---STEP 1 FINISHED.--- \n",
      "\n",
      "---START STEP 2--- \n",
      " Calculating dF/F for all ROIs...\n",
      "---STEP 2 FINISHED.--- \n",
      "\n",
      "---START STEP 3--- \n",
      " Align timestamps for all loggers...\n",
      "ImagingFrames in video: 62432\n",
      "ImagingFrame triggers: 62433\n",
      "WARNING: SAVED VIDEO FRAME IS 1 FRAME LESS THAN FRAME TRIGGERS!!!\n",
      "ImagingFrames in video: 62432\n",
      "ImagingFrame triggers: 62432\n",
      "Frame trigger extracted.\n",
      "Timestamps aligned and saved.\n",
      "---STEP 3 FINISHED.--- \n",
      "\n",
      "---START STEP 4--- \n",
      " Get vis-stim structure...\n",
      "---STEP 4 FINISHED.--- \n",
      "\n",
      "-----Process recording 2/2-----\n",
      "---START STEP 1--- \n",
      " Getting data filepaths...\n",
      "---STEP 1 FINISHED.--- \n",
      "\n",
      "---START STEP 2--- \n",
      " Calculating dF/F for all ROIs...\n",
      "---STEP 2 FINISHED.--- \n",
      "\n",
      "---START STEP 3--- \n",
      " Align timestamps for all loggers...\n",
      "ImagingFrames in video: 15637\n",
      "ImagingFrame triggers: 15638\n",
      "WARNING: SAVED VIDEO FRAME IS 1 FRAME LESS THAN FRAME TRIGGERS!!!\n",
      "ImagingFrames in video: 15637\n",
      "ImagingFrame triggers: 15637\n",
      "Frame trigger extracted.\n",
      "Timestamps aligned and saved.\n",
      "---STEP 3 FINISHED.--- \n",
      "\n",
      "---START STEP 4--- \n",
      " Get vis-stim structure...\n",
      "---STEP 4 FINISHED.--- \n",
      "\n",
      "---All recordings concatenated and saved.--- \n",
      "\n"
     ]
    }
   ],
   "source": [
    "project = 'hey2_3d-vision_foodres_20220101'\n",
    "mouse = 'PZAH8.2f'\n",
    "session = 'S20230213'\n",
    "protocols = ['SpheresPermTubeReward','SpheresPermTubeRewardPlayback']\n",
    "\n",
    "# ----- SETUPS -----\n",
    "\n",
    "choose_trials = 100\n",
    "frame_rate = 15\n",
    "speed_thr_cal = (\n",
    "    0.2  # m/s, threshold for running speed when calculating depth neurons\n",
    ")\n",
    "is_calculate_dFF = False\n",
    "\n",
    "for protocol in protocols:\n",
    "    print(f'---------Process protocol {protocol}/{len(protocols)}---------', flush=True)\n",
    "    # ----- STEP1: Generate file path -----\n",
    "    flexilims_session = flz.get_flexilims_session(project_id=project)\n",
    "    all_protocol_recording_entries = get_all_recording_entries(project, mouse, session, protocol=protocol, flexilims_session=flexilims_session)\n",
    "\n",
    "    # make folder for this protocol (closedloop/playback)\n",
    "    root = Path(flz.PARAMETERS[\"data_root\"][\"processed\"])\n",
    "    session_protocol_folder = root/project/mouse/session/protocol\n",
    "    if not os.path.exists(session_protocol_folder/\"plane0/\"):\n",
    "        os.makedirs(session_protocol_folder/\"plane0/\")\n",
    "    session_analysis_folder = root/project/mouse/'Analysis'/session/protocol\n",
    "    if not os.path.exists(session_analysis_folder/\"plane0/\"):\n",
    "        os.makedirs(session_analysis_folder/\"plane0/\")\n",
    "        \n",
    "    all_folder_nos = []\n",
    "\n",
    "    for irecording in range(len(all_protocol_recording_entries)):\n",
    "        print(f'-----Process recording {irecording+1}/{len(all_protocol_recording_entries)}-----', flush=True)\n",
    "        print(\"---START STEP 1---\", \"\\n\", \"Getting data filepaths...\", flush=True)\n",
    "\n",
    "        (\n",
    "            rawdata_folder,\n",
    "            protocol_folder,\n",
    "            analysis_folder,\n",
    "            suite2p_folder,\n",
    "            trace_folder,\n",
    "        ) = generate_file_folders(\n",
    "            project=project,\n",
    "            mouse=mouse,\n",
    "            session=session,\n",
    "            protocol=protocol,\n",
    "            all_protocol_recording_entries=all_protocol_recording_entries, \n",
    "            recording_no=irecording, \n",
    "            flexilims_session=flexilims_session\n",
    "        )\n",
    "        if not os.path.exists(analysis_folder/\"plane0/\"):\n",
    "            os.makedirs(analysis_folder/\"plane0/\")\n",
    "\n",
    "        if \"Playback\" in protocol:\n",
    "            (\n",
    "                rawdata_folder_closeloop,\n",
    "                protocol_folder_closeloop,\n",
    "                analysis_folder_closeloop,\n",
    "                suite2p_folder_closeloop,\n",
    "                trace_folder_closeloop,\n",
    "            ) = generate_file_folders(\n",
    "                project=project,\n",
    "                mouse=mouse,\n",
    "                session=session,\n",
    "                protocol=protocol.replace(\"Playback\", \"\"),\n",
    "                all_protocol_recording_entries=all_protocol_recording_entries, \n",
    "                recording_no=irecording, \n",
    "                flexilims_session=flexilims_session\n",
    "            )\n",
    "            assert os.path.exists(analysis_folder_closeloop/\"plane0/\")\n",
    "            \n",
    "        # Indicate the folder no for suite2p trace to find the frame number of this folder\n",
    "        sess_children = get_session_children(project=project, mouse=mouse, session=session, flexilims_session=flexilims_session)\n",
    "        sess_children_protocols = sess_children[sess_children['name'].str.contains('(SpheresPermTubeReward|Fourier|Retinotopy)')]\n",
    "        folder_no = sess_children_protocols.index.get_loc(sess_children_protocols[sess_children_protocols.id == all_protocol_recording_entries.iloc[irecording].id].index[0])\n",
    "        all_folder_nos.append(folder_no)\n",
    "        print(\"---STEP 1 FINISHED.---\", \"\\n\", flush=True)\n",
    "\n",
    "        # -----STEP2: Calculate dF/F from the raw fluorescence trace and Save -----\n",
    "        print(\"---START STEP 2---\", \"\\n\", \"Calculating dF/F for all ROIs...\", flush=True)\n",
    "        # Load suite2p files\n",
    "        stat = np.load(suite2p_folder/\"stat.npy\", allow_pickle=True)\n",
    "        ops = np.load(suite2p_folder/\"ops.npy\", allow_pickle=True)\n",
    "        ops = ops.item()\n",
    "        stats = np.load(suite2p_folder/\"stat.npy\", allow_pickle=True)\n",
    "        iscell = np.load(suite2p_folder/\"iscell.npy\", allow_pickle=True)[:, 0]\n",
    "        # F = np.load(trace_folder + 'F.npy', allow_pickle=True)\n",
    "        Fast = np.load(trace_folder/\"Fast.npy\", allow_pickle=True)\n",
    "        # Fneu = np.load(trace_folder + 'Fneu.npy', allow_pickle=True)\n",
    "        # spks = np.load(trace_folder + 'spks.npy', allow_pickle=True)\n",
    "\n",
    "        # The ROI no. for all cells (excluding non-cells)\n",
    "        which_rois = (np.arange(Fast.shape[0]))[iscell.astype(\"bool\")]\n",
    "\n",
    "        # Calculate dF/F\n",
    "        if is_calculate_dFF:\n",
    "            dffs_ast = calculate_dFF(\n",
    "                f=Fast, mode=\"gmm\", n_components=2, verbose=True\n",
    "            )\n",
    "            np.save(trace_folder/\"dffs_ast.npy\", dffs_ast)\n",
    "            print(\"dFFs saved.\", flush=True)\n",
    "            visualize_dffs = True\n",
    "            if visualize_dffs:\n",
    "                plt.figure(figsize=(10, 5))\n",
    "                plt.plot(dffs_ast[0])\n",
    "                plt.savefig(trace_folder/\"dffs_ast_example.png\")\n",
    "        \n",
    "        dffs_ast = np.load(trace_folder/\"dffs_ast.npy\")\n",
    "        print(\"---STEP 2 FINISHED.---\", \"\\n\", flush=True)\n",
    "        \n",
    "        # -----STEP3: Align timestamps of visual stimulation loggers and save as img_VS.pickle file-----\n",
    "        # This is trial-based analysis and has not included screen frame no.\n",
    "        print(\"---START STEP 3---\", \"\\n\", \"Align timestamps for all loggers...\", flush=True)\n",
    "        # photodiode_file = generate_filepaths.generate_logger_path(project=project,\n",
    "        #                                                           mouse=mouse,\n",
    "        #                                                           session=session,\n",
    "        #                                                           protocol=protocol,\n",
    "        #                                                           rawdata_root=rawdata_root,\n",
    "        #                                                           root=root,\n",
    "        #                                                           logger_name='PhotodiodeLog')\n",
    "\n",
    "        # VS_photodiode_logger = format_loggers.format_VS_photodiode_logger(photodiode_file)\n",
    "        # # plt.plot(VS_photodiode_logger['Photodiode'][100000:110000])\n",
    "        # if not os.path.exists(trace_folder+'checker_plots/'):\n",
    "        #     os.makedirs(trace_folder+'checker_plots/')\n",
    "        # VS_photodiode_logger = find_frames.find_VS_frames(photodiode_df=VS_photodiode_logger, frame_rate=144, upper_thr=70,\n",
    "        #                                                   lower_thr=30, plot=True, plot_start=100000, plot_range=2000,\n",
    "        #                                                   plot_dir=trace_folder+'checker_plots/')\n",
    "        # print('Photodiode signal extracted.', flush=True)\n",
    "\n",
    "        # Load vis-stim param logger\n",
    "        VS_param_file = generate_logger_path(\n",
    "            project=project,\n",
    "            mouse=mouse,\n",
    "            session=session,\n",
    "            protocol=protocol,\n",
    "            logger_name=\"NewParams\",    \n",
    "            all_protocol_recording_entries=all_protocol_recording_entries, \n",
    "            recording_no=irecording, \n",
    "            flexilims_session=flexilims_session,\n",
    "        )\n",
    "        VS_param_logger = format_loggers.format_VS_param_logger(\n",
    "            VS_param_file, which_protocol=protocol\n",
    "        )\n",
    "\n",
    "        # Load frame trigger logger and find frame triggers\n",
    "        harpmessage_file = generate_logger_path(\n",
    "            project=project,\n",
    "            mouse=mouse,\n",
    "            session=session,\n",
    "            protocol=protocol,\n",
    "            all_protocol_recording_entries=all_protocol_recording_entries, \n",
    "            recording_no=irecording, \n",
    "            flexilims_session=flexilims_session,\n",
    "            logger_name=\"harp_message\",\n",
    "        )\n",
    "        msg = Path(str(harpmessage_file).replace('csv','bin'))\n",
    "        p_msg = trace_folder\n",
    "        p_msg = p_msg / (msg.stem + '.npz')\n",
    "        if p_msg.is_file():\n",
    "            harp_messages = np.load(p_msg)\n",
    "        else:\n",
    "            print('Saving harp messages into npz...', flush=True)\n",
    "            harp_messages = harp.load_harp(msg)\n",
    "            p_msg.parent.mkdir(parents=True, exist_ok=True)\n",
    "            np.savez(p_msg, **harp_messages)\n",
    "            print('Harp messages saved.', flush=True)\n",
    "\n",
    "        img_frame_logger = format_loggers.format_img_frame_logger(\n",
    "            harp_messages, register_address=32\n",
    "        )\n",
    "        frame_number = ops[\"frames_per_folder\"][folder_no]\n",
    "        img_frame_logger = find_frames.find_imaging_frames(\n",
    "            harp_message=img_frame_logger,\n",
    "            frame_number=frame_number,\n",
    "            exposure_time=0.0324 * 2,\n",
    "            register_address=32,\n",
    "            exposure_time_tolerance=0.001,\n",
    "        )\n",
    "        print(\"Frame trigger extracted.\", flush=True)\n",
    "        \n",
    "        \n",
    "        # Align vis-stim param timestamps\n",
    "        # img_VS = align_timestamps.align_timestamps(VS_frames=VS_photodiode_logger, VS_params=VS_param_logger,\n",
    "        #                                            imaging_frames=img_frame_logger)\n",
    "        img_VS = pd.merge_asof(\n",
    "            img_frame_logger,\n",
    "            VS_param_logger,\n",
    "            on=\"HarpTime\",\n",
    "            allow_exact_matches=True,\n",
    "            direction=\"backward\",\n",
    "        )\n",
    "\n",
    "        # Add running logger to the aligned dataframe (ALL DISTANCE IN METERS)\n",
    "        rotary_encoder_file = generate_logger_path(\n",
    "            project=project,\n",
    "            mouse=mouse,\n",
    "            session=session,\n",
    "            protocol=protocol,\n",
    "            all_protocol_recording_entries=all_protocol_recording_entries, \n",
    "            recording_no=irecording, \n",
    "            flexilims_session=flexilims_session,\n",
    "            logger_name=\"RotaryEncoder\",\n",
    "        )\n",
    "        mousez_logger = pd.read_csv(\n",
    "            rotary_encoder_file, sep=\",\", usecols=[\"HarpTime\", \"EyeZ\", \"MouseZ\"]\n",
    "        )\n",
    "        img_VS = pd.merge_asof(\n",
    "            img_VS,\n",
    "            mousez_logger,\n",
    "            on=\"HarpTime\",\n",
    "            allow_exact_matches=True,\n",
    "            direction=\"backward\",\n",
    "        )\n",
    "\n",
    "        img_VS.EyeZ = img_VS.EyeZ / 100  # Convert cm to m\n",
    "        img_VS.MouseZ = img_VS.MouseZ / 100  # Convert cm to m\n",
    "        img_VS.Depth = img_VS.Depth / 100  # Convert cm to m\n",
    "        img_VS.Z0 = img_VS.Z0 / 100  # Convert cm to m\n",
    "\n",
    "        depth_list = img_VS[\"Depth\"].unique()\n",
    "        depth_list = np.round(depth_list, 2)\n",
    "        depth_list = depth_list[~np.isnan(depth_list)].tolist()\n",
    "        depth_list.remove(-99.99)\n",
    "        depth_list.sort()\n",
    "\n",
    "        # print(img_VS[:20], flush=True)\n",
    "        # Save img_VS\n",
    "        with open(protocol_folder/\"img_VS.pickle\", \"wb\") as handle:\n",
    "            pickle.dump(img_VS, handle, protocol=pickle.HIGHEST_PROTOCOL)\n",
    "        print(\"Timestamps aligned and saved.\", flush=True)\n",
    "        print(\"---STEP 3 FINISHED.---\", \"\\n\", flush=True)\n",
    "        \n",
    "        # -----STEP4: Get the visual stimulation structure and Save (find the imaging frames for visual stimulation)-----\n",
    "        print(\"---START STEP 4---\", \"\\n\", \"Get vis-stim structure...\", flush=True)\n",
    "        with open(protocol_folder/\"img_VS.pickle\", \"rb\") as handle:\n",
    "            img_VS = pickle.load(handle)\n",
    "        stim_dict = vis_stim_structure.create_stim_dict(\n",
    "            depth_list=depth_list, img_VS=img_VS, choose_trials=None\n",
    "        )\n",
    "        # Trim stim_dict before appending     \n",
    "        min_trial_num = find_min_trial_num_all_depths(stim_dict=stim_dict, depth_list=depth_list, isStim=True)\n",
    "        stim_dict = vis_stim_structure.create_stim_dict(\n",
    "            depth_list=depth_list, img_VS=img_VS, choose_trials=min_trial_num \n",
    "        )\n",
    "        with open(protocol_folder/\"stim_dict.pickle\", \"wb\") as handle:\n",
    "            pickle.dump(stim_dict, handle, protocol=pickle.HIGHEST_PROTOCOL)\n",
    "\n",
    "            \n",
    "        # Append all img_VS, stim_dict and dffs_ast together of all recordings\n",
    "        if irecording == 0:\n",
    "            img_VS_all = img_VS.copy()\n",
    "            stim_dict_all = stim_dict.copy()\n",
    "            dffs_all = dffs_ast.copy()\n",
    "            previous_frame_num = 0\n",
    "        else:\n",
    "            with open(session_protocol_folder/\"plane0/img_VS_all.pickle\", \"rb\") as handle:\n",
    "                img_VS_all = pickle.load(handle)\n",
    "            with open(session_protocol_folder/\"plane0/stim_dict_all.pickle\", \"rb\") as handle:\n",
    "                stim_dict_all = pickle.load(handle)\n",
    "            dffs_all = np.load(session_protocol_folder/\"plane0/dffs_ast_all.npy\")\n",
    "                \n",
    "            previous_frame_num = len(img_VS_all)\n",
    "        \n",
    "            img_VS.ImagingFrame = img_VS.ImagingFrame+previous_frame_num\n",
    "            img_VS_all = img_VS_all.append(img_VS, ignore_index=True)\n",
    "            \n",
    "            stim_dict_append = {}\n",
    "            for key in stim_dict.keys():\n",
    "                stim_dict_append[key] = {}\n",
    "                stim_dict_append[key]['start'] = stim_dict[key]['start'] + previous_frame_num\n",
    "                stim_dict_append[key]['stop'] = stim_dict[key]['stop'] + previous_frame_num\n",
    "                stim_dict_all[key]['start'] = np.append(stim_dict_all[key]['start'],stim_dict_append[key]['start'])\n",
    "                stim_dict_all[key]['stop'] = np.append(stim_dict_all[key]['stop'],stim_dict_append[key]['stop'])\n",
    "            stim_dict_all['stim_all']['depth'] =  np.append(stim_dict_all['stim_all']['depth'], stim_dict['stim_all']['depth'])\n",
    "            \n",
    "            dffs_all = np.append(dffs_all, dffs_ast, axis=1)\n",
    "        \n",
    "        with open(session_protocol_folder/\"plane0/img_VS_all.pickle\", \"wb\") as handle:\n",
    "            pickle.dump(img_VS_all, handle, protocol=pickle.HIGHEST_PROTOCOL)\n",
    "            \n",
    "        with open(session_protocol_folder/\"plane0/stim_dict_all.pickle\", \"wb\") as handle:\n",
    "            pickle.dump(stim_dict_all, handle, protocol=pickle.HIGHEST_PROTOCOL)\n",
    "        \n",
    "        np.save(session_protocol_folder/\"plane0/dffs_ast_all.npy\",dffs_all)\n",
    "        print(\"---STEP 4 FINISHED.---\", \"\\n\", flush=True)\n",
    "    print(\"---All recordings concatenated and saved.---\", \"\\n\", flush=True)\n",
    "        \n",
    "\n",
    "            \n",
    "    "
   ]
  },
  {
   "cell_type": "code",
   "execution_count": 66,
   "metadata": {},
   "outputs": [
    {
     "name": "stderr",
     "output_type": "stream",
     "text": [
      "/camp/home/hey2/.conda/envs/2p_analysis_cottage/lib/python3.9/site-packages/ipykernel/ipkernel.py:287: DeprecationWarning: `should_run_async` will not call `transform_cell` automatically in the future. Please pass the result to `transformed_cell` argument and any exception that happen during thetransform in `preprocessing_exc_tuple` in IPython 7.17 and above.\n",
      "  and should_run_async(code)\n"
     ]
    },
    {
     "name": "stdout",
     "output_type": "stream",
     "text": [
      "ERROR: FRAME NUMBER NOT CORRECT!!!\n"
     ]
    },
    {
     "name": "stderr",
     "output_type": "stream",
     "text": [
      "/camp/home/hey2/.conda/envs/2p_analysis_cottage/lib/python3.9/site-packages/pandas/core/indexing.py:1732: SettingWithCopyWarning: \n",
      "A value is trying to be set on a copy of a slice from a DataFrame\n",
      "\n",
      "See the caveats in the documentation: https://pandas.pydata.org/pandas-docs/stable/user_guide/indexing.html#returning-a-view-versus-a-copy\n",
      "  self._setitem_single_block(indexer, value, name)\n"
     ]
    },
    {
     "data": {
      "text/html": [
       "<div>\n",
       "<style scoped>\n",
       "    .dataframe tbody tr th:only-of-type {\n",
       "        vertical-align: middle;\n",
       "    }\n",
       "\n",
       "    .dataframe tbody tr th {\n",
       "        vertical-align: top;\n",
       "    }\n",
       "\n",
       "    .dataframe thead th {\n",
       "        text-align: right;\n",
       "    }\n",
       "</style>\n",
       "<table border=\"1\" class=\"dataframe\">\n",
       "  <thead>\n",
       "    <tr style=\"text-align: right;\">\n",
       "      <th></th>\n",
       "      <th>HarpTime</th>\n",
       "      <th>FrameTriggers</th>\n",
       "      <th>ImagingFrame</th>\n",
       "    </tr>\n",
       "  </thead>\n",
       "  <tbody>\n",
       "    <tr>\n",
       "      <th>3</th>\n",
       "      <td>2.091866e+06</td>\n",
       "      <td>0</td>\n",
       "      <td>0</td>\n",
       "    </tr>\n",
       "    <tr>\n",
       "      <th>5</th>\n",
       "      <td>2.091866e+06</td>\n",
       "      <td>0</td>\n",
       "      <td>1</td>\n",
       "    </tr>\n",
       "    <tr>\n",
       "      <th>7</th>\n",
       "      <td>2.091866e+06</td>\n",
       "      <td>0</td>\n",
       "      <td>2</td>\n",
       "    </tr>\n",
       "    <tr>\n",
       "      <th>9</th>\n",
       "      <td>2.091867e+06</td>\n",
       "      <td>0</td>\n",
       "      <td>3</td>\n",
       "    </tr>\n",
       "    <tr>\n",
       "      <th>11</th>\n",
       "      <td>2.091867e+06</td>\n",
       "      <td>0</td>\n",
       "      <td>4</td>\n",
       "    </tr>\n",
       "    <tr>\n",
       "      <th>...</th>\n",
       "      <td>...</td>\n",
       "      <td>...</td>\n",
       "      <td>...</td>\n",
       "    </tr>\n",
       "    <tr>\n",
       "      <th>157913</th>\n",
       "      <td>2.096898e+06</td>\n",
       "      <td>0</td>\n",
       "      <td>73021</td>\n",
       "    </tr>\n",
       "    <tr>\n",
       "      <th>157915</th>\n",
       "      <td>2.096898e+06</td>\n",
       "      <td>0</td>\n",
       "      <td>73022</td>\n",
       "    </tr>\n",
       "    <tr>\n",
       "      <th>157917</th>\n",
       "      <td>2.096898e+06</td>\n",
       "      <td>0</td>\n",
       "      <td>73023</td>\n",
       "    </tr>\n",
       "    <tr>\n",
       "      <th>157919</th>\n",
       "      <td>2.096898e+06</td>\n",
       "      <td>0</td>\n",
       "      <td>73024</td>\n",
       "    </tr>\n",
       "    <tr>\n",
       "      <th>157921</th>\n",
       "      <td>2.096898e+06</td>\n",
       "      <td>0</td>\n",
       "      <td>73025</td>\n",
       "    </tr>\n",
       "  </tbody>\n",
       "</table>\n",
       "<p>73026 rows × 3 columns</p>\n",
       "</div>"
      ],
      "text/plain": [
       "            HarpTime  FrameTriggers  ImagingFrame\n",
       "3       2.091866e+06              0             0\n",
       "5       2.091866e+06              0             1\n",
       "7       2.091866e+06              0             2\n",
       "9       2.091867e+06              0             3\n",
       "11      2.091867e+06              0             4\n",
       "...              ...            ...           ...\n",
       "157913  2.096898e+06              0         73021\n",
       "157915  2.096898e+06              0         73022\n",
       "157917  2.096898e+06              0         73023\n",
       "157919  2.096898e+06              0         73024\n",
       "157921  2.096898e+06              0         73025\n",
       "\n",
       "[73026 rows x 3 columns]"
      ]
     },
     "execution_count": 66,
     "metadata": {},
     "output_type": "execute_result"
    }
   ],
   "source": [
    "trace_folder = Path(\"/camp/lab/znamenskiyp/home/shared/projects/hey2_3d-vision_foodres_20220101/PZAH8.2f/S20230213/R135957_SpheresPermTubeReward/SpheresPermTubeReward_suite2p_traces_0/\")\n",
    "p_msg = trace_folder/\"harpmessage.npz\"\n",
    "if p_msg.is_file():\n",
    "    harp_messages = np.load(p_msg)\n",
    "    \n",
    "harp_messages_frametriggers = pd.DataFrame(columns=['Timestamp','FrameTriggers'])\n",
    "harp_messages_frametriggers['Timestamp'] = harp_messages['digital_time']\n",
    "harp_messages_frametriggers['FrameTriggers'] = harp_messages['lick_detection']\n",
    "harp_messages_frametriggers['RegisterAddress']=32\n",
    "\n",
    "img_frame_logger = find_frames.find_imaging_frames(\n",
    "    harp_message=harp_messages_frametriggers,\n",
    "    frame_number=30788,\n",
    "    exposure_time=0.0324 * 2,\n",
    "    register_address=32,\n",
    "    exposure_time_tolerance=0.001,\n",
    ")\n",
    "img_frame_logger"
   ]
  },
  {
   "cell_type": "code",
   "execution_count": 31,
   "metadata": {},
   "outputs": [
    {
     "name": "stderr",
     "output_type": "stream",
     "text": [
      "/camp/home/hey2/.conda/envs/2p_analysis_cottage/lib/python3.9/site-packages/ipykernel/ipkernel.py:287: DeprecationWarning: `should_run_async` will not call `transform_cell` automatically in the future. Please pass the result to `transformed_cell` argument and any exception that happen during thetransform in `preprocessing_exc_tuple` in IPython 7.17 and above.\n",
      "  and should_run_async(code)\n"
     ]
    },
    {
     "data": {
      "text/plain": [
       "(2091826.843424, 2091826.7714)"
      ]
     },
     "execution_count": 31,
     "metadata": {},
     "output_type": "execute_result"
    }
   ],
   "source": [
    "harp_messages['digital_time'][-1], img_frame_logger_csv['HarpTime'].iloc[-1]"
   ]
  },
  {
   "cell_type": "code",
   "execution_count": 37,
   "metadata": {},
   "outputs": [
    {
     "name": "stderr",
     "output_type": "stream",
     "text": [
      "/camp/home/hey2/.conda/envs/2p_analysis_cottage/lib/python3.9/site-packages/ipykernel/ipkernel.py:287: DeprecationWarning: `should_run_async` will not call `transform_cell` automatically in the future. Please pass the result to `transformed_cell` argument and any exception that happen during thetransform in `preprocessing_exc_tuple` in IPython 7.17 and above.\n",
      "  and should_run_async(code)\n"
     ]
    },
    {
     "data": {
      "text/plain": [
       "0.648"
      ]
     },
     "execution_count": 37,
     "metadata": {},
     "output_type": "execute_result"
    }
   ],
   "source": [
    "0.324*2"
   ]
  },
  {
   "cell_type": "code",
   "execution_count": 40,
   "metadata": {},
   "outputs": [
    {
     "name": "stderr",
     "output_type": "stream",
     "text": [
      "/camp/home/hey2/.conda/envs/2p_analysis_cottage/lib/python3.9/site-packages/ipykernel/ipkernel.py:287: DeprecationWarning: `should_run_async` will not call `transform_cell` automatically in the future. Please pass the result to `transformed_cell` argument and any exception that happen during thetransform in `preprocessing_exc_tuple` in IPython 7.17 and above.\n",
      "  and should_run_async(code)\n"
     ]
    },
    {
     "data": {
      "text/plain": [
       "[<matplotlib.lines.Line2D at 0x7f80c5a7fe80>]"
      ]
     },
     "execution_count": 40,
     "metadata": {},
     "output_type": "execute_result"
    },
    {
     "data": {
      "image/png": "[encoded data removed]",
      "text/plain": [
       "<Figure size 432x288 with 1 Axes>"
      ]
     },
     "metadata": {
      "needs_background": "light"
     },
     "output_type": "display_data"
    }
   ],
   "source": [
    "plt.plot(np.diff(harp_messages['digital_time'])[2:][-100:])"
   ]
  },
  {
   "cell_type": "code",
   "execution_count": 56,
   "metadata": {},
   "outputs": [
    {
     "name": "stderr",
     "output_type": "stream",
     "text": [
      "/camp/home/hey2/.conda/envs/2p_analysis_cottage/lib/python3.9/site-packages/ipykernel/ipkernel.py:287: DeprecationWarning: `should_run_async` will not call `transform_cell` automatically in the future. Please pass the result to `transformed_cell` argument and any exception that happen during thetransform in `preprocessing_exc_tuple` in IPython 7.17 and above.\n",
      "  and should_run_async(code)\n"
     ]
    },
    {
     "data": {
      "text/plain": [
       "(array([  907,   908,   909,   910,   911,   912,   913,   914,   915,\n",
       "          917,   918,  1442,  1444,  1445,  1446,  1447,  1448,  1449,\n",
       "         1450,  1451,  1596,  1601,  1688,  1705,  1714,  1727,  1728,\n",
       "         1729,  1731,  1732,  1734,  1735,  1736,  1737,  1738,  1739,\n",
       "         1740,  1742,  1744,  1745,  1746,  1747,  1755,  1757,  1763,\n",
       "         1766,  1771,  1774,  1775,  1781,  1783,  1785,  1791,  1794,\n",
       "         1796,  1799,  1806,  1814,  1825,  1826,  1874,  1879,  1881,\n",
       "         1886,  1914,  1953,  1962,  1964,  2031,  2183,  2190,  2447,\n",
       "         2448,  2450,  2451,  2457,  2460,  2550,  2552,  2553,  2555,\n",
       "         2609,  2619,  2620,  2621,  2642,  2643,  2644,  2645,  2646,\n",
       "         2719,  2723,  2728,  2732,  2741,  2744,  2752,  2753,  2903,\n",
       "         2907,  2909,  2910,  2918,  2920,  2926,  2943,  2947,  2969,\n",
       "         2979,  3007,  3272,  3274,  3275,  3284,  3285,  3287,  3288,\n",
       "         3290,  3293,  3296,  3357,  3358,  3373,  3639,  3643,  3648,\n",
       "         3650,  3651,  3767,  3780,  3781,  3909,  3910,  3985,  3994,\n",
       "         3995,  4002,  4019,  4020,  4021,  4022,  4023,  4024,  4025,\n",
       "         4026,  4081,  4393,  4395,  4401,  4402,  4431,  4432,  4433,\n",
       "         4435,  4437,  4587,  4588,  4589,  4597,  4598,  4601,  4603,\n",
       "         4604,  5009,  5011,  5012,  5015,  5016,  5017,  5018,  5019,\n",
       "         5020,  5021,  5122,  5125,  5127,  5128,  5129,  5131,  5150,\n",
       "         5151,  5154,  5161,  5164,  5165,  5166,  5167,  5168,  5169,\n",
       "         5170,  5171,  5172,  5173,  5178,  5181,  5182,  5183,  5184,\n",
       "         5187,  5189,  5193,  5195,  5196,  5198,  5199,  5205,  5208,\n",
       "         5210,  5214,  5218,  5221,  5227,  5228,  5231,  5234,  5238,\n",
       "         5241,  5242,  5246,  5260,  5263,  5264,  5268,  5272,  5273,\n",
       "         5282,  5283,  5290,  5296,  5297,  5308,  5313,  5314,  5315,\n",
       "         5316,  5320,  5323,  5325,  5326,  5327,  5332,  5334,  5336,\n",
       "         5373,  5374,  5382,  5384,  5388,  5416,  5417,  5439,  5449,\n",
       "         5490,  5494,  5502,  5503,  5506,  5509,  5522,  5523,  5524,\n",
       "         5526,  5541,  5542,  5549,  5550,  5552,  5555,  5558,  5561,\n",
       "         5564,  5570,  5573,  5574,  5591,  5600,  5605,  5608,  5614,\n",
       "         5626,  5631,  5647,  5655,  5656,  5660,  5662,  5686,  5688,\n",
       "         5743,  5744,  5754,  5801,  5814,  5815,  5816,  5842,  5843,\n",
       "         5844,  5849,  5950,  6079,  6082,  6083,  6086,  6087,  6314,\n",
       "         6315,  6317,  6318,  6319,  6320,  6321,  6322,  6323,  6326,\n",
       "         6635,  6636,  6637,  6639,  6642,  6775,  6776,  6778,  6781,\n",
       "         6783,  6784,  6785,  6786,  6787,  6788,  6789,  6790,  6791,\n",
       "         6792,  6794,  6818,  7141,  7142,  7144,  7145,  7146,  7147,\n",
       "         7148,  7149,  7150,  7151,  7372,  7373,  7374,  7375,  7379,\n",
       "         7382,  7521,  7522,  7524,  7585,  7586,  7590,  7591,  7592,\n",
       "         7594,  7595,  7596,  7597,  7598,  7599,  7600,  7987,  7988,\n",
       "         7992,  8065,  8068,  8072,  8077,  8078,  8079,  8080,  8081,\n",
       "         8082,  8083,  8085,  8086,  8408,  8409,  8410,  8411,  8412,\n",
       "         8415,  8470,  8471,  8472,  8473,  8474,  8475,  8476,  8478,\n",
       "         8540,  8553,  8593,  8595,  8622,  8623,  8624,  8625,  8627,\n",
       "         8628,  8630,  8915,  8917,  9148,  9150,  9151,  9152,  9153,\n",
       "         9154,  9155,  9156,  9157,  9158,  9159,  9160,  9581,  9582,\n",
       "         9583,  9584, 10056, 10059, 10061, 10062, 10063, 10064, 10066,\n",
       "        10067, 10544, 10548, 10683, 10685, 10686, 10687, 10971, 11155,\n",
       "        11157, 11158, 11159, 11160, 11161, 11652, 11656, 11657, 11658,\n",
       "        11659, 11660, 11661, 11976, 11977, 11978, 11979, 11980, 11981,\n",
       "        11982, 12377, 12378, 12379, 12380, 12381, 12382, 12383, 12384,\n",
       "        12385, 13626, 13628, 13630, 13632, 13634, 13635, 13636, 13970,\n",
       "        13972, 13973, 13974, 13975, 14170, 14172, 14173, 14174, 14176,\n",
       "        14177, 14178, 14179, 14180, 14181, 14182, 14183, 14902, 14904,\n",
       "        14905, 14907, 14910, 14911, 14912, 15411, 15412, 15413, 15414,\n",
       "        15415, 15416, 15417, 15945, 15946, 15947, 15948, 15949, 15950,\n",
       "        16443, 16444, 16445, 16446, 16447, 16448, 16449, 16450, 16451,\n",
       "        16454, 17167, 17171, 17605, 17606, 17607, 17608, 17609, 17610,\n",
       "        17612, 17624, 17625, 17832, 17833, 17834, 17836, 17837, 17838,\n",
       "        18299, 18300, 18301, 18302, 18303, 18304, 18305, 18306, 18307,\n",
       "        18308, 18309, 18866, 18867, 18868, 18869, 18871, 19321, 19322,\n",
       "        19323, 19325, 19326, 19327, 19964, 19965, 19966, 19967, 19968,\n",
       "        19969, 19970, 19971, 19972, 19977, 20282, 20283, 20850, 21345,\n",
       "        21348, 21517, 21526, 21530, 21552, 22195, 22621, 22628, 22629,\n",
       "        22631, 22632, 22633, 22634, 22635, 22636, 22696, 22701, 22703,\n",
       "        22710, 22719, 22720, 22722, 22726, 22729, 22741, 22742, 22749,\n",
       "        22750, 22751, 22752, 22755, 22756, 22757, 22758, 22759, 22760,\n",
       "        22762, 22764, 22765, 22766, 22767, 22768, 22772, 22776, 22777,\n",
       "        22779, 22781, 22782, 22785, 22787, 22793, 22794, 22796, 22797,\n",
       "        22798, 22800, 22803, 22807, 22810, 22811, 22813, 22816, 22819,\n",
       "        22820, 22821, 22822, 22823, 22824, 22827, 22828, 22829, 22830,\n",
       "        22831, 22832, 22834, 22847, 22852, 22857, 22858, 22859, 22867,\n",
       "        22868, 22869, 22873, 22881, 22888, 22915, 22916, 22917, 22918,\n",
       "        22920, 22921, 22923, 22925, 22926, 22927, 22930, 22932, 22939,\n",
       "        22942, 22943, 22951, 22952, 22953, 22970, 22973, 23001, 23003,\n",
       "        23004, 23015, 23016, 23019, 23042, 23044, 23050, 23058, 23064,\n",
       "        23169, 23172, 23174, 23175, 23226, 23227, 23244, 23247, 23254,\n",
       "        23256, 23325, 23330, 23384, 23390, 23393, 23395, 23664, 24067,\n",
       "        24072, 24074, 24076, 24110, 24111, 24113, 24114, 24115, 24116,\n",
       "        24117, 24118, 24119, 24120, 24122, 24126, 25116, 25117, 25118,\n",
       "        25119, 25120, 25121, 25122, 25123, 25124, 25125, 25126, 25127,\n",
       "        25506, 25507, 25508, 25509, 25510, 25636, 25926, 25928, 25930,\n",
       "        25932, 25934, 25935, 25936, 25937, 25938, 25939, 25940, 25941,\n",
       "        26747, 26748, 26749, 26750, 26751, 26752, 26753, 26754, 26755,\n",
       "        26756, 26757, 27252, 27253, 27255, 27256, 27258, 27259, 27260,\n",
       "        27261, 27262, 27263, 27264, 27265, 27266, 27778, 27782, 27783,\n",
       "        27784, 27785, 27786, 27787, 27788, 28193, 28194, 28195, 28197,\n",
       "        28198, 28199, 28200, 28201, 28202, 28203, 28204, 28205, 28734,\n",
       "        28736, 28744, 28751, 28753, 29381, 29382, 29383, 29384, 29385,\n",
       "        29386, 29387, 29388, 29389, 29390, 29391]),)"
      ]
     },
     "execution_count": 56,
     "metadata": {},
     "output_type": "execute_result"
    }
   ],
   "source": [
    "harptime_diff = np.diff(harp_messages['digital_time'])\n",
    "frame_diff = np.diff(np.where(harptime_diff>0.06)[0])\n",
    "np.where(frame_diff>2)"
   ]
  },
  {
   "cell_type": "code",
   "execution_count": null,
   "metadata": {},
   "outputs": [],
   "source": [
    "plt.plot(harptime_diff)"
   ]
  },
  {
   "cell_type": "code",
   "execution_count": 62,
   "metadata": {},
   "outputs": [
    {
     "name": "stderr",
     "output_type": "stream",
     "text": [
      "/camp/home/hey2/.conda/envs/2p_analysis_cottage/lib/python3.9/site-packages/ipykernel/ipkernel.py:287: DeprecationWarning: `should_run_async` will not call `transform_cell` automatically in the future. Please pass the result to `transformed_cell` argument and any exception that happen during thetransform in `preprocessing_exc_tuple` in IPython 7.17 and above.\n",
      "  and should_run_async(code)\n"
     ]
    },
    {
     "data": {
      "text/plain": [
       "29494"
      ]
     },
     "execution_count": 62,
     "metadata": {},
     "output_type": "execute_result"
    }
   ],
   "source": [
    "len(frame_diff)"
   ]
  },
  {
   "cell_type": "code",
   "execution_count": 61,
   "metadata": {},
   "outputs": [
    {
     "name": "stderr",
     "output_type": "stream",
     "text": [
      "/camp/home/hey2/.conda/envs/2p_analysis_cottage/lib/python3.9/site-packages/ipykernel/ipkernel.py:287: DeprecationWarning: `should_run_async` will not call `transform_cell` automatically in the future. Please pass the result to `transformed_cell` argument and any exception that happen during thetransform in `preprocessing_exc_tuple` in IPython 7.17 and above.\n",
      "  and should_run_async(code)\n"
     ]
    },
    {
     "data": {
      "text/plain": [
       "array([ 2,  2,  2,  6,  8,  6,  6,  6, 18,  6,  6,  6,  2,  6,  6,  2,  2,\n",
       "        2,  2,  2,  2,  2,  2,  2,  2,  2])"
      ]
     },
     "execution_count": 61,
     "metadata": {},
     "output_type": "execute_result"
    }
   ],
   "source": [
    "frame_diff[904:930]"
   ]
  },
  {
   "cell_type": "code",
   "execution_count": 57,
   "metadata": {},
   "outputs": [
    {
     "name": "stderr",
     "output_type": "stream",
     "text": [
      "/camp/home/hey2/.conda/envs/2p_analysis_cottage/lib/python3.9/site-packages/ipykernel/ipkernel.py:287: DeprecationWarning: `should_run_async` will not call `transform_cell` automatically in the future. Please pass the result to `transformed_cell` argument and any exception that happen during thetransform in `preprocessing_exc_tuple` in IPython 7.17 and above.\n",
      "  and should_run_async(code)\n"
     ]
    },
    {
     "data": {
      "text/plain": [
       "array([0.001024, 0.064768, 0.001024, 0.064768, 0.001024, 0.064736,\n",
       "       0.001024, 0.064736, 0.001024, 0.064768, 0.001024, 0.064736,\n",
       "       0.001056])"
      ]
     },
     "execution_count": 57,
     "metadata": {},
     "output_type": "execute_result"
    }
   ],
   "source": [
    "harptime_diff[907:920]"
   ]
  },
  {
   "cell_type": "code",
   "execution_count": 52,
   "metadata": {},
   "outputs": [
    {
     "name": "stderr",
     "output_type": "stream",
     "text": [
      "/camp/home/hey2/.conda/envs/2p_analysis_cottage/lib/python3.9/site-packages/ipykernel/ipkernel.py:287: DeprecationWarning: `should_run_async` will not call `transform_cell` automatically in the future. Please pass the result to `transformed_cell` argument and any exception that happen during thetransform in `preprocessing_exc_tuple` in IPython 7.17 and above.\n",
      "  and should_run_async(code)\n"
     ]
    },
    {
     "data": {
      "text/plain": [
       "array([0.006752, 0.41056 , 0.064736, 0.001056, 0.064736, 0.001024,\n",
       "       0.064736, 0.001056, 0.064736, 0.001024, 0.064736, 0.001056,\n",
       "       0.064736, 0.001024, 0.064768, 0.001024, 0.064736, 0.001024,\n",
       "       0.064736, 0.001056, 0.064736, 0.001024, 0.064768, 0.001024,\n",
       "       0.064736, 0.001024, 0.064736, 0.001056, 0.064736, 0.001024,\n",
       "       0.064736, 0.001056, 0.064768, 0.001024, 0.064704, 0.001056,\n",
       "       0.064736, 0.001024, 0.064736, 0.001056, 0.064736, 0.001024,\n",
       "       0.064736, 0.001056, 0.064736, 0.001024, 0.064736, 0.001056,\n",
       "       0.064736, 0.001024])"
      ]
     },
     "execution_count": 52,
     "metadata": {},
     "output_type": "execute_result"
    }
   ],
   "source": [
    "np.diff(harp_messages['digital_time'])[:50]"
   ]
  },
  {
   "cell_type": "code",
   "execution_count": 65,
   "metadata": {},
   "outputs": [
    {
     "name": "stderr",
     "output_type": "stream",
     "text": [
      "/camp/home/hey2/.conda/envs/2p_analysis_cottage/lib/python3.9/site-packages/ipykernel/ipkernel.py:287: DeprecationWarning: `should_run_async` will not call `transform_cell` automatically in the future. Please pass the result to `transformed_cell` argument and any exception that happen during thetransform in `preprocessing_exc_tuple` in IPython 7.17 and above.\n",
      "  and should_run_async(code)\n"
     ]
    },
    {
     "name": "stdout",
     "output_type": "stream",
     "text": [
      "ERROR: FRAME NUMBER NOT CORRECT!!!\n"
     ]
    },
    {
     "name": "stderr",
     "output_type": "stream",
     "text": [
      "/camp/home/hey2/.conda/envs/2p_analysis_cottage/lib/python3.9/site-packages/pandas/core/frame.py:5039: SettingWithCopyWarning: \n",
      "A value is trying to be set on a copy of a slice from a DataFrame\n",
      "\n",
      "See the caveats in the documentation: https://pandas.pydata.org/pandas-docs/stable/user_guide/indexing.html#returning-a-view-versus-a-copy\n",
      "  return super().rename(\n",
      "/camp/home/hey2/.conda/envs/2p_analysis_cottage/lib/python3.9/site-packages/pandas/core/indexing.py:1732: SettingWithCopyWarning: \n",
      "A value is trying to be set on a copy of a slice from a DataFrame\n",
      "\n",
      "See the caveats in the documentation: https://pandas.pydata.org/pandas-docs/stable/user_guide/indexing.html#returning-a-view-versus-a-copy\n",
      "  self._setitem_single_block(indexer, value, name)\n"
     ]
    },
    {
     "data": {
      "text/html": [
       "<div>\n",
       "<style scoped>\n",
       "    .dataframe tbody tr th:only-of-type {\n",
       "        vertical-align: middle;\n",
       "    }\n",
       "\n",
       "    .dataframe tbody tr th {\n",
       "        vertical-align: top;\n",
       "    }\n",
       "\n",
       "    .dataframe thead th {\n",
       "        text-align: right;\n",
       "    }\n",
       "</style>\n",
       "<table border=\"1\" class=\"dataframe\">\n",
       "  <thead>\n",
       "    <tr style=\"text-align: right;\">\n",
       "      <th></th>\n",
       "      <th>HarpTime</th>\n",
       "      <th>DataElement0</th>\n",
       "      <th>Port0</th>\n",
       "      <th>Port1</th>\n",
       "      <th>Port2</th>\n",
       "      <th>Port3</th>\n",
       "      <th>Port4</th>\n",
       "      <th>Port5</th>\n",
       "      <th>Port6</th>\n",
       "      <th>Port7</th>\n",
       "      <th>ImagingFrame</th>\n",
       "    </tr>\n",
       "  </thead>\n",
       "  <tbody>\n",
       "    <tr>\n",
       "      <th>8552</th>\n",
       "      <td>2.091866e+06</td>\n",
       "      <td>4</td>\n",
       "      <td>0</td>\n",
       "      <td>0</td>\n",
       "      <td>1</td>\n",
       "      <td>0</td>\n",
       "      <td>0</td>\n",
       "      <td>0</td>\n",
       "      <td>0</td>\n",
       "      <td>0</td>\n",
       "      <td>0</td>\n",
       "    </tr>\n",
       "    <tr>\n",
       "      <th>8620</th>\n",
       "      <td>2.091866e+06</td>\n",
       "      <td>4</td>\n",
       "      <td>0</td>\n",
       "      <td>0</td>\n",
       "      <td>1</td>\n",
       "      <td>0</td>\n",
       "      <td>0</td>\n",
       "      <td>0</td>\n",
       "      <td>0</td>\n",
       "      <td>0</td>\n",
       "      <td>1</td>\n",
       "    </tr>\n",
       "    <tr>\n",
       "      <th>8688</th>\n",
       "      <td>2.091866e+06</td>\n",
       "      <td>4</td>\n",
       "      <td>0</td>\n",
       "      <td>0</td>\n",
       "      <td>1</td>\n",
       "      <td>0</td>\n",
       "      <td>0</td>\n",
       "      <td>0</td>\n",
       "      <td>0</td>\n",
       "      <td>0</td>\n",
       "      <td>2</td>\n",
       "    </tr>\n",
       "    <tr>\n",
       "      <th>8756</th>\n",
       "      <td>2.091867e+06</td>\n",
       "      <td>4</td>\n",
       "      <td>0</td>\n",
       "      <td>0</td>\n",
       "      <td>1</td>\n",
       "      <td>0</td>\n",
       "      <td>0</td>\n",
       "      <td>0</td>\n",
       "      <td>0</td>\n",
       "      <td>0</td>\n",
       "      <td>3</td>\n",
       "    </tr>\n",
       "    <tr>\n",
       "      <th>8823</th>\n",
       "      <td>2.091867e+06</td>\n",
       "      <td>4</td>\n",
       "      <td>0</td>\n",
       "      <td>0</td>\n",
       "      <td>1</td>\n",
       "      <td>0</td>\n",
       "      <td>0</td>\n",
       "      <td>0</td>\n",
       "      <td>0</td>\n",
       "      <td>0</td>\n",
       "      <td>4</td>\n",
       "    </tr>\n",
       "    <tr>\n",
       "      <th>...</th>\n",
       "      <td>...</td>\n",
       "      <td>...</td>\n",
       "      <td>...</td>\n",
       "      <td>...</td>\n",
       "      <td>...</td>\n",
       "      <td>...</td>\n",
       "      <td>...</td>\n",
       "      <td>...</td>\n",
       "      <td>...</td>\n",
       "      <td>...</td>\n",
       "      <td>...</td>\n",
       "    </tr>\n",
       "    <tr>\n",
       "      <th>5198016</th>\n",
       "      <td>2.096898e+06</td>\n",
       "      <td>4</td>\n",
       "      <td>0</td>\n",
       "      <td>0</td>\n",
       "      <td>1</td>\n",
       "      <td>0</td>\n",
       "      <td>0</td>\n",
       "      <td>0</td>\n",
       "      <td>0</td>\n",
       "      <td>0</td>\n",
       "      <td>76478</td>\n",
       "    </tr>\n",
       "    <tr>\n",
       "      <th>5198084</th>\n",
       "      <td>2.096898e+06</td>\n",
       "      <td>4</td>\n",
       "      <td>0</td>\n",
       "      <td>0</td>\n",
       "      <td>1</td>\n",
       "      <td>0</td>\n",
       "      <td>0</td>\n",
       "      <td>0</td>\n",
       "      <td>0</td>\n",
       "      <td>0</td>\n",
       "      <td>76479</td>\n",
       "    </tr>\n",
       "    <tr>\n",
       "      <th>5198152</th>\n",
       "      <td>2.096898e+06</td>\n",
       "      <td>4</td>\n",
       "      <td>0</td>\n",
       "      <td>0</td>\n",
       "      <td>1</td>\n",
       "      <td>0</td>\n",
       "      <td>0</td>\n",
       "      <td>0</td>\n",
       "      <td>0</td>\n",
       "      <td>0</td>\n",
       "      <td>76480</td>\n",
       "    </tr>\n",
       "    <tr>\n",
       "      <th>5198220</th>\n",
       "      <td>2.096898e+06</td>\n",
       "      <td>4</td>\n",
       "      <td>0</td>\n",
       "      <td>0</td>\n",
       "      <td>1</td>\n",
       "      <td>0</td>\n",
       "      <td>0</td>\n",
       "      <td>0</td>\n",
       "      <td>0</td>\n",
       "      <td>0</td>\n",
       "      <td>76481</td>\n",
       "    </tr>\n",
       "    <tr>\n",
       "      <th>5198287</th>\n",
       "      <td>2.096898e+06</td>\n",
       "      <td>4</td>\n",
       "      <td>0</td>\n",
       "      <td>0</td>\n",
       "      <td>1</td>\n",
       "      <td>0</td>\n",
       "      <td>0</td>\n",
       "      <td>0</td>\n",
       "      <td>0</td>\n",
       "      <td>0</td>\n",
       "      <td>76482</td>\n",
       "    </tr>\n",
       "  </tbody>\n",
       "</table>\n",
       "<p>76483 rows × 11 columns</p>\n",
       "</div>"
      ],
      "text/plain": [
       "             HarpTime  DataElement0  Port0  Port1  Port2  Port3  Port4  Port5  \\\n",
       "8552     2.091866e+06             4      0      0      1      0      0      0   \n",
       "8620     2.091866e+06             4      0      0      1      0      0      0   \n",
       "8688     2.091866e+06             4      0      0      1      0      0      0   \n",
       "8756     2.091867e+06             4      0      0      1      0      0      0   \n",
       "8823     2.091867e+06             4      0      0      1      0      0      0   \n",
       "...               ...           ...    ...    ...    ...    ...    ...    ...   \n",
       "5198016  2.096898e+06             4      0      0      1      0      0      0   \n",
       "5198084  2.096898e+06             4      0      0      1      0      0      0   \n",
       "5198152  2.096898e+06             4      0      0      1      0      0      0   \n",
       "5198220  2.096898e+06             4      0      0      1      0      0      0   \n",
       "5198287  2.096898e+06             4      0      0      1      0      0      0   \n",
       "\n",
       "         Port6  Port7  ImagingFrame  \n",
       "8552         0      0             0  \n",
       "8620         0      0             1  \n",
       "8688         0      0             2  \n",
       "8756         0      0             3  \n",
       "8823         0      0             4  \n",
       "...        ...    ...           ...  \n",
       "5198016      0      0         76478  \n",
       "5198084      0      0         76479  \n",
       "5198152      0      0         76480  \n",
       "5198220      0      0         76481  \n",
       "5198287      0      0         76482  \n",
       "\n",
       "[76483 rows x 11 columns]"
      ]
     },
     "execution_count": 65,
     "metadata": {},
     "output_type": "execute_result"
    }
   ],
   "source": [
    "harp_messages_frame_csv= format_loggers.format_img_frame_logger(\n",
    "    '/camp/lab/znamenskiyp/data/instruments/raw_data/projects/hey2_3d-vision_foodres_20220101/PZAH8.2f/S20230213/R135957_SpheresPermTubeReward/harpmessage.csv', register_address=32\n",
    "        )\n",
    "img_frame_logger_csv = find_frames.find_imaging_frames(\n",
    "    harp_message=harp_messages_frame_csv,\n",
    "    frame_number=30788,\n",
    "    exposure_time=0.0324 * 2,\n",
    "    register_address=32,\n",
    "    exposure_time_tolerance=0.001,\n",
    ")\n",
    "img_frame_logger_csv"
   ]
  },
  {
   "cell_type": "code",
   "execution_count": 44,
   "metadata": {},
   "outputs": [
    {
     "name": "stderr",
     "output_type": "stream",
     "text": [
      "/camp/home/hey2/.conda/envs/2p_analysis_cottage/lib/python3.9/site-packages/ipykernel/ipkernel.py:287: DeprecationWarning: `should_run_async` will not call `transform_cell` automatically in the future. Please pass the result to `transformed_cell` argument and any exception that happen during thetransform in `preprocessing_exc_tuple` in IPython 7.17 and above.\n",
      "  and should_run_async(code)\n"
     ]
    },
    {
     "data": {
      "text/plain": [
       "(61583, 63677)"
      ]
     },
     "execution_count": 44,
     "metadata": {},
     "output_type": "execute_result"
    }
   ],
   "source": [
    "len(harp_messages_frame_csv.HarpTime.diff()), len(np.diff(harp_messages['digital_time']))"
   ]
  },
  {
   "cell_type": "code",
   "execution_count": 25,
   "metadata": {},
   "outputs": [
    {
     "name": "stderr",
     "output_type": "stream",
     "text": [
      "/camp/home/hey2/.conda/envs/2p_analysis_cottage/lib/python3.9/site-packages/ipykernel/ipkernel.py:287: DeprecationWarning: `should_run_async` will not call `transform_cell` automatically in the future. Please pass the result to `transformed_cell` argument and any exception that happen during thetransform in `preprocessing_exc_tuple` in IPython 7.17 and above.\n",
      "  and should_run_async(code)\n"
     ]
    },
    {
     "data": {
      "text/plain": [
       "[<matplotlib.lines.Line2D at 0x7f80c901c370>]"
      ]
     },
     "execution_count": 25,
     "metadata": {},
     "output_type": "execute_result"
    },
    {
     "data": {
      "image/png": "[encoded data removed]",
      "text/plain": [
       "<Figure size 432x288 with 1 Axes>"
      ]
     },
     "metadata": {
      "needs_background": "light"
     },
     "output_type": "display_data"
    }
   ],
   "source": [
    "plt.plot(np.array(img_frame_logger_csv['HarpTime'][:len(img_frame_logger['HarpTime'])]) - np.array(img_frame_logger['HarpTime']))"
   ]
  },
  {
   "cell_type": "code",
   "execution_count": 6,
   "metadata": {},
   "outputs": [
    {
     "name": "stderr",
     "output_type": "stream",
     "text": [
      "/camp/home/hey2/.conda/envs/2p_analysis_cottage/lib/python3.9/site-packages/ipykernel/ipkernel.py:287: DeprecationWarning: `should_run_async` will not call `transform_cell` automatically in the future. Please pass the result to `transformed_cell` argument and any exception that happen during thetransform in `preprocessing_exc_tuple` in IPython 7.17 and above.\n",
      "  and should_run_async(code)\n"
     ]
    }
   ],
   "source": [
    "harp_messages_frametriggers = pd.DataFrame(columns=['Timestamp','FrameTriggers'])\n",
    "harp_messages_frametriggers['Timestamp'] = harp_messages['digital_time']\n",
    "harp_messages_frametriggers['FrameTriggers'] = harp_messages['lick_detection']\n",
    "harp_messages_frametriggers['RegisterAddress']=32"
   ]
  },
  {
   "cell_type": "code",
   "execution_count": 14,
   "metadata": {},
   "outputs": [
    {
     "name": "stderr",
     "output_type": "stream",
     "text": [
      "/camp/home/hey2/.conda/envs/2p_analysis_cottage/lib/python3.9/site-packages/ipykernel/ipkernel.py:287: DeprecationWarning: `should_run_async` will not call `transform_cell` automatically in the future. Please pass the result to `transformed_cell` argument and any exception that happen during thetransform in `preprocessing_exc_tuple` in IPython 7.17 and above.\n",
      "  and should_run_async(code)\n"
     ]
    },
    {
     "data": {
      "text/plain": [
       "63678"
      ]
     },
     "execution_count": 14,
     "metadata": {},
     "output_type": "execute_result"
    }
   ],
   "source": [
    "len(harp_messages['digital_time'])"
   ]
  },
  {
   "cell_type": "code",
   "execution_count": 13,
   "metadata": {},
   "outputs": [
    {
     "name": "stderr",
     "output_type": "stream",
     "text": [
      "/camp/home/hey2/.conda/envs/2p_analysis_cottage/lib/python3.9/site-packages/ipykernel/ipkernel.py:287: DeprecationWarning: `should_run_async` will not call `transform_cell` automatically in the future. Please pass the result to `transformed_cell` argument and any exception that happen during thetransform in `preprocessing_exc_tuple` in IPython 7.17 and above.\n",
      "  and should_run_async(code)\n"
     ]
    },
    {
     "name": "stdout",
     "output_type": "stream",
     "text": [
      "ERROR: FRAME NUMBER NOT CORRECT!!!\n"
     ]
    },
    {
     "data": {
      "text/html": [
       "<div>\n",
       "<style scoped>\n",
       "    .dataframe tbody tr th:only-of-type {\n",
       "        vertical-align: middle;\n",
       "    }\n",
       "\n",
       "    .dataframe tbody tr th {\n",
       "        vertical-align: top;\n",
       "    }\n",
       "\n",
       "    .dataframe thead th {\n",
       "        text-align: right;\n",
       "    }\n",
       "</style>\n",
       "<table border=\"1\" class=\"dataframe\">\n",
       "  <thead>\n",
       "    <tr style=\"text-align: right;\">\n",
       "      <th></th>\n",
       "      <th>HarpTime</th>\n",
       "      <th>FrameTriggers</th>\n",
       "      <th>ImagingFrame</th>\n",
       "    </tr>\n",
       "  </thead>\n",
       "  <tbody>\n",
       "    <tr>\n",
       "      <th>3</th>\n",
       "      <td>2.089802e+06</td>\n",
       "      <td>0</td>\n",
       "      <td>0</td>\n",
       "    </tr>\n",
       "    <tr>\n",
       "      <th>5</th>\n",
       "      <td>2.089802e+06</td>\n",
       "      <td>0</td>\n",
       "      <td>1</td>\n",
       "    </tr>\n",
       "    <tr>\n",
       "      <th>7</th>\n",
       "      <td>2.089802e+06</td>\n",
       "      <td>0</td>\n",
       "      <td>2</td>\n",
       "    </tr>\n",
       "    <tr>\n",
       "      <th>9</th>\n",
       "      <td>2.089802e+06</td>\n",
       "      <td>0</td>\n",
       "      <td>3</td>\n",
       "    </tr>\n",
       "    <tr>\n",
       "      <th>11</th>\n",
       "      <td>2.089802e+06</td>\n",
       "      <td>0</td>\n",
       "      <td>4</td>\n",
       "    </tr>\n",
       "    <tr>\n",
       "      <th>...</th>\n",
       "      <td>...</td>\n",
       "      <td>...</td>\n",
       "      <td>...</td>\n",
       "    </tr>\n",
       "    <tr>\n",
       "      <th>63667</th>\n",
       "      <td>2.091827e+06</td>\n",
       "      <td>0</td>\n",
       "      <td>29375</td>\n",
       "    </tr>\n",
       "    <tr>\n",
       "      <th>63669</th>\n",
       "      <td>2.091827e+06</td>\n",
       "      <td>0</td>\n",
       "      <td>29376</td>\n",
       "    </tr>\n",
       "    <tr>\n",
       "      <th>63671</th>\n",
       "      <td>2.091827e+06</td>\n",
       "      <td>0</td>\n",
       "      <td>29377</td>\n",
       "    </tr>\n",
       "    <tr>\n",
       "      <th>63673</th>\n",
       "      <td>2.091827e+06</td>\n",
       "      <td>0</td>\n",
       "      <td>29378</td>\n",
       "    </tr>\n",
       "    <tr>\n",
       "      <th>63675</th>\n",
       "      <td>2.091827e+06</td>\n",
       "      <td>0</td>\n",
       "      <td>29379</td>\n",
       "    </tr>\n",
       "  </tbody>\n",
       "</table>\n",
       "<p>29380 rows × 3 columns</p>\n",
       "</div>"
      ],
      "text/plain": [
       "           HarpTime  FrameTriggers  ImagingFrame\n",
       "3      2.089802e+06              0             0\n",
       "5      2.089802e+06              0             1\n",
       "7      2.089802e+06              0             2\n",
       "9      2.089802e+06              0             3\n",
       "11     2.089802e+06              0             4\n",
       "...             ...            ...           ...\n",
       "63667  2.091827e+06              0         29375\n",
       "63669  2.091827e+06              0         29376\n",
       "63671  2.091827e+06              0         29377\n",
       "63673  2.091827e+06              0         29378\n",
       "63675  2.091827e+06              0         29379\n",
       "\n",
       "[29380 rows x 3 columns]"
      ]
     },
     "execution_count": 13,
     "metadata": {},
     "output_type": "execute_result"
    }
   ],
   "source": [
    "img_frame_logger = find_frames.find_imaging_frames(\n",
    "    harp_message=harp_messages_frametriggers,\n",
    "    frame_number=30788,\n",
    "    exposure_time=0.0324 * 2,\n",
    "    register_address=32,\n",
    "    exposure_time_tolerance=0.001,\n",
    ")\n",
    "img_frame_logger"
   ]
  },
  {
   "cell_type": "code",
   "execution_count": null,
   "metadata": {},
   "outputs": [],
   "source": []
  },
  {
   "cell_type": "code",
   "execution_count": 11,
   "metadata": {},
   "outputs": [
    {
     "name": "stderr",
     "output_type": "stream",
     "text": [
      "/camp/home/hey2/.conda/envs/2p_analysis_cottage/lib/python3.9/site-packages/ipykernel/ipkernel.py:287: DeprecationWarning: `should_run_async` will not call `transform_cell` automatically in the future. Please pass the result to `transformed_cell` argument and any exception that happen during thetransform in `preprocessing_exc_tuple` in IPython 7.17 and above.\n",
      "  and should_run_async(code)\n"
     ]
    },
    {
     "data": {
      "text/plain": [
       "(4985, 30788)"
      ]
     },
     "execution_count": 11,
     "metadata": {},
     "output_type": "execute_result"
    }
   ],
   "source": [
    "dffs_ast = np.load(trace_folder/'dffs_ast.npy')\n",
    "dffs_ast.shape"
   ]
  },
  {
   "cell_type": "code",
   "execution_count": 8,
   "metadata": {},
   "outputs": [
    {
     "name": "stderr",
     "output_type": "stream",
     "text": [
      "/camp/home/hey2/.conda/envs/2p_analysis_cottage/lib/python3.9/site-packages/ipykernel/ipkernel.py:287: DeprecationWarning: `should_run_async` will not call `transform_cell` automatically in the future. Please pass the result to `transformed_cell` argument and any exception that happen during thetransform in `preprocessing_exc_tuple` in IPython 7.17 and above.\n",
      "  and should_run_async(code)\n"
     ]
    },
    {
     "data": {
      "text/html": [
       "<div>\n",
       "<style scoped>\n",
       "    .dataframe tbody tr th:only-of-type {\n",
       "        vertical-align: middle;\n",
       "    }\n",
       "\n",
       "    .dataframe tbody tr th {\n",
       "        vertical-align: top;\n",
       "    }\n",
       "\n",
       "    .dataframe thead th {\n",
       "        text-align: right;\n",
       "    }\n",
       "</style>\n",
       "<table border=\"1\" class=\"dataframe\">\n",
       "  <thead>\n",
       "    <tr style=\"text-align: right;\">\n",
       "      <th></th>\n",
       "      <th>HarpTime</th>\n",
       "      <th>FrameTriggers</th>\n",
       "      <th>ImagingFrame</th>\n",
       "    </tr>\n",
       "  </thead>\n",
       "  <tbody>\n",
       "    <tr>\n",
       "      <th>3</th>\n",
       "      <td>2.089802e+06</td>\n",
       "      <td>0</td>\n",
       "      <td>0</td>\n",
       "    </tr>\n",
       "    <tr>\n",
       "      <th>5</th>\n",
       "      <td>2.089802e+06</td>\n",
       "      <td>0</td>\n",
       "      <td>1</td>\n",
       "    </tr>\n",
       "    <tr>\n",
       "      <th>7</th>\n",
       "      <td>2.089802e+06</td>\n",
       "      <td>0</td>\n",
       "      <td>2</td>\n",
       "    </tr>\n",
       "    <tr>\n",
       "      <th>9</th>\n",
       "      <td>2.089802e+06</td>\n",
       "      <td>0</td>\n",
       "      <td>3</td>\n",
       "    </tr>\n",
       "    <tr>\n",
       "      <th>11</th>\n",
       "      <td>2.089802e+06</td>\n",
       "      <td>0</td>\n",
       "      <td>4</td>\n",
       "    </tr>\n",
       "    <tr>\n",
       "      <th>...</th>\n",
       "      <td>...</td>\n",
       "      <td>...</td>\n",
       "      <td>...</td>\n",
       "    </tr>\n",
       "    <tr>\n",
       "      <th>63667</th>\n",
       "      <td>2.091827e+06</td>\n",
       "      <td>0</td>\n",
       "      <td>29375</td>\n",
       "    </tr>\n",
       "    <tr>\n",
       "      <th>63669</th>\n",
       "      <td>2.091827e+06</td>\n",
       "      <td>0</td>\n",
       "      <td>29376</td>\n",
       "    </tr>\n",
       "    <tr>\n",
       "      <th>63671</th>\n",
       "      <td>2.091827e+06</td>\n",
       "      <td>0</td>\n",
       "      <td>29377</td>\n",
       "    </tr>\n",
       "    <tr>\n",
       "      <th>63673</th>\n",
       "      <td>2.091827e+06</td>\n",
       "      <td>0</td>\n",
       "      <td>29378</td>\n",
       "    </tr>\n",
       "    <tr>\n",
       "      <th>63675</th>\n",
       "      <td>2.091827e+06</td>\n",
       "      <td>0</td>\n",
       "      <td>29379</td>\n",
       "    </tr>\n",
       "  </tbody>\n",
       "</table>\n",
       "<p>29380 rows × 3 columns</p>\n",
       "</div>"
      ],
      "text/plain": [
       "           HarpTime  FrameTriggers  ImagingFrame\n",
       "3      2.089802e+06              0             0\n",
       "5      2.089802e+06              0             1\n",
       "7      2.089802e+06              0             2\n",
       "9      2.089802e+06              0             3\n",
       "11     2.089802e+06              0             4\n",
       "...             ...            ...           ...\n",
       "63667  2.091827e+06              0         29375\n",
       "63669  2.091827e+06              0         29376\n",
       "63671  2.091827e+06              0         29377\n",
       "63673  2.091827e+06              0         29378\n",
       "63675  2.091827e+06              0         29379\n",
       "\n",
       "[29380 rows x 3 columns]"
      ]
     },
     "execution_count": 8,
     "metadata": {},
     "output_type": "execute_result"
    }
   ],
   "source": [
    "img_frame_logger"
   ]
  },
  {
   "cell_type": "code",
   "execution_count": 91,
   "metadata": {},
   "outputs": [
    {
     "name": "stderr",
     "output_type": "stream",
     "text": [
      "/camp/home/hey2/.conda/envs/2p_analysis_cottage/lib/python3.9/site-packages/ipykernel/ipkernel.py:287: DeprecationWarning: `should_run_async` will not call `transform_cell` automatically in the future. Please pass the result to `transformed_cell` argument and any exception that happen during thetransform in `preprocessing_exc_tuple` in IPython 7.17 and above.\n",
      "  and should_run_async(code)\n"
     ]
    },
    {
     "name": "stdout",
     "output_type": "stream",
     "text": [
      "---START STEP 5--- \n",
      " Find depth neurons...\n",
      "[5]\n",
      "Depth neurons and max depths saved.\n"
     ]
    }
   ],
   "source": [
    "# -----STEP5: Find depth neurons, save and Plot depth neuron spatial distribution-----\n",
    "# Depth neurons are calculated only based on the time where running speed exceeds a certain threshold (default 0.2 m/s)\n",
    "print(\"---START STEP 5---\", \"\\n\", \"Find depth neurons...\", flush=True)\n",
    "protocol = protocols[0]\n",
    "session_protocol_folder = root/project/mouse/session/protocol\n",
    "session_analysis_folder = root/project/mouse/'Analysis'/session/protocol\n",
    "if not os.path.exists(session_analysis_folder/'plane0/'):\n",
    "    os.makedirs(session_analysis_folder/'plane0/')\n",
    "assert('Playback' not in protocol)\n",
    "# Create an array for running speed (ndepth x ntrials x time)\n",
    "with open(session_protocol_folder/\"plane0/img_VS_all.pickle\", \"rb\") as handle:\n",
    "    img_VS_all = pickle.load(handle)\n",
    "with open(session_protocol_folder/\"plane0/stim_dict_all.pickle\", \"rb\") as handle:\n",
    "    stim_dict_all = pickle.load(handle)\n",
    "dffs_ast_all = np.load(session_protocol_folder/\"plane0/dffs_ast_all.npy\")\n",
    "        \n",
    "speeds = img_VS_all.MouseZ.diff() / img_VS_all.HarpTime.diff()  # m/s\n",
    "speeds[0] = 0\n",
    "# speed_thr = 0.01\n",
    "# speeds_thred = thr(speeds, speed_thr)\n",
    "speed_arr, _ = create_speed_arr(\n",
    "    speeds=speeds,\n",
    "    depth_list=depth_list,\n",
    "    stim_dict=stim_dict_all,\n",
    "    mode=\"sort_by_depth\",\n",
    "    protocol=\"fix_length\",\n",
    "    blank_period=0,\n",
    "    frame_rate=frame_rate,\n",
    ")\n",
    "\n",
    "# For each CELL (not all ROIs), create an array for dFF trace.\n",
    "# Average across time for each trial, and then do an anova for all depths with all trial average as data points.\n",
    "anova_ps = []\n",
    "for roi in which_rois:\n",
    "    trace_arr, _ = create_trace_arr_per_roi(\n",
    "        which_roi=roi,\n",
    "        dffs=dffs_ast_all,\n",
    "        depth_list=depth_list,\n",
    "        stim_dict=stim_dict_all,\n",
    "        mode=\"sort_by_depth\",\n",
    "        protocol=\"fix_length\",\n",
    "        blank_period=0,\n",
    "        frame_rate=frame_rate,\n",
    "    )\n",
    "    (ndepths, ntrials, nframes) = trace_arr.shape\n",
    "    trace_arr[speed_arr < speed_thr_cal] = np.nan\n",
    "    trace_arr_mean_eachtrial = np.nanmean(trace_arr, axis=2)\n",
    "    groups = np.split(trace_arr_mean_eachtrial.reshape(len(depth_list),-1),len(depth_list))\n",
    "    groups = [x.ravel().tolist() for x in groups]\n",
    "    _, p = scipy.stats.f_oneway(*groups)\n",
    "    anova_ps.append(p)\n",
    "anova_ps = np.array(anova_ps)\n",
    "\n",
    "# # Gaussian fit for depth selectivity\n",
    "# from scipy.optimize import curve_fit\n",
    "# def gaussian_func(x, a, x0, sigma):\n",
    "#     return a * np.exp(-(x - x0) ** 2 / (2 * sigma ** 2))\n",
    "\n",
    "depth_neurons = which_rois[\n",
    "    np.where(anova_ps < 0.05)[0]]\n",
    "\n",
    "np.save(session_analysis_folder/\"plane0/anova_p.npy\", anova_ps)\n",
    "np.save(session_analysis_folder/\"plane0/depth_neurons.npy\", depth_neurons)\n",
    "\n",
    "max_depths = (\n",
    "    np.ones(len(depth_neurons)) * 9999\n",
    ")  # index no. from depth_list indicating the max depth of each depth neuron\n",
    "max_depths_values = (\n",
    "    np.ones(len(depth_neurons)) * 9999\n",
    ")  # depth value = the max depth of each depth neuron\n",
    "\n",
    "# for iroi in range(len(depth_neurons)):\n",
    "for iroi in [2]:\n",
    "    roi = depth_neurons[iroi]\n",
    "    trace_arr, _ = create_trace_arr_per_roi(\n",
    "        roi,\n",
    "        dffs_ast_all,\n",
    "        depth_list,\n",
    "        stim_dict,\n",
    "        mode=\"sort_by_depth\",\n",
    "        protocol=\"fix_length\",\n",
    "        blank_period=0,\n",
    "        frame_rate=15,\n",
    "    )\n",
    "    trace_arr_mean_eachtrial = np.nanmean(trace_arr, axis=2)\n",
    "    trace_arr_depth_mean = np.nanmean(trace_arr_mean_eachtrial, axis=1)\n",
    "    max_depth = np.where(trace_arr_depth_mean == np.max(trace_arr_depth_mean))[0]\n",
    "    max_depths[iroi] = max_depth\n",
    "    max_depths_values[iroi] = depth_list[max_depth[0]]\n",
    "    print(max_depth)\n",
    "\n",
    "max_depths[max_depths == 9999] = np.nan\n",
    "np.save(session_analysis_folder/\"plane0/max_depths_index.npy\", max_depths)\n",
    "np.save(session_analysis_folder/\"plane0/max_depths_values.npy\", max_depths_values)\n",
    "print(\"Depth neurons and max depths saved.\", flush=True)"
   ]
  },
  {
   "cell_type": "code",
   "execution_count": 71,
   "metadata": {},
   "outputs": [
    {
     "name": "stderr",
     "output_type": "stream",
     "text": [
      "/camp/home/hey2/.conda/envs/2p_analysis_cottage/lib/python3.9/site-packages/ipykernel/ipkernel.py:287: DeprecationWarning: `should_run_async` will not call `transform_cell` automatically in the future. Please pass the result to `transformed_cell` argument and any exception that happen during thetransform in `preprocessing_exc_tuple` in IPython 7.17 and above.\n",
      "  and should_run_async(code)\n"
     ]
    },
    {
     "name": "stdout",
     "output_type": "stream",
     "text": [
      "---------Fit gaussian depth tuning for protocol SpheresPermTubeReward/2---------\n",
      "---START STEP 6--- \n",
      " Fit gaussian depth tuning...\n",
      "MIN SIGMA 0.5\n",
      "0\n",
      "10\n",
      "25\n",
      "35\n",
      "53\n",
      "73\n",
      "93\n",
      "117\n",
      "150\n",
      "254\n",
      "---STEP 4 FINISHED.--- \n",
      "\n",
      "---------Fit gaussian depth tuning for protocol SpheresPermTubeRewardPlayback/2---------\n",
      "---START STEP 6--- \n",
      " Fit gaussian depth tuning...\n",
      "MIN SIGMA 0.5\n",
      "0\n",
      "10\n"
     ]
    },
    {
     "name": "stderr",
     "output_type": "stream",
     "text": [
      "<ipython-input-71-acbff381369e>:64: RuntimeWarning: Mean of empty slice\n",
      "  trace_arr_mean_eachtrial = np.nanmean(trace_arr, axis=2)\n"
     ]
    },
    {
     "name": "stdout",
     "output_type": "stream",
     "text": [
      "25\n",
      "35\n",
      "53\n",
      "73\n",
      "93\n",
      "117\n",
      "150\n",
      "254\n",
      "---STEP 4 FINISHED.--- \n",
      "\n"
     ]
    }
   ],
   "source": [
    "MIN_SIGMA=0.5\n",
    "\n",
    "def gaussian_func(x, a, x0, log_sigma,b):\n",
    "    a = a\n",
    "    sigma = np.exp(log_sigma)+MIN_SIGMA\n",
    "    return (a * np.exp(-(x - x0) ** 2) / (2 * sigma ** 2))+b\n",
    "protocol = protocols[0]\n",
    "session_analysis_folder_original = root/project/mouse/'Analysis'/session/protocol\n",
    "# Fit depth tuning curve\n",
    "for protocol in protocols:\n",
    "    print(f'---------Fit gaussian depth tuning for protocol {protocol}/{len(protocols)}---------', flush=True)\n",
    "    # ----- STEP1: Generate file path -----\n",
    "    flexilims_session = flz.get_flexilims_session(project_id=project)\n",
    "    all_protocol_recording_entries = get_all_recording_entries(project, mouse, session, protocol=protocol, flexilims_session=flexilims_session)\n",
    "\n",
    "    # make folder for this protocol (closedloop/playback)\n",
    "    root = Path(flz.PARAMETERS[\"data_root\"][\"processed\"])\n",
    "    session_protocol_folder = root/project/mouse/session/protocol\n",
    "    session_analysis_folder = root/project/mouse/'Analysis'/session/protocol\n",
    "        \n",
    "    with open(session_protocol_folder/\"plane0/img_VS_all.pickle\", \"rb\") as handle:\n",
    "        img_VS_all = pickle.load(handle)\n",
    "    with open(session_protocol_folder/\"plane0/stim_dict_all.pickle\", \"rb\") as handle:\n",
    "        stim_dict_all = pickle.load(handle)\n",
    "    dffs_ast_all = np.load(session_protocol_folder/\"plane0/dffs_ast_all.npy\")\n",
    "    \n",
    "    depth_neuron = np.load(session_analysis_folder_original/\"plane0/depth_neurons.npy\")\n",
    "    max_depths_index = np.load(session_analysis_folder/\"plane0/max_depths_index.npy\")\n",
    "        \n",
    "    print('---START STEP 6---', '\\n', 'Fit gaussian depth tuning...', flush=True)\n",
    "    print('MIN SIGMA', str(MIN_SIGMA), flush=True)\n",
    "    batch_num = 1\n",
    "    depth_min = 2\n",
    "    depth_max = 2000\n",
    "    gaussian_depth_fit_df = pd.DataFrame(columns=['ROI', 'a', 'x0_logged', 'log_sigma', 'b', 'preferred_depth_idx','r_sq'])\n",
    "    gaussian_depth_fit_df.ROI = depth_neurons\n",
    "    gaussian_depth_fit_df.preferred_depth_idx = max_depths_index\n",
    "    speeds = img_VS_all.MouseZ.diff() / img_VS_all.HarpTime.diff()  # m/s\n",
    "    speeds[0] = 0\n",
    "    # speed_thr = 0.01\n",
    "    # speeds_thred = thr(speeds, speed_thr)\n",
    "    speed_arr, _ = create_speed_arr(\n",
    "        speeds=speeds,\n",
    "        depth_list=depth_list,\n",
    "        stim_dict=stim_dict_all,\n",
    "        mode=\"sort_by_depth\",\n",
    "        protocol=\"fix_length\",\n",
    "        blank_period=0,\n",
    "        frame_rate=frame_rate,\n",
    "    )\n",
    "\n",
    "    for iroi, choose_roi in enumerate(depth_neurons):\n",
    "        roi = choose_roi\n",
    "        trace_arr, _ = create_trace_arr_per_roi(\n",
    "            which_roi=roi,\n",
    "            dffs=dffs_ast_all,\n",
    "            depth_list=depth_list,\n",
    "            stim_dict=stim_dict_all,\n",
    "            mode=\"sort_by_depth\",\n",
    "            protocol=\"fix_length\",\n",
    "            blank_period=0,\n",
    "            frame_rate=frame_rate,\n",
    "        )\n",
    "        (ndepths, ntrials, nframes) = trace_arr.shape\n",
    "        trace_arr[speed_arr < speed_thr_cal] = np.nan\n",
    "        trace_arr_mean_eachtrial = np.nanmean(trace_arr, axis=2)\n",
    "\n",
    "        # When open loop, there will be nan values in this array because of low running speed sometimes\n",
    "        trace_arr_mean_eachtrial = np.nan_to_num(trace_arr_mean_eachtrial)\n",
    "        x = np.log(np.repeat(np.array(depth_list) * 100, trace_arr_mean_eachtrial.shape[1]))\n",
    "        roi_number = np.where(depth_neurons == roi)[0][0]\n",
    "        popt_arr = []\n",
    "        r_sq_arr = []\n",
    "        for ibatch in range(batch_num):\n",
    "            np.random.seed(ibatch)\n",
    "            p0 = np.concatenate((np.abs(np.random.normal(size=1)),\n",
    "                                    np.atleast_1d(np.log(np.array(depth_list[int(max_depths[roi_number])]) * 100)),\n",
    "                                    np.abs(np.random.normal(size=1)),\n",
    "                                    np.random.normal(size=1))).flatten()\n",
    "            popt, pcov = curve_fit(gaussian_func, x, trace_arr_mean_eachtrial.flatten(),\n",
    "                                    p0=p0, maxfev=100000,\n",
    "                                    bounds=(\n",
    "                                    [0, np.log(depth_min), 0, -np.inf], [np.inf, np.log(depth_max), np.inf, np.inf]))\n",
    "\n",
    "            y_pred = gaussian_func(x, *popt)\n",
    "            r_sq = calculate_R_squared(trace_arr_mean_eachtrial.flatten(), y_pred)\n",
    "            popt_arr.append(popt)\n",
    "            r_sq_arr.append(r_sq)\n",
    "        idx_best = np.argmax(r_sq_arr)\n",
    "        popt_best = popt_arr[idx_best]\n",
    "        rsq_best = r_sq_arr[idx_best]\n",
    "\n",
    "        gaussian_depth_fit_df.iloc[iroi, 1:-1] = popt_best\n",
    "        gaussian_depth_fit_df.iloc[iroi, -1] = rsq_best\n",
    "\n",
    "        if iroi % 10 == 0:\n",
    "            print(roi, flush=True)\n",
    "\n",
    "    save_filename = session_analysis_folder/('plane0/gaussian_depth_tuning_fit_new_'+str(MIN_SIGMA)+'.pickle')\n",
    "    with open(save_filename, 'wb') as handle:\n",
    "        pickle.dump(gaussian_depth_fit_df, handle, protocol=pickle.HIGHEST_PROTOCOL)\n",
    "    print('---STEP 4 FINISHED.---', '\\n', flush=True)\n"
   ]
  },
  {
   "cell_type": "code",
   "execution_count": 97,
   "metadata": {},
   "outputs": [
    {
     "name": "stderr",
     "output_type": "stream",
     "text": [
      "/camp/home/hey2/.conda/envs/2p_analysis_cottage/lib/python3.9/site-packages/ipykernel/ipkernel.py:287: DeprecationWarning: `should_run_async` will not call `transform_cell` automatically in the future. Please pass the result to `transformed_cell` argument and any exception that happen during thetransform in `preprocessing_exc_tuple` in IPython 7.17 and above.\n",
      "  and should_run_async(code)\n"
     ]
    },
    {
     "data": {
      "text/plain": [
       "[0, 0.16071578518254373]"
      ]
     },
     "execution_count": 97,
     "metadata": {},
     "output_type": "execute_result"
    },
    {
     "data": {
      "image/png": "[encoded data removed]",
      "text/plain": [
       "<Figure size 432x288 with 1 Axes>"
      ]
     },
     "metadata": {
      "needs_background": "light"
     },
     "output_type": "display_data"
    }
   ],
   "source": [
    "fontsize_dict = {\n",
    "    'title': 10,\n",
    "    'xlabel': 12,\n",
    "    'ylabel': 12,\n",
    "    'xticks': 10,\n",
    "    'yticks': 10,\n",
    "    'legend': 5\n",
    "}\n",
    "plot_depth_tuning_curve(dffs=dffs_ast_all, \n",
    "                        speeds=speeds, \n",
    "                        roi=2, \n",
    "                        speed_thr_cal=speed_thr_cal, \n",
    "                        depth_list=depth_list, \n",
    "                        stim_dict=stim_dict_all, \n",
    "                        depth_neurons=depth_neurons, \n",
    "                        gaussian_depth=gaussian_depth_fit_df, \n",
    "                        fontsize_dict=fontsize_dict, \n",
    "                        this_depth=None, \n",
    "                        ylim=None, \n",
    "                        frame_rate=frame_rate)"
   ]
  },
  {
   "cell_type": "code",
   "execution_count": 76,
   "metadata": {},
   "outputs": [
    {
     "name": "stderr",
     "output_type": "stream",
     "text": [
      "/camp/home/hey2/.conda/envs/2p_analysis_cottage/lib/python3.9/site-packages/ipykernel/ipkernel.py:287: DeprecationWarning: `should_run_async` will not call `transform_cell` automatically in the future. Please pass the result to `transformed_cell` argument and any exception that happen during thetransform in `preprocessing_exc_tuple` in IPython 7.17 and above.\n",
      "  and should_run_async(code)\n"
     ]
    }
   ],
   "source": [
    "save_prefix = \"plane0/plots/depth_selectivity/\"\n",
    "if not os.path.exists(session_analysis_folder/save_prefix):\n",
    "    os.makedirs(session_analysis_folder/save_prefix)"
   ]
  },
  {
   "cell_type": "code",
   "execution_count": 77,
   "metadata": {},
   "outputs": [
    {
     "name": "stderr",
     "output_type": "stream",
     "text": [
      "/camp/home/hey2/.conda/envs/2p_analysis_cottage/lib/python3.9/site-packages/ipykernel/ipkernel.py:287: DeprecationWarning: `should_run_async` will not call `transform_cell` automatically in the future. Please pass the result to `transformed_cell` argument and any exception that happen during thetransform in `preprocessing_exc_tuple` in IPython 7.17 and above.\n",
      "  and should_run_async(code)\n"
     ]
    },
    {
     "data": {
      "text/plain": [
       "PosixPath('/camp/lab/znamenskiyp/home/shared/projects/hey2_3d-vision_foodres_20220101/PZAH8.2f/Analysis/S20230213/SpheresPermTubeRewardPlayback/plane0/plots/depth_selectivity')"
      ]
     },
     "execution_count": 77,
     "metadata": {},
     "output_type": "execute_result"
    }
   ],
   "source": [
    "session_analysis_folder/save_prefix\n"
   ]
  },
  {
   "cell_type": "code",
   "execution_count": 100,
   "metadata": {},
   "outputs": [
    {
     "name": "stderr",
     "output_type": "stream",
     "text": [
      "/camp/home/hey2/.conda/envs/2p_analysis_cottage/lib/python3.9/site-packages/ipykernel/ipkernel.py:287: DeprecationWarning: `should_run_async` will not call `transform_cell` automatically in the future. Please pass the result to `transformed_cell` argument and any exception that happen during thetransform in `preprocessing_exc_tuple` in IPython 7.17 and above.\n",
      "  and should_run_async(code)\n"
     ]
    },
    {
     "name": "stdout",
     "output_type": "stream",
     "text": [
      "---------Fit gaussian depth tuning for protocol SpheresPermTubeReward/2---------\n",
      "---START STEP 6--- \n",
      " Fit gaussian depth tuning...\n",
      "MIN SIGMA 0.5\n"
     ]
    },
    {
     "ename": "ValueError",
     "evalue": "cannot convert float NaN to integer",
     "output_type": "error",
     "traceback": [
      "\u001b[0;31m---------------------------------------------------------------------------\u001b[0m",
      "\u001b[0;31mValueError\u001b[0m                                Traceback (most recent call last)",
      "\u001b[0;32m<ipython-input-100-b85f4acb1295>\u001b[0m in \u001b[0;36m<module>\u001b[0;34m\u001b[0m\n\u001b[1;32m     71\u001b[0m             \u001b[0mnp\u001b[0m\u001b[0;34m.\u001b[0m\u001b[0mrandom\u001b[0m\u001b[0;34m.\u001b[0m\u001b[0mseed\u001b[0m\u001b[0;34m(\u001b[0m\u001b[0mibatch\u001b[0m\u001b[0;34m)\u001b[0m\u001b[0;34m\u001b[0m\u001b[0;34m\u001b[0m\u001b[0m\n\u001b[1;32m     72\u001b[0m             p0 = np.concatenate((np.abs(np.random.normal(size=1)),\n\u001b[0;32m---> 73\u001b[0;31m                                     \u001b[0mnp\u001b[0m\u001b[0;34m.\u001b[0m\u001b[0matleast_1d\u001b[0m\u001b[0;34m(\u001b[0m\u001b[0mnp\u001b[0m\u001b[0;34m.\u001b[0m\u001b[0mlog\u001b[0m\u001b[0;34m(\u001b[0m\u001b[0mnp\u001b[0m\u001b[0;34m.\u001b[0m\u001b[0marray\u001b[0m\u001b[0;34m(\u001b[0m\u001b[0mdepth_list\u001b[0m\u001b[0;34m[\u001b[0m\u001b[0mint\u001b[0m\u001b[0;34m(\u001b[0m\u001b[0mmax_depths\u001b[0m\u001b[0;34m[\u001b[0m\u001b[0mroi_number\u001b[0m\u001b[0;34m]\u001b[0m\u001b[0;34m)\u001b[0m\u001b[0;34m]\u001b[0m\u001b[0;34m)\u001b[0m \u001b[0;34m*\u001b[0m \u001b[0;36m100\u001b[0m\u001b[0;34m)\u001b[0m\u001b[0;34m)\u001b[0m\u001b[0;34m,\u001b[0m\u001b[0;34m\u001b[0m\u001b[0;34m\u001b[0m\u001b[0m\n\u001b[0m\u001b[1;32m     74\u001b[0m                                     \u001b[0mnp\u001b[0m\u001b[0;34m.\u001b[0m\u001b[0mabs\u001b[0m\u001b[0;34m(\u001b[0m\u001b[0mnp\u001b[0m\u001b[0;34m.\u001b[0m\u001b[0mrandom\u001b[0m\u001b[0;34m.\u001b[0m\u001b[0mnormal\u001b[0m\u001b[0;34m(\u001b[0m\u001b[0msize\u001b[0m\u001b[0;34m=\u001b[0m\u001b[0;36m1\u001b[0m\u001b[0;34m)\u001b[0m\u001b[0;34m)\u001b[0m\u001b[0;34m,\u001b[0m\u001b[0;34m\u001b[0m\u001b[0;34m\u001b[0m\u001b[0m\n\u001b[1;32m     75\u001b[0m                                     np.random.normal(size=1))).flatten()\n",
      "\u001b[0;31mValueError\u001b[0m: cannot convert float NaN to integer"
     ]
    }
   ],
   "source": [
    "manual_choose_rois = True\n",
    "manually_chosen_rois = [0,1,2]\n",
    "protocol = protocols[0]\n",
    "session_analysis_folder_original = root/project/mouse/'Analysis'/session/protocol\n",
    "# Fit depth tuning curve\n",
    "for protocol in protocols:\n",
    "    print(f'---------Fit gaussian depth tuning for protocol {protocol}/{len(protocols)}---------', flush=True)\n",
    "    # ----- STEP1: Generate file path -----\n",
    "    flexilims_session = flz.get_flexilims_session(project_id=project)\n",
    "    all_protocol_recording_entries = get_all_recording_entries(project, mouse, session, protocol=protocol, flexilims_session=flexilims_session)\n",
    "\n",
    "    # make folder for this protocol (closedloop/playback)\n",
    "    root = Path(flz.PARAMETERS[\"data_root\"][\"processed\"])\n",
    "    session_protocol_folder = root/project/mouse/session/protocol\n",
    "    session_analysis_folder = root/project/mouse/'Analysis'/session/protocol\n",
    "        \n",
    "    with open(session_protocol_folder/\"plane0/img_VS_all.pickle\", \"rb\") as handle:\n",
    "        img_VS_all = pickle.load(handle)\n",
    "    with open(session_protocol_folder/\"plane0/stim_dict_all.pickle\", \"rb\") as handle:\n",
    "        stim_dict_all = pickle.load(handle)\n",
    "    dffs_ast_all = np.load(session_protocol_folder/\"plane0/dffs_ast_all.npy\")\n",
    "    \n",
    "    depth_neuron = np.load(session_analysis_folder_original/\"plane0/depth_neurons.npy\")\n",
    "    max_depths= np.load(session_analysis_folder_original/\"plane0/max_depths_index.npy\")\n",
    "        \n",
    "    print('---START STEP 6---', '\\n', 'Fit gaussian depth tuning...', flush=True)\n",
    "    print('MIN SIGMA', str(MIN_SIGMA), flush=True)\n",
    "    batch_num = 5\n",
    "    depth_min = 2\n",
    "    depth_max = 2000\n",
    "    gaussian_depth_fit_df = pd.DataFrame(columns=['ROI', 'preferred_depth_idx', 'a', 'x0_logged', 'log_sigma', 'b','r_sq'])\n",
    "    gaussian_depth_fit_df.ROI = depth_neurons\n",
    "    gaussian_depth_fit_df.preferred_depth_idx = max_depths_index\n",
    "    speeds = img_VS_all.MouseZ.diff() / img_VS_all.HarpTime.diff()  # m/s\n",
    "    speeds[0] = 0\n",
    "    # speed_thr = 0.01\n",
    "    # speeds_thred = thr(speeds, speed_thr)\n",
    "    speed_arr, _ = create_speed_arr(\n",
    "        speeds=speeds,\n",
    "        depth_list=depth_list,\n",
    "        stim_dict=stim_dict_all,\n",
    "        mode=\"sort_by_depth\",\n",
    "        protocol=\"fix_length\",\n",
    "        blank_period=0,\n",
    "        frame_rate=frame_rate,\n",
    "    )\n",
    "\n",
    "    for iroi, choose_roi in enumerate(depth_neurons):\n",
    "        roi = choose_roi\n",
    "        trace_arr, _ = create_trace_arr_per_roi(\n",
    "            which_roi=roi,\n",
    "            dffs=dffs_ast_all,\n",
    "            depth_list=depth_list,\n",
    "            stim_dict=stim_dict_all,\n",
    "            mode=\"sort_by_depth\",\n",
    "            protocol=\"fix_length\",\n",
    "            blank_period=0,\n",
    "            frame_rate=frame_rate,\n",
    "        )\n",
    "        (ndepths, ntrials, nframes) = trace_arr.shape\n",
    "        trace_arr[speed_arr < speed_thr_cal] = np.nan\n",
    "        trace_arr_mean_eachtrial = np.nanmean(trace_arr, axis=2)\n",
    "\n",
    "        # When open loop, there will be nan values in this array because of low running speed sometimes\n",
    "        trace_arr_mean_eachtrial = np.nan_to_num(trace_arr_mean_eachtrial)\n",
    "        x = np.log(np.repeat(np.array(depth_list) * 100, trace_arr_mean_eachtrial.shape[1]))\n",
    "        roi_number = np.where(depth_neurons == roi)[0][0]\n",
    "        popt_arr = []\n",
    "        r_sq_arr = []\n",
    "        for ibatch in range(batch_num):\n",
    "            np.random.seed(ibatch)\n",
    "            p0 = np.concatenate((np.abs(np.random.normal(size=1)),\n",
    "                                    np.atleast_1d(np.log(np.array(depth_list[int(max_depths[roi_number])]) * 100)),\n",
    "                                    np.abs(np.random.normal(size=1)),\n",
    "                                    np.random.normal(size=1))).flatten()\n",
    "            popt, pcov = curve_fit(gaussian_func, x, trace_arr_mean_eachtrial.flatten(),\n",
    "                                    p0=p0, maxfev=100000,\n",
    "                                    bounds=(\n",
    "                                    [0, np.log(depth_min), 0, -np.inf], [np.inf, np.log(depth_max), np.inf, np.inf]))\n",
    "\n",
    "            y_pred = gaussian_func(x, *popt)\n",
    "            r_sq = calculate_R_squared(trace_arr_mean_eachtrial.flatten(), y_pred)\n",
    "            popt_arr.append(popt)\n",
    "            r_sq_arr.append(r_sq)\n",
    "        idx_best = np.argmax(r_sq_arr)\n",
    "        popt_best = popt_arr[idx_best]\n",
    "        rsq_best = r_sq_arr[idx_best]\n",
    "\n",
    "        gaussian_depth_fit_df.iloc[iroi, 2:-1] = popt_best\n",
    "        gaussian_depth_fit_df.iloc[iroi, -1] = rsq_best\n",
    "\n",
    "        if iroi % 10 == 0:\n",
    "            print(roi, flush=True)\n",
    "\n",
    "    save_filename = session_analysis_folder/('plane0/gaussian_depth_tuning_fit_new_'+str(MIN_SIGMA)+'.pickle')\n",
    "    with open(save_filename, 'wb') as handle:\n",
    "        pickle.dump(gaussian_depth_fit_df, handle, protocol=pickle.HIGHEST_PROTOCOL)\n",
    "    print('---STEP 6 FINISHED.---', '\\n', flush=True)\n",
    "    \n",
    "    print('---Start plotting.---', '\\n', flush=True)\n",
    "    save_prefix = 'plane0/plots/gaussian_depth_tuning_fit_new_'+str(MIN_SIGMA)+'/'\n",
    "    if not os.path.exists(session_analysis_folder/save_prefix):\n",
    "        os.makedirs(session_analysis_folder/save_prefix)\n",
    "    with open(session_analysis_folder/('plane0/gaussian_depth_tuning_fit_new_'+str(MIN_SIGMA)+'.pickle'), 'rb') as handle:\n",
    "        gaussian_depth_fit_df = pickle.load(handle)\n",
    "\n",
    "    with warnings.catch_warnings():\n",
    "        warnings.simplefilter(\"ignore\", category=RuntimeWarning)\n",
    "        if manual_choose_rois:\n",
    "            select_rois = manually_chosen_rois\n",
    "            for choose_roi in select_rois:\n",
    "                roi = choose_roi\n",
    "                trace_arr_noblank, _ = create_trace_arr_per_roi(\n",
    "                    which_roi=roi,\n",
    "                    dffs=dffs_ast_all,\n",
    "                    depth_list=depth_list,\n",
    "                    stim_dict=stim_dict_all,\n",
    "                    mode=\"sort_by_depth\",\n",
    "                    protocol=\"fix_length\",\n",
    "                    blank_period=0,\n",
    "                    frame_rate=frame_rate,\n",
    "                )\n",
    "                trace_arr_noblank[speed_arr < speed_thr_cal] = np.nan\n",
    "\n",
    "                plt.figure(figsize=(5, 5))\n",
    "                popt = gaussian_depth_fit_df[gaussian_depth_fit_df.ROI==roi].values[0][2:-1]\n",
    "                r_sq = gaussian_depth_fit_df[gaussian_depth_fit_df.ROI==roi].values[0][-1]\n",
    "                plot_depth_tuning_curve(dffs=dffs_ast_all, \n",
    "                                        speeds=speeds, \n",
    "                                        roi=roi, \n",
    "                                        speed_thr_cal=speed_thr_cal, \n",
    "                                        depth_list=depth_list, \n",
    "                                        stim_dict=stim_dict_all, \n",
    "                                        depth_neurons=depth_neurons, \n",
    "                                        gaussian_depth=gaussian_depth_fit_df, \n",
    "                                        fontsize_dict=fontsize_dict, \n",
    "                                        this_depth=None, \n",
    "                                        ylim=None, \n",
    "                                        frame_rate=frame_rate)\n",
    "\n",
    "                if not os.path.exists(session_analysis_folder/save_prefix/'examples/'):\n",
    "                    os.makedirs(session_analysis_folder/save_prefix/'examples/')\n",
    "\n",
    "                plt.savefig(session_analysis_folder/save_prefix/('examples/roi' + str(choose_roi) + '.pdf'))\n",
    "                print('ROI' + str(choose_roi), flush=True)\n",
    "\n",
    "        else:\n",
    "            for this_depth in range(len(depth_list)):\n",
    "\n",
    "                if not os.path.exists(\n",
    "                        session_analysis_folder/save_prefix/('depth'+str(depth_list[this_depth]))):\n",
    "                    os.makedirs(session_analysis_folder/save_prefix/('depth'+str(depth_list[this_depth])))\n",
    "                save_folder = session_analysis_folder/save_prefix /('depth' + str(depth_list[this_depth]))\n",
    "                if 'Playback' in protocol:\n",
    "                    neurons_this_depth = depth_neurons[max_depths == this_depth]\n",
    "                else:\n",
    "                    neurons_this_depth = depth_neurons[max_depths == this_depth]\n",
    "                if len(neurons_this_depth) > 0:\n",
    "                    rois_mins, rois_maxs = segment_arr(np.arange(len(neurons_this_depth)), segment_size=10)\n",
    "                    for rois_min, rois_max in zip(rois_mins, rois_maxs):\n",
    "                        if rois_min != rois_max:\n",
    "                            select_rois = np.array(neurons_this_depth[rois_min:rois_max])\n",
    "                        else:\n",
    "                            select_rois = np.array(neurons_this_depth[rois_min:rois_max + 1])\n",
    "\n",
    "                        if len(select_rois) > 1:\n",
    "                            pdf_name = save_folder/('roi' + str(select_rois[0]) + '-' + str(\n",
    "                                select_rois[-1]) + '.pdf')\n",
    "                        elif len(select_rois) == 1:\n",
    "                            pdf_name = save_folder /('roi' + str(select_rois) + '.pdf')\n",
    "                        with PdfPages(pdf_name) as pdf:\n",
    "\n",
    "                            for choose_roi in select_rois:\n",
    "\n",
    "                                roi = choose_roi\n",
    "                                trace_arr_noblank, _ = create_trace_arr_per_roi(\n",
    "                                    which_roi=roi,\n",
    "                                    dffs=dffs_ast_all,\n",
    "                                    depth_list=depth_list,\n",
    "                                    stim_dict=stim_dict_all,\n",
    "                                    mode=\"sort_by_depth\",\n",
    "                                    protocol=\"fix_length\",\n",
    "                                    blank_period=0,\n",
    "                                    frame_rate=frame_rate,\n",
    "                                )\n",
    "                                trace_arr_noblank[speed_arr < speed_thr_cal] = np.nan\n",
    "\n",
    "                                plt.figure(figsize=(5, 5))\n",
    "                                popt = gaussian_depth_fit_df[gaussian_depth_fit_df.ROI == roi].values[0][2:-1]\n",
    "                                r_sq = gaussian_depth_fit_df[gaussian_depth_fit_df.ROI == roi].values[0][-1]\n",
    "                                plot_depth_tuning_curve(dffs=dffs_ast_all, \n",
    "                                                        speeds=speeds, \n",
    "                                                        roi=roi, \n",
    "                                                        speed_thr_cal=speed_thr_cal, \n",
    "                                                        depth_list=depth_list, \n",
    "                                                        stim_dict=stim_dict_all, \n",
    "                                                        depth_neurons=depth_neurons, \n",
    "                                                        gaussian_depth=gaussian_depth_fit_df, \n",
    "                                                        fontsize_dict=fontsize_dict, \n",
    "                                                        this_depth=None, \n",
    "                                                        ylim=None, \n",
    "                                                        frame_rate=frame_rate)\n",
    "\n",
    "                                pdf.savefig()\n",
    "                                plt.close()\n",
    "\n",
    "                                print('ROI' + str(choose_roi), flush=True)"
   ]
  },
  {
   "cell_type": "code",
   "execution_count": 103,
   "metadata": {},
   "outputs": [
    {
     "name": "stderr",
     "output_type": "stream",
     "text": [
      "/camp/home/hey2/.conda/envs/2p_analysis_cottage/lib/python3.9/site-packages/ipykernel/ipkernel.py:287: DeprecationWarning: `should_run_async` will not call `transform_cell` automatically in the future. Please pass the result to `transformed_cell` argument and any exception that happen during thetransform in `preprocessing_exc_tuple` in IPython 7.17 and above.\n",
      "  and should_run_async(code)\n"
     ]
    }
   ],
   "source": [
    "max_depths= np.load(session_analysis_folder_original/\"plane0/max_depths_index.npy\")"
   ]
  },
  {
   "cell_type": "code",
   "execution_count": 104,
   "metadata": {},
   "outputs": [
    {
     "name": "stderr",
     "output_type": "stream",
     "text": [
      "/camp/home/hey2/.conda/envs/2p_analysis_cottage/lib/python3.9/site-packages/ipykernel/ipkernel.py:287: DeprecationWarning: `should_run_async` will not call `transform_cell` automatically in the future. Please pass the result to `transformed_cell` argument and any exception that happen during thetransform in `preprocessing_exc_tuple` in IPython 7.17 and above.\n",
      "  and should_run_async(code)\n"
     ]
    },
    {
     "data": {
      "text/plain": [
       "array([nan, nan,  5., nan, nan, nan, nan, nan, nan, nan, nan, nan, nan,\n",
       "       nan, nan, nan, nan, nan, nan, nan, nan, nan, nan, nan, nan, nan,\n",
       "       nan, nan, nan, nan, nan, nan, nan, nan, nan, nan, nan, nan, nan,\n",
       "       nan, nan, nan, nan, nan, nan, nan, nan, nan, nan, nan, nan, nan,\n",
       "       nan, nan, nan, nan, nan, nan, nan, nan, nan, nan, nan, nan, nan,\n",
       "       nan, nan, nan, nan, nan, nan, nan, nan, nan, nan, nan, nan, nan,\n",
       "       nan, nan, nan, nan, nan, nan, nan, nan, nan, nan, nan, nan, nan,\n",
       "       nan, nan, nan])"
      ]
     },
     "execution_count": 104,
     "metadata": {},
     "output_type": "execute_result"
    }
   ],
   "source": [
    "max_depths\n"
   ]
  },
  {
   "cell_type": "code",
   "execution_count": null,
   "metadata": {},
   "outputs": [],
   "source": []
  }
 ],
 "metadata": {
  "kernelspec": {
   "display_name": "2p_analysis_cottage",
   "language": "python",
   "name": "python3"
  },
  "language_info": {
   "codemirror_mode": {
    "name": "ipython",
    "version": 3
   },
   "file_extension": ".py",
   "mimetype": "text/x-python",
   "name": "python",
   "nbconvert_exporter": "python",
   "pygments_lexer": "ipython3",
   "version": "3.9.5"
  },
  "orig_nbformat": 4,
  "vscode": {
   "interpreter": {
    "hash": "939011bda4ac240316e77cd9a4c8c2e7aac31e833bb6d639fcef3c3405a9852b"
   }
  }
 },
 "nbformat": 4,
 "nbformat_minor": 2
}
